{
 "cells": [
  {
   "cell_type": "markdown",
   "metadata": {},
   "source": [
    "# **Pandas**"
   ]
  },
  {
   "cell_type": "code",
   "execution_count": 531,
   "metadata": {},
   "outputs": [],
   "source": [
    "import pandas as pd\n",
    "import openpyxl"
   ]
  },
  {
   "cell_type": "markdown",
   "metadata": {},
   "source": [
    "## **1. Creating, Reading, and Writing Data**"
   ]
  },
  {
   "cell_type": "markdown",
   "metadata": {},
   "source": [
    "### Creating a DataFrame\n",
    "\n",
    "A DataFrame is the main data structure in Pandas, which represents a table with rows and columns. A DataFrame can be created from various sources: dictionaries, lists, NumPy arrays, and other data structures."
   ]
  },
  {
   "cell_type": "markdown",
   "metadata": {},
   "source": [
    "#### Example 1: Creating a DataFrame from a Dictionary"
   ]
  },
  {
   "cell_type": "code",
   "execution_count": 532,
   "metadata": {},
   "outputs": [
    {
     "name": "stdout",
     "output_type": "stream",
     "text": [
      "     Name  Age            City\n",
      "0  Alexey   25          Moscow\n",
      "1   Maria   30  St. Petersburg\n",
      "2    Ivan   22     Novosibirsk\n"
     ]
    }
   ],
   "source": [
    "# Creating a DataFrame from a dictionary\n",
    "data = {\n",
    "    'Name': ['Alexey', 'Maria', 'Ivan'],\n",
    "    'Age': [25, 30, 22],\n",
    "    'City': ['Moscow', 'St. Petersburg', 'Novosibirsk']\n",
    "}\n",
    "\n",
    "df = pd.DataFrame(data)\n",
    "print(df)"
   ]
  },
  {
   "cell_type": "markdown",
   "metadata": {},
   "source": [
    "#### Example 2: Creating a DataFrame from a List of Lists"
   ]
  },
  {
   "cell_type": "code",
   "execution_count": 533,
   "metadata": {},
   "outputs": [
    {
     "name": "stdout",
     "output_type": "stream",
     "text": [
      "     Name  Age            City\n",
      "0  Alexey   25          Moscow\n",
      "1   Maria   30  St. Petersburg\n",
      "2    Ivan   22     Novosibirsk\n"
     ]
    }
   ],
   "source": [
    "# Creating a DataFrame from a list of lists\n",
    "data = [\n",
    "    ['Alexey', 25, 'Moscow'],\n",
    "    ['Maria', 30, 'St. Petersburg'],\n",
    "    ['Ivan', 22, 'Novosibirsk']\n",
    "]\n",
    "\n",
    "df = pd.DataFrame(data, columns=['Name', 'Age', 'City'])\n",
    "print(df)"
   ]
  },
  {
   "cell_type": "markdown",
   "metadata": {},
   "source": [
    "#### Example 3: Creating a DataFrame with Specified Indices"
   ]
  },
  {
   "cell_type": "code",
   "execution_count": 534,
   "metadata": {},
   "outputs": [
    {
     "name": "stdout",
     "output_type": "stream",
     "text": [
      "     Name  Age            City\n",
      "a  Alexey   25          Moscow\n",
      "b   Maria   30  St. Petersburg\n",
      "c    Ivan   22     Novosibirsk\n"
     ]
    }
   ],
   "source": [
    "# Creating a DataFrame with specified indices\n",
    "data = [\n",
    "    ['Alexey', 25, 'Moscow'],\n",
    "    ['Maria', 30, 'St. Petersburg'],\n",
    "    ['Ivan', 22, 'Novosibirsk']\n",
    "]\n",
    "\n",
    "df = pd.DataFrame(data, columns=['Name', 'Age', 'City'], index=['a', 'b', 'c'])\n",
    "print(df)"
   ]
  },
  {
   "cell_type": "markdown",
   "metadata": {},
   "source": [
    "### Reading Data from a File\n",
    "\n",
    "Pandas supports reading data from various formats such as CSV, Excel, JSON, and others."
   ]
  },
  {
   "cell_type": "markdown",
   "metadata": {},
   "source": [
    "#### Example 4: Reading Data from a CSV File"
   ]
  },
  {
   "cell_type": "code",
   "execution_count": 535,
   "metadata": {},
   "outputs": [
    {
     "name": "stdout",
     "output_type": "stream",
     "text": [
      "        Name  Age  Salary             City    HireDate\n",
      "0     Zhanna   33   89811           Moscow  2022-02-28\n",
      "1     Galina   55   42811    Yekaterinburg  2019-09-30\n",
      "2       Ivan   54   96250            Kazan  2017-05-31\n",
      "3     Dmitry   44  112082      Novosibirsk  2021-06-30\n",
      "4     Zhanna   45   74754           Moscow  2022-08-31\n",
      "..       ...  ...     ...              ...         ...\n",
      "95  Lyudmila   30   72635            Kazan  2016-11-30\n",
      "96    Kirill   27  103208      Novosibirsk  2020-02-29\n",
      "97    Zhanna   37   73828  SaintPetersburg  2022-12-31\n",
      "98    Kirill   50   58711            Kazan  2018-01-31\n",
      "99      Ivan   24   43420    Yekaterinburg  2015-12-31\n",
      "\n",
      "[100 rows x 5 columns]\n"
     ]
    }
   ],
   "source": [
    "# Reading a CSV file\n",
    "df = pd.read_csv('data.csv')\n",
    "print(df)"
   ]
  },
  {
   "cell_type": "markdown",
   "metadata": {},
   "source": [
    "#### Example 5: Reading Data from an Excel File"
   ]
  },
  {
   "cell_type": "code",
   "execution_count": 536,
   "metadata": {},
   "outputs": [
    {
     "name": "stdout",
     "output_type": "stream",
     "text": [
      "        Name  Age  Salary             City    HireDate\n",
      "0     Zhanna   33   89811           Moscow  2022-02-28\n",
      "1     Galina   55   42811    Yekaterinburg  2019-09-30\n",
      "2       Ivan   54   96250            Kazan  2017-05-31\n",
      "3     Dmitry   44  112082      Novosibirsk  2021-06-30\n",
      "4     Zhanna   45   74754           Moscow  2022-08-31\n",
      "..       ...  ...     ...              ...         ...\n",
      "95  Lyudmila   30   72635            Kazan  2016-11-30\n",
      "96    Kirill   27  103208      Novosibirsk  2020-02-29\n",
      "97    Zhanna   37   73828  SaintPetersburg  2022-12-31\n",
      "98    Kirill   50   58711            Kazan  2018-01-31\n",
      "99      Ivan   24   43420    Yekaterinburg  2015-12-31\n",
      "\n",
      "[100 rows x 5 columns]\n"
     ]
    }
   ],
   "source": [
    "# Reading an Excel file\n",
    "df = pd.read_excel('data.xlsx')\n",
    "print(df)"
   ]
  },
  {
   "cell_type": "markdown",
   "metadata": {},
   "source": [
    "#### Example 6: Reading Data from a JSON File"
   ]
  },
  {
   "cell_type": "code",
   "execution_count": 537,
   "metadata": {},
   "outputs": [
    {
     "name": "stdout",
     "output_type": "stream",
     "text": [
      "        Name  Age  Salary             City    HireDate\n",
      "0     Zhanna   33   89811           Moscow  2022-02-28\n",
      "1     Galina   55   42811    Yekaterinburg  2019-09-30\n",
      "2       Ivan   54   96250            Kazan  2017-05-31\n",
      "3     Dmitry   44  112082      Novosibirsk  2021-06-30\n",
      "4     Zhanna   45   74754           Moscow  2022-08-31\n",
      "..       ...  ...     ...              ...         ...\n",
      "95  Lyudmila   30   72635            Kazan  2016-11-30\n",
      "96    Kirill   27  103208      Novosibirsk  2020-02-29\n",
      "97    Zhanna   37   73828  SaintPetersburg  2022-12-31\n",
      "98    Kirill   50   58711            Kazan  2018-01-31\n",
      "99      Ivan   24   43420    Yekaterinburg  2015-12-31\n",
      "\n",
      "[100 rows x 5 columns]\n"
     ]
    }
   ],
   "source": [
    "# Reading a JSON file\n",
    "df = pd.read_json('data.json')\n",
    "print(df)"
   ]
  },
  {
   "cell_type": "markdown",
   "metadata": {},
   "source": [
    "### Writing Data to a File\n",
    "\n",
    "Pandas also supports writing data to various formats."
   ]
  },
  {
   "cell_type": "markdown",
   "metadata": {},
   "source": [
    "#### Example 7: Writing a DataFrame to a CSV File"
   ]
  },
  {
   "cell_type": "code",
   "execution_count": 538,
   "metadata": {},
   "outputs": [],
   "source": [
    "# Writing a DataFrame to a CSV file\n",
    "df.to_csv('output.csv', index=False)\n",
    "\n",
    "# Note: The `index=False` parameter indicates that the index should not be written to the file."
   ]
  },
  {
   "cell_type": "markdown",
   "metadata": {},
   "source": [
    "#### Example 8: Writing a DataFrame to an Excel File"
   ]
  },
  {
   "cell_type": "code",
   "execution_count": 539,
   "metadata": {},
   "outputs": [],
   "source": [
    "# Writing a DataFrame to an Excel file\n",
    "df.to_excel('output.xlsx', index=False)"
   ]
  },
  {
   "cell_type": "markdown",
   "metadata": {},
   "source": [
    "#### Example 9: Writing a DataFrame to a JSON File"
   ]
  },
  {
   "cell_type": "code",
   "execution_count": 540,
   "metadata": {},
   "outputs": [],
   "source": [
    "# Writing a DataFrame to a JSON file\n",
    "df.to_json('output.json')"
   ]
  },
  {
   "cell_type": "code",
   "execution_count": 541,
   "metadata": {},
   "outputs": [],
   "source": [
    "df.to_json('output.json', orient='records', indent=4, force_ascii=True)"
   ]
  },
  {
   "cell_type": "markdown",
   "metadata": {},
   "source": [
    "Parameters of the `to_json()` method\n",
    "\n",
    "`orient`:\n",
    "- 'records' – saves data as a list of dictionaries (each dictionary is a row in the DataFrame).\n",
    "- 'split' – saves data as separate keys: index, columns, data.\n",
    "- 'index' – uses indices as top-level keys.\n",
    "- 'columns' – uses column names as top-level keys.\n",
    "- 'values' – saves only values (without indices and column names).\n",
    "- 'table' – saves data in a format compatible with Table Schema.\n",
    "\n",
    "`indent`:\n",
    "- Specifies the number of spaces for indentation. If indent is not specified, JSON will be saved in one line.\n",
    "\n",
    "`force_ascii`:\n",
    "- If False, non-ASCII characters (e.g., Cyrillic) are saved as is. If True, they are converted to escape sequences."
   ]
  },
  {
   "cell_type": "markdown",
   "metadata": {},
   "source": [
    "## **2. Indexing, Selection, and Assignment**\n",
    "\n",
    "In Pandas, there are several ways to select data from a DataFrame. In this section, we will look at the main methods of indexing, selection, and data assignment."
   ]
  },
  {
   "cell_type": "markdown",
   "metadata": {},
   "source": [
    "### Selecting Columns"
   ]
  },
  {
   "cell_type": "markdown",
   "metadata": {},
   "source": [
    "#### Example 1: Selecting a Single Column\n",
    "To select a single column, use the syntax `df['column_name']`."
   ]
  },
  {
   "cell_type": "code",
   "execution_count": 542,
   "metadata": {},
   "outputs": [
    {
     "name": "stdout",
     "output_type": "stream",
     "text": [
      "0    Alexey\n",
      "1     Maria\n",
      "2      Ivan\n",
      "Name: Name, dtype: object\n"
     ]
    }
   ],
   "source": [
    "# Creating a DataFrame\n",
    "data = {\n",
    "    'Name': ['Alexey', 'Maria', 'Ivan'],\n",
    "    'Age': [25, 30, 22],\n",
    "    'City': ['Moscow', 'St. Petersburg', 'Novosibirsk']\n",
    "}\n",
    "df = pd.DataFrame(data)\n",
    "\n",
    "# Selecting the \"Name\" column\n",
    "names = df['Name']\n",
    "print(names)"
   ]
  },
  {
   "cell_type": "markdown",
   "metadata": {},
   "source": [
    "#### Example 2: Selecting Multiple Columns\n",
    "To select multiple columns, use the syntax `df[['column1', 'column2']]`."
   ]
  },
  {
   "cell_type": "code",
   "execution_count": 543,
   "metadata": {},
   "outputs": [
    {
     "name": "stdout",
     "output_type": "stream",
     "text": [
      "     Name            City\n",
      "0  Alexey          Moscow\n",
      "1   Maria  St. Petersburg\n",
      "2    Ivan     Novosibirsk\n"
     ]
    }
   ],
   "source": [
    "# Selecting the \"Name\" and \"City\" columns\n",
    "subset = df[['Name', 'City']]\n",
    "print(subset)"
   ]
  },
  {
   "cell_type": "markdown",
   "metadata": {},
   "source": [
    "### Selecting Rows"
   ]
  },
  {
   "cell_type": "markdown",
   "metadata": {},
   "source": [
    "#### Example 3: Selecting Rows by Index Using `.iloc`\n",
    "The `.iloc` method is used to select rows by their numerical index."
   ]
  },
  {
   "cell_type": "code",
   "execution_count": 544,
   "metadata": {},
   "outputs": [
    {
     "name": "stdout",
     "output_type": "stream",
     "text": [
      "Name    Alexey\n",
      "Age         25\n",
      "City    Moscow\n",
      "Name: 0, dtype: object\n"
     ]
    }
   ],
   "source": [
    "# Selecting the first row\n",
    "first_row = df.iloc[0]\n",
    "print(first_row)"
   ]
  },
  {
   "cell_type": "markdown",
   "metadata": {},
   "source": [
    "#### Example 4: Selecting Multiple Rows by Index"
   ]
  },
  {
   "cell_type": "code",
   "execution_count": 545,
   "metadata": {},
   "outputs": [
    {
     "name": "stdout",
     "output_type": "stream",
     "text": [
      "     Name  Age            City\n",
      "0  Alexey   25          Moscow\n",
      "1   Maria   30  St. Petersburg\n"
     ]
    }
   ],
   "source": [
    "# Selecting the first two rows\n",
    "first_two_rows = df.iloc[:2]\n",
    "print(first_two_rows)"
   ]
  },
  {
   "cell_type": "markdown",
   "metadata": {},
   "source": [
    "#### Example 5: Selecting Rows by Condition\n",
    "To select rows by condition, use boolean indexing."
   ]
  },
  {
   "cell_type": "code",
   "execution_count": 546,
   "metadata": {},
   "outputs": [
    {
     "name": "stdout",
     "output_type": "stream",
     "text": [
      "    Name  Age            City\n",
      "1  Maria   30  St. Petersburg\n"
     ]
    }
   ],
   "source": [
    "# Selecting rows where age is greater than 25\n",
    "adults = df[df['Age'] > 25]\n",
    "print(adults)"
   ]
  },
  {
   "cell_type": "markdown",
   "metadata": {},
   "source": [
    "### Selecting Specific Cells"
   ]
  },
  {
   "cell_type": "markdown",
   "metadata": {},
   "source": [
    "#### Example 6: Selecting a Value by Row and Column Index Using `.iloc`"
   ]
  },
  {
   "cell_type": "code",
   "execution_count": 547,
   "metadata": {},
   "outputs": [
    {
     "name": "stdout",
     "output_type": "stream",
     "text": [
      "25\n"
     ]
    }
   ],
   "source": [
    "# Selecting a value from the first row and second column\n",
    "value = df.iloc[0, 1]\n",
    "print(value)"
   ]
  },
  {
   "cell_type": "markdown",
   "metadata": {},
   "source": [
    "#### Example 7: Selecting a Value by Row and Column Label Using `.loc`\n",
    "The `.loc` method is used to select data by row and column labels."
   ]
  },
  {
   "cell_type": "code",
   "execution_count": 548,
   "metadata": {},
   "outputs": [
    {
     "name": "stdout",
     "output_type": "stream",
     "text": [
      "25\n"
     ]
    }
   ],
   "source": [
    "# Selecting a value from the row with index 0 and the \"Age\" column\n",
    "value = df.loc[0, 'Age']\n",
    "print(value)"
   ]
  },
  {
   "cell_type": "markdown",
   "metadata": {},
   "source": [
    "### Assigning Values"
   ]
  },
  {
   "cell_type": "markdown",
   "metadata": {},
   "source": [
    "#### Example 8: Assigning a Value to an Entire Column"
   ]
  },
  {
   "cell_type": "code",
   "execution_count": 549,
   "metadata": {},
   "outputs": [
    {
     "name": "stdout",
     "output_type": "stream",
     "text": [
      "     Name  Age            City\n",
      "0  Alexey   26          Moscow\n",
      "1   Maria   31  St. Petersburg\n",
      "2    Ivan   23     Novosibirsk\n"
     ]
    }
   ],
   "source": [
    "# Changing values in the \"Age\" column\n",
    "df['Age'] = [26, 31, 23]\n",
    "print(df)"
   ]
  },
  {
   "cell_type": "markdown",
   "metadata": {},
   "source": [
    "#### Example 9: Assigning a Value to a Specific Cell"
   ]
  },
  {
   "cell_type": "code",
   "execution_count": 550,
   "metadata": {},
   "outputs": [
    {
     "name": "stdout",
     "output_type": "stream",
     "text": [
      "     Name  Age            City\n",
      "0  Alexey   27          Moscow\n",
      "1   Maria   31  St. Petersburg\n",
      "2    Ivan   23     Novosibirsk\n"
     ]
    }
   ],
   "source": [
    "# Changing a value in the first row and \"Age\" column\n",
    "df.at[0, 'Age'] = 27\n",
    "print(df)"
   ]
  },
  {
   "cell_type": "markdown",
   "metadata": {},
   "source": [
    "#### Example 10: Assigning Values Using a Condition"
   ]
  },
  {
   "cell_type": "code",
   "execution_count": 551,
   "metadata": {},
   "outputs": [
    {
     "name": "stdout",
     "output_type": "stream",
     "text": [
      "     Name  Age            City\n",
      "0  Alexey   28          Moscow\n",
      "1   Maria   32  St. Petersburg\n",
      "2    Ivan   23     Novosibirsk\n"
     ]
    }
   ],
   "source": [
    "# Increasing age by 1 for everyone older than 25\n",
    "df.loc[df['Age'] > 25, 'Age'] += 1\n",
    "print(df)"
   ]
  },
  {
   "cell_type": "markdown",
   "metadata": {},
   "source": [
    "#### Example 11: Selecting Rows Using `.isin`\n",
    "The `.isin` method allows selecting rows where the column value is in a given list."
   ]
  },
  {
   "cell_type": "code",
   "execution_count": 552,
   "metadata": {},
   "outputs": [
    {
     "name": "stdout",
     "output_type": "stream",
     "text": [
      "     Name  Age         City\n",
      "0  Alexey   28       Moscow\n",
      "2    Ivan   23  Novosibirsk\n"
     ]
    }
   ],
   "source": [
    "# Selecting rows where the city is Moscow or Novosibirsk\n",
    "result = df[df['City'].isin(['Moscow', 'Novosibirsk'])]\n",
    "print(result)"
   ]
  },
  {
   "cell_type": "markdown",
   "metadata": {},
   "source": [
    "## **3. Summary Functions and Maps**\n",
    "\n",
    "In Pandas, there are many functions for analyzing and transforming data. In this section, we will look at the main summary functions and methods for applying functions to data (maps)."
   ]
  },
  {
   "cell_type": "markdown",
   "metadata": {},
   "source": [
    "### Summary Functions (Summary Functions)\n",
    "\n",
    "Summary functions allow you to quickly get statistical information about the data."
   ]
  },
  {
   "cell_type": "markdown",
   "metadata": {},
   "source": [
    "#### Example 1: Basic Summary Functions"
   ]
  },
  {
   "cell_type": "code",
   "execution_count": 553,
   "metadata": {},
   "outputs": [
    {
     "name": "stdout",
     "output_type": "stream",
     "text": [
      "Average age: 40.95\n",
      "Median salary: 79587.0\n",
      "Minimum age: 22\n",
      "Maximum salary: 119909\n",
      "Standard deviation of age: 11.921777882463164\n"
     ]
    }
   ],
   "source": [
    "df = pd.read_csv('data.csv')\n",
    "\n",
    "# Mean value\n",
    "mean_age = df['Age'].mean()\n",
    "print(f\"Average age: {mean_age}\")\n",
    "\n",
    "# Median\n",
    "median_salary = df['Salary'].median()\n",
    "print(f\"Median salary: {median_salary}\")\n",
    "\n",
    "# Minimum value\n",
    "min_age = df['Age'].min()\n",
    "print(f\"Minimum age: {min_age}\")\n",
    "\n",
    "# Maximum value\n",
    "max_salary = df['Salary'].max()\n",
    "print(f\"Maximum salary: {max_salary}\")\n",
    "\n",
    "# Standard deviation\n",
    "std_age = df['Age'].std()\n",
    "print(f\"Standard deviation of age: {std_age}\")"
   ]
  },
  {
   "cell_type": "markdown",
   "metadata": {},
   "source": [
    "#### Example 2: Descriptive Statistics Using `.describe()`\n",
    "\n",
    "The `.describe()` method provides basic statistical characteristics for numerical columns."
   ]
  },
  {
   "cell_type": "code",
   "execution_count": 554,
   "metadata": {},
   "outputs": [
    {
     "name": "stdout",
     "output_type": "stream",
     "text": [
      "              Age         Salary\n",
      "count  100.000000     100.000000\n",
      "mean    40.950000   77400.380000\n",
      "std     11.921778   23653.001401\n",
      "min     22.000000   41802.000000\n",
      "25%     30.000000   56577.250000\n",
      "50%     43.500000   79587.000000\n",
      "75%     53.000000   96310.250000\n",
      "max     59.000000  119909.000000\n"
     ]
    }
   ],
   "source": [
    "# Descriptive statistics\n",
    "stats = df.describe()\n",
    "print(stats)"
   ]
  },
  {
   "cell_type": "code",
   "execution_count": 555,
   "metadata": {},
   "outputs": [
    {
     "name": "stdout",
     "output_type": "stream",
     "text": [
      "<class 'pandas.core.frame.DataFrame'>\n",
      "RangeIndex: 100 entries, 0 to 99\n",
      "Data columns (total 5 columns):\n",
      " #   Column    Non-Null Count  Dtype \n",
      "---  ------    --------------  ----- \n",
      " 0   Name      100 non-null    object\n",
      " 1   Age       100 non-null    int64 \n",
      " 2   Salary    100 non-null    int64 \n",
      " 3   City      100 non-null    object\n",
      " 4   HireDate  100 non-null    object\n",
      "dtypes: int64(2), object(3)\n",
      "memory usage: 4.0+ KB\n",
      "None\n"
     ]
    }
   ],
   "source": [
    "# Getting information about the data\n",
    "print(df.info())"
   ]
  },
  {
   "cell_type": "markdown",
   "metadata": {},
   "source": [
    "#### Example 3: Unique Values and Their Count"
   ]
  },
  {
   "cell_type": "code",
   "execution_count": 556,
   "metadata": {},
   "outputs": [
    {
     "name": "stdout",
     "output_type": "stream",
     "text": [
      "Unique names: ['Zhanna' 'Galina' 'Ivan' 'Dmitry' 'Lyudmila' 'Viktor' 'Elena' 'Boris'\n",
      " 'Anna' 'Kirill']\n",
      "Number of unique names: 10\n",
      "Name\n",
      "Ivan        15\n",
      "Kirill      12\n",
      "Lyudmila    11\n",
      "Zhanna      11\n",
      "Boris       10\n",
      "Dmitry      10\n",
      "Galina       9\n",
      "Viktor       9\n",
      "Anna         7\n",
      "Elena        6\n",
      "Name: count, dtype: int64\n"
     ]
    }
   ],
   "source": [
    "# Unique values in the \"Name\" column\n",
    "unique_names = df['Name'].unique()\n",
    "print(f\"Unique names: {unique_names}\")\n",
    "\n",
    "# Number of unique values\n",
    "num_unique_names = df['Name'].nunique()\n",
    "print(f\"Number of unique names: {num_unique_names}\")\n",
    "\n",
    "# Frequency of each unique value\n",
    "name_counts = df['Name'].value_counts()\n",
    "print(name_counts)"
   ]
  },
  {
   "cell_type": "markdown",
   "metadata": {},
   "source": [
    "### Applying Functions to Data (Maps)"
   ]
  },
  {
   "cell_type": "markdown",
   "metadata": {},
   "source": [
    "#### Example 4: Applying a Function to a Column Using `.apply()`\n",
    "\n",
    "The `.apply()` method allows applying a function to each element of a column."
   ]
  },
  {
   "cell_type": "code",
   "execution_count": 557,
   "metadata": {},
   "outputs": [
    {
     "name": "stdout",
     "output_type": "stream",
     "text": [
      "        Name  Age  Salary             City    HireDate\n",
      "0     Zhanna   34   89811           Moscow  2022-02-28\n",
      "1     Galina   56   42811    Yekaterinburg  2019-09-30\n",
      "2       Ivan   55   96250            Kazan  2017-05-31\n",
      "3     Dmitry   45  112082      Novosibirsk  2021-06-30\n",
      "4     Zhanna   46   74754           Moscow  2022-08-31\n",
      "..       ...  ...     ...              ...         ...\n",
      "95  Lyudmila   31   72635            Kazan  2016-11-30\n",
      "96    Kirill   28  103208      Novosibirsk  2020-02-29\n",
      "97    Zhanna   38   73828  SaintPetersburg  2022-12-31\n",
      "98    Kirill   51   58711            Kazan  2018-01-31\n",
      "99      Ivan   25   43420    Yekaterinburg  2015-12-31\n",
      "\n",
      "[100 rows x 5 columns]\n"
     ]
    }
   ],
   "source": [
    "# Increasing age by 1 year\n",
    "df['Age'] = df['Age'].apply(lambda x: x + 1)\n",
    "print(df)"
   ]
  },
  {
   "cell_type": "markdown",
   "metadata": {},
   "source": [
    "### Working with Categorical Data"
   ]
  },
  {
   "cell_type": "markdown",
   "metadata": {},
   "source": [
    "#### Example 5: Converting Data to Categories"
   ]
  },
  {
   "cell_type": "code",
   "execution_count": 558,
   "metadata": {},
   "outputs": [
    {
     "name": "stdout",
     "output_type": "stream",
     "text": [
      "Index(['Anna', 'Boris', 'Dmitry', 'Elena', 'Galina', 'Ivan', 'Kirill',\n",
      "       'Lyudmila', 'Viktor', 'Zhanna'],\n",
      "      dtype='object')\n"
     ]
    }
   ],
   "source": [
    "# Converting the \"Name\" column to a categorical type\n",
    "df['Name'] = df['Name'].astype('category')\n",
    "print(df['Name'].cat.categories)"
   ]
  },
  {
   "cell_type": "markdown",
   "metadata": {},
   "source": [
    "#### Example 6: Applying a Function to Categorical Data"
   ]
  },
  {
   "cell_type": "code",
   "execution_count": 559,
   "metadata": {},
   "outputs": [
    {
     "name": "stdout",
     "output_type": "stream",
     "text": [
      "        Name  Age  Salary             City    HireDate\n",
      "0     zhanna   34   89811           Moscow  2022-02-28\n",
      "1     galina   56   42811    Yekaterinburg  2019-09-30\n",
      "2       ivan   55   96250            Kazan  2017-05-31\n",
      "3     dmitry   45  112082      Novosibirsk  2021-06-30\n",
      "4     zhanna   46   74754           Moscow  2022-08-31\n",
      "..       ...  ...     ...              ...         ...\n",
      "95  lyudmila   31   72635            Kazan  2016-11-30\n",
      "96    kirill   28  103208      Novosibirsk  2020-02-29\n",
      "97    zhanna   38   73828  SaintPetersburg  2022-12-31\n",
      "98    kirill   51   58711            Kazan  2018-01-31\n",
      "99      ivan   25   43420    Yekaterinburg  2015-12-31\n",
      "\n",
      "[100 rows x 5 columns]\n"
     ]
    }
   ],
   "source": [
    "# Applying a function to categorical data\n",
    "df['Name'] = df['Name'].apply(lambda x: x.lower())\n",
    "print(df)"
   ]
  },
  {
   "cell_type": "markdown",
   "metadata": {},
   "source": [
    "### Working with Missing Values"
   ]
  },
  {
   "cell_type": "markdown",
   "metadata": {},
   "source": [
    "#### Example 7: Filling Missing Values"
   ]
  },
  {
   "cell_type": "code",
   "execution_count": 560,
   "metadata": {},
   "outputs": [
    {
     "name": "stdout",
     "output_type": "stream",
     "text": [
      "        Name  Age         Salary             City    HireDate\n",
      "0     zhanna   34   89811.000000           Moscow  2022-02-28\n",
      "1     galina   56   77749.767677    Yekaterinburg  2019-09-30\n",
      "2       ivan   55   96250.000000            Kazan  2017-05-31\n",
      "3     dmitry   45  112082.000000      Novosibirsk  2021-06-30\n",
      "4     zhanna   46   74754.000000           Moscow  2022-08-31\n",
      "..       ...  ...            ...              ...         ...\n",
      "95  lyudmila   31   72635.000000            Kazan  2016-11-30\n",
      "96    kirill   28  103208.000000      Novosibirsk  2020-02-29\n",
      "97    zhanna   38   73828.000000  SaintPetersburg  2022-12-31\n",
      "98    kirill   51   58711.000000            Kazan  2018-01-31\n",
      "99      ivan   25   43420.000000    Yekaterinburg  2015-12-31\n",
      "\n",
      "[100 rows x 5 columns]\n"
     ]
    }
   ],
   "source": [
    "# Adding missing values\n",
    "df.loc[1, 'Salary'] = None\n",
    "\n",
    "# Filling missing values with the mean value\n",
    "df['Salary'] = df['Salary'].fillna(df['Salary'].mean())\n",
    "print(df)"
   ]
  },
  {
   "cell_type": "markdown",
   "metadata": {},
   "source": [
    "## **4. Grouping and Sorting**\n",
    "\n",
    "Grouping and sorting data are important operations for data analysis and processing. In Pandas, the `.groupby()` and `.sort_values()` methods are used for this."
   ]
  },
  {
   "cell_type": "markdown",
   "metadata": {},
   "source": [
    "### Grouping Data (Grouping)\n",
    "\n",
    "Grouping allows dividing data into groups based on certain criteria and performing aggregation (e.g., counting, summing, finding the average, etc.)."
   ]
  },
  {
   "cell_type": "markdown",
   "metadata": {},
   "source": [
    "#### Example 1: Grouping by a Single Column"
   ]
  },
  {
   "cell_type": "code",
   "execution_count": 561,
   "metadata": {},
   "outputs": [
    {
     "name": "stdout",
     "output_type": "stream",
     "text": [
      "City\n",
      "Kazan              119909\n",
      "Moscow             117371\n",
      "Novosibirsk        114290\n",
      "SaintPetersburg    116213\n",
      "Yekaterinburg      110271\n",
      "Name: Salary, dtype: int64\n"
     ]
    }
   ],
   "source": [
    "df = pd.read_csv('data.csv')\n",
    "\n",
    "# Grouping by the \"City\" column and calculating the sum of sales\n",
    "grouped = df.groupby('City')['Salary'].max()\n",
    "print(grouped)"
   ]
  },
  {
   "cell_type": "markdown",
   "metadata": {},
   "source": [
    "#### Example 2: Aggregating Data After Grouping\n",
    "\n",
    "The `.agg()` method allows applying multiple aggregation functions simultaneously."
   ]
  },
  {
   "cell_type": "code",
   "execution_count": 562,
   "metadata": {},
   "outputs": [
    {
     "name": "stdout",
     "output_type": "stream",
     "text": [
      "                     sum          mean  count\n",
      "City                                         \n",
      "Kazan            1211539  86538.500000     14\n",
      "Moscow           1628948  85734.105263     19\n",
      "Novosibirsk      1460275  76856.578947     19\n",
      "SaintPetersburg  1928071  71410.037037     27\n",
      "Yekaterinburg    1511205  71962.142857     21\n"
     ]
    }
   ],
   "source": [
    "# Grouping by the \"City\" column and applying multiple aggregation functions\n",
    "grouped = df.groupby('City')['Salary'].agg(['sum', 'mean', 'count'])\n",
    "print(grouped)"
   ]
  },
  {
   "cell_type": "markdown",
   "metadata": {},
   "source": [
    "### Sorting Data (Sorting)\n",
    "\n",
    "Sorting data allows ordering the rows of a DataFrame based on the values of one or more columns."
   ]
  },
  {
   "cell_type": "markdown",
   "metadata": {},
   "source": [
    "#### Example 3: Sorting by a Single Column"
   ]
  },
  {
   "cell_type": "code",
   "execution_count": 563,
   "metadata": {},
   "outputs": [
    {
     "name": "stdout",
     "output_type": "stream",
     "text": [
      "        Name  Age  Salary             City    HireDate\n",
      "12      Ivan   58   41802  SaintPetersburg  2022-06-30\n",
      "24    Kirill   34   42049            Kazan  2017-10-31\n",
      "49      Ivan   22   42200  SaintPetersburg  2019-03-31\n",
      "47    Galina   46   42557    Yekaterinburg  2017-09-30\n",
      "1     Galina   55   42811    Yekaterinburg  2019-09-30\n",
      "..       ...  ...     ...              ...         ...\n",
      "85      Ivan   38  114543  SaintPetersburg  2021-01-31\n",
      "75  Lyudmila   54  116213  SaintPetersburg  2015-07-31\n",
      "23     Elena   47  117371           Moscow  2023-04-30\n",
      "53     Boris   27  117505            Kazan  2020-05-31\n",
      "71    Dmitry   49  119909            Kazan  2017-02-28\n",
      "\n",
      "[100 rows x 5 columns]\n"
     ]
    }
   ],
   "source": [
    "# Sorting by the \"Salary\" column in ascending order\n",
    "sorted_df = df.sort_values(by='Salary')\n",
    "print(sorted_df)"
   ]
  },
  {
   "cell_type": "markdown",
   "metadata": {},
   "source": [
    "#### Example 4: Sorting by Multiple Columns"
   ]
  },
  {
   "cell_type": "code",
   "execution_count": 564,
   "metadata": {},
   "outputs": [
    {
     "name": "stdout",
     "output_type": "stream",
     "text": [
      "        Name  Age  Salary           City    HireDate\n",
      "24    Kirill   34   42049          Kazan  2017-10-31\n",
      "73    Dmitry   58   43436          Kazan  2022-06-30\n",
      "98    Kirill   50   58711          Kazan  2018-01-31\n",
      "17      Ivan   47   61918          Kazan  2023-04-30\n",
      "40    Kirill   27   69299          Kazan  2022-07-31\n",
      "..       ...  ...     ...            ...         ...\n",
      "79    Kirill   47   89377  Yekaterinburg  2017-05-31\n",
      "89    Viktor   55   96491  Yekaterinburg  2019-01-31\n",
      "55    Galina   48  101135  Yekaterinburg  2018-04-30\n",
      "7     Zhanna   43  107270  Yekaterinburg  2022-10-31\n",
      "63  Lyudmila   45  110271  Yekaterinburg  2018-10-31\n",
      "\n",
      "[100 rows x 5 columns]\n"
     ]
    }
   ],
   "source": [
    "# Sorting by the \"City\" and \"Salary\" columns\n",
    "sorted_df = df.sort_values(by=['City', 'Salary'])\n",
    "print(sorted_df)"
   ]
  },
  {
   "cell_type": "markdown",
   "metadata": {},
   "source": [
    "#### Example 5: Sorting in Descending Order"
   ]
  },
  {
   "cell_type": "code",
   "execution_count": 565,
   "metadata": {},
   "outputs": [
    {
     "name": "stdout",
     "output_type": "stream",
     "text": [
      "        Name  Age  Salary             City    HireDate\n",
      "71    Dmitry   49  119909            Kazan  2017-02-28\n",
      "53     Boris   27  117505            Kazan  2020-05-31\n",
      "23     Elena   47  117371           Moscow  2023-04-30\n",
      "75  Lyudmila   54  116213  SaintPetersburg  2015-07-31\n",
      "85      Ivan   38  114543  SaintPetersburg  2021-01-31\n",
      "..       ...  ...     ...              ...         ...\n",
      "1     Galina   55   42811    Yekaterinburg  2019-09-30\n",
      "47    Galina   46   42557    Yekaterinburg  2017-09-30\n",
      "49      Ivan   22   42200  SaintPetersburg  2019-03-31\n",
      "24    Kirill   34   42049            Kazan  2017-10-31\n",
      "12      Ivan   58   41802  SaintPetersburg  2022-06-30\n",
      "\n",
      "[100 rows x 5 columns]\n"
     ]
    }
   ],
   "source": [
    "# Sorting by the \"Salary\" column in descending order\n",
    "sorted_df = df.sort_values(by='Salary', ascending=False)\n",
    "print(sorted_df)"
   ]
  },
  {
   "cell_type": "markdown",
   "metadata": {},
   "source": [
    "### Combining Grouping and Sorting"
   ]
  },
  {
   "cell_type": "markdown",
   "metadata": {},
   "source": [
    "#### Example 6: Grouping and Sorting Results"
   ]
  },
  {
   "cell_type": "code",
   "execution_count": 566,
   "metadata": {},
   "outputs": [
    {
     "name": "stdout",
     "output_type": "stream",
     "text": [
      "City\n",
      "SaintPetersburg    1928071\n",
      "Moscow             1628948\n",
      "Yekaterinburg      1511205\n",
      "Novosibirsk        1460275\n",
      "Kazan              1211539\n",
      "Name: Salary, dtype: int64\n"
     ]
    }
   ],
   "source": [
    "# Grouping by the \"City\" column and calculating the sum of sales\n",
    "grouped = df.groupby('City')['Salary'].sum()\n",
    "\n",
    "# Sorting the grouping results\n",
    "sorted_grouped = grouped.sort_values(ascending=False)\n",
    "print(sorted_grouped)"
   ]
  },
  {
   "cell_type": "markdown",
   "metadata": {},
   "source": [
    "#### Example 7: Grouping, Aggregation, and Sorting"
   ]
  },
  {
   "cell_type": "code",
   "execution_count": 567,
   "metadata": {},
   "outputs": [
    {
     "name": "stdout",
     "output_type": "stream",
     "text": [
      "                  Salary                Name\n",
      "                     sum          mean count\n",
      "City                                        \n",
      "SaintPetersburg  1928071  71410.037037    27\n",
      "Moscow           1628948  85734.105263    19\n",
      "Yekaterinburg    1511205  71962.142857    21\n",
      "Novosibirsk      1460275  76856.578947    19\n",
      "Kazan            1211539  86538.500000    14\n"
     ]
    }
   ],
   "source": [
    "# Grouping by the \"City\" column, aggregation, and sorting\n",
    "result = df.groupby('City').agg({\n",
    "    'Salary': ['sum', 'mean'],\n",
    "    'Name': 'count'\n",
    "}).sort_values(by=('Salary', 'sum'), ascending=False)\n",
    "print(result)"
   ]
  },
  {
   "cell_type": "code",
   "execution_count": 568,
   "metadata": {},
   "outputs": [
    {
     "name": "stdout",
     "output_type": "stream",
     "text": [
      "City\n",
      "SaintPetersburg    27\n",
      "Yekaterinburg      21\n",
      "Moscow             19\n",
      "Novosibirsk        19\n",
      "Kazan              14\n",
      "Name: count, dtype: int64\n"
     ]
    }
   ],
   "source": [
    "# Counting the Number of People in Each City\n",
    "df_counts = df['City'].value_counts()\n",
    "print(df_counts)"
   ]
  },
  {
   "cell_type": "markdown",
   "metadata": {},
   "source": [
    "## **5. Data Types and Missing Values**\n",
    "\n",
    "Working with data types and missing values is an important part of data processing. Pandas provides powerful tools for managing data types and handling missing values."
   ]
  },
  {
   "cell_type": "markdown",
   "metadata": {},
   "source": [
    "### Data Types\n",
    "\n",
    "Each column in a DataFrame has a specific data type. Pandas automatically infers data types when creating a DataFrame, but they can be manually changed."
   ]
  },
  {
   "cell_type": "markdown",
   "metadata": {},
   "source": [
    "#### Example 1: Viewing Data Types"
   ]
  },
  {
   "cell_type": "code",
   "execution_count": 569,
   "metadata": {},
   "outputs": [
    {
     "name": "stdout",
     "output_type": "stream",
     "text": [
      "Name          object\n",
      "Age            int64\n",
      "Salary       float64\n",
      "Hire_Date     object\n",
      "dtype: object\n"
     ]
    }
   ],
   "source": [
    "# Create a DataFrame\n",
    "data = {\n",
    "    'Name': ['Alexey', 'Maria', 'Ivan'],\n",
    "    'Age': [25, 30, 22],\n",
    "    'Salary': [50000.0, 60000.0, 45000.0],\n",
    "    'Hire_Date': ['2021-01-01', '2020-05-15', '2019-11-20']\n",
    "}\n",
    "df = pd.DataFrame(data)\n",
    "\n",
    "# View data types\n",
    "print(df.dtypes)"
   ]
  },
  {
   "cell_type": "markdown",
   "metadata": {},
   "source": [
    "#### Example 2: Changing Data Types"
   ]
  },
  {
   "cell_type": "code",
   "execution_count": 570,
   "metadata": {},
   "outputs": [
    {
     "name": "stdout",
     "output_type": "stream",
     "text": [
      "Name          object\n",
      "Age          float64\n",
      "Salary       float64\n",
      "Hire_Date     object\n",
      "dtype: object\n"
     ]
    }
   ],
   "source": [
    "# Change the data type of the \"Age\" column to float\n",
    "df['Age'] = df['Age'].astype(float)\n",
    "print(df.dtypes)"
   ]
  },
  {
   "cell_type": "markdown",
   "metadata": {},
   "source": [
    "#### Example 3: Converting Strings to Dates"
   ]
  },
  {
   "cell_type": "code",
   "execution_count": 571,
   "metadata": {},
   "outputs": [
    {
     "name": "stdout",
     "output_type": "stream",
     "text": [
      "Name                 object\n",
      "Age                 float64\n",
      "Salary              float64\n",
      "Hire_Date    datetime64[ns]\n",
      "dtype: object\n"
     ]
    }
   ],
   "source": [
    "# Convert the \"Hire_Date\" column to datetime type\n",
    "df['Hire_Date'] = pd.to_datetime(df['Hire_Date'])\n",
    "print(df.dtypes)"
   ]
  },
  {
   "cell_type": "markdown",
   "metadata": {},
   "source": [
    "### Missing Values\n",
    "\n",
    "Missing values can occur for various reasons, and Pandas provides tools to handle them."
   ]
  },
  {
   "cell_type": "markdown",
   "metadata": {},
   "source": [
    "#### Example 4: Detecting Missing Values"
   ]
  },
  {
   "cell_type": "code",
   "execution_count": 572,
   "metadata": {},
   "outputs": [
    {
     "name": "stdout",
     "output_type": "stream",
     "text": [
      "    Name    Age  Salary  Hire_Date\n",
      "0  False  False   False      False\n",
      "1  False  False    True      False\n",
      "2  False   True   False      False\n"
     ]
    }
   ],
   "source": [
    "# Add missing values\n",
    "df.loc[1, 'Salary'] = None\n",
    "df.loc[2, 'Age'] = None\n",
    "\n",
    "# Check for missing values using isna and isnull\n",
    "print(df.isna())"
   ]
  },
  {
   "cell_type": "markdown",
   "metadata": {},
   "source": [
    "#### Example 5: Counting Missing Values"
   ]
  },
  {
   "cell_type": "code",
   "execution_count": 573,
   "metadata": {},
   "outputs": [
    {
     "name": "stdout",
     "output_type": "stream",
     "text": [
      "Name         0\n",
      "Age          1\n",
      "Salary       1\n",
      "Hire_Date    0\n",
      "dtype: int64\n"
     ]
    }
   ],
   "source": [
    "# Count missing values in each column\n",
    "print(df.isnull().sum())"
   ]
  },
  {
   "cell_type": "markdown",
   "metadata": {},
   "source": [
    "#### Example 6: Filling Missing Values"
   ]
  },
  {
   "cell_type": "code",
   "execution_count": 574,
   "metadata": {},
   "outputs": [
    {
     "name": "stdout",
     "output_type": "stream",
     "text": [
      "     Name   Age   Salary  Hire_Date\n",
      "0  Alexey  25.0  50000.0 2021-01-01\n",
      "1   Maria  30.0  47500.0 2020-05-15\n",
      "2    Ivan  27.5  45000.0 2019-11-20\n"
     ]
    }
   ],
   "source": [
    "# Fill missing values in the \"Salary\" column with the mean value\n",
    "df['Salary'] = df['Salary'].fillna(df['Salary'].mean())\n",
    "\n",
    "# Fill missing values in the \"Age\" column with the median value\n",
    "df['Age'] = df['Age'].fillna(df['Age'].median())\n",
    "\n",
    "print(df)"
   ]
  },
  {
   "cell_type": "markdown",
   "metadata": {},
   "source": [
    "#### Example 7: Removing Rows with Missing Values"
   ]
  },
  {
   "cell_type": "code",
   "execution_count": 575,
   "metadata": {},
   "outputs": [
    {
     "name": "stdout",
     "output_type": "stream",
     "text": [
      "     Name   Age   Salary  Hire_Date\n",
      "0  Alexey  25.0  50000.0 2021-01-01\n",
      "1   Maria  30.0  47500.0 2020-05-15\n",
      "2    Ivan  27.5  45000.0 2019-11-20\n"
     ]
    }
   ],
   "source": [
    "# Remove rows with any missing values\n",
    "df_cleaned = df.dropna()\n",
    "print(df_cleaned)"
   ]
  },
  {
   "cell_type": "markdown",
   "metadata": {},
   "source": [
    "#### Example 8: Filling Missing Values Using Interpolation"
   ]
  },
  {
   "cell_type": "code",
   "execution_count": 576,
   "metadata": {},
   "outputs": [
    {
     "name": "stdout",
     "output_type": "stream",
     "text": [
      "     Name   Age   Salary  Hire_Date\n",
      "0  Alexey  25.0  50000.0 2021-01-01\n",
      "1   Maria  30.0  47500.0 2020-05-15\n",
      "2    Ivan  27.5  45000.0 2019-11-20\n"
     ]
    }
   ],
   "source": [
    "# Interpolate missing values\n",
    "df['Age'] = df['Age'].interpolate()\n",
    "print(df)"
   ]
  },
  {
   "cell_type": "markdown",
   "metadata": {},
   "source": [
    "### Working with Categorical Data"
   ]
  },
  {
   "cell_type": "markdown",
   "metadata": {},
   "source": [
    "#### Example 9: Converting Data to Categories"
   ]
  },
  {
   "cell_type": "code",
   "execution_count": 577,
   "metadata": {},
   "outputs": [
    {
     "name": "stdout",
     "output_type": "stream",
     "text": [
      "Index(['Alexey', 'Ivan', 'Maria'], dtype='object')\n"
     ]
    }
   ],
   "source": [
    "# Convert the \"Name\" column to categorical type\n",
    "df['Name'] = df['Name'].astype('category')\n",
    "print(df['Name'].cat.categories)"
   ]
  },
  {
   "cell_type": "markdown",
   "metadata": {},
   "source": [
    "#### Example 10: Adding a New Category"
   ]
  },
  {
   "cell_type": "code",
   "execution_count": 578,
   "metadata": {},
   "outputs": [
    {
     "name": "stdout",
     "output_type": "stream",
     "text": [
      "Index(['Alexey', 'Ivan', 'Maria', 'Olga'], dtype='object')\n"
     ]
    }
   ],
   "source": [
    "# Add a new category\n",
    "df['Name'] = df['Name'].cat.add_categories(['Olga'])\n",
    "print(df['Name'].cat.categories)"
   ]
  },
  {
   "cell_type": "markdown",
   "metadata": {},
   "source": [
    "### Additional Examples"
   ]
  },
  {
   "cell_type": "markdown",
   "metadata": {},
   "source": [
    "#### Example 11: Replacing Values"
   ]
  },
  {
   "cell_type": "code",
   "execution_count": 579,
   "metadata": {},
   "outputs": [
    {
     "name": "stdout",
     "output_type": "stream",
     "text": [
      "     Name   Age   Salary  Hire_Date\n",
      "0  Alexey  25.0  50000.0 2021-01-01\n",
      "1  Marina  30.0  47500.0 2020-05-15\n",
      "2    Ivan  27.5  45000.0 2019-11-20\n"
     ]
    },
    {
     "name": "stderr",
     "output_type": "stream",
     "text": [
      "C:\\Users\\admin\\AppData\\Local\\Temp\\ipykernel_26344\\2124603055.py:2: FutureWarning: The behavior of Series.replace (and DataFrame.replace) with CategoricalDtype is deprecated. In a future version, replace will only be used for cases that preserve the categories. To change the categories, use ser.cat.rename_categories instead.\n",
      "  df['Name'] = df['Name'].replace('Maria', 'Marina')\n"
     ]
    }
   ],
   "source": [
    "# Replace the value \"Maria\" with \"Marina\" in the \"Name\" column\n",
    "df['Name'] = df['Name'].replace('Maria', 'Marina')\n",
    "print(df)"
   ]
  },
  {
   "cell_type": "markdown",
   "metadata": {},
   "source": [
    "## **6. Renaming and Combining**\n",
    "\n",
    "Pandas provides convenient tools for renaming columns and indices, as well as for combining data from different sources. In this section, we will look at how to rename columns and indices, and how to combine DataFrames using various methods."
   ]
  },
  {
   "cell_type": "markdown",
   "metadata": {},
   "source": [
    "### Renaming"
   ]
  },
  {
   "cell_type": "markdown",
   "metadata": {},
   "source": [
    "#### Example 1: Renaming Columns"
   ]
  },
  {
   "cell_type": "code",
   "execution_count": 580,
   "metadata": {},
   "outputs": [
    {
     "name": "stdout",
     "output_type": "stream",
     "text": [
      "  Full Name  Age, years       Residence\n",
      "0    Alexey          25          Moscow\n",
      "1     Maria          30  St. Petersburg\n",
      "2      Ivan          22     Novosibirsk\n"
     ]
    }
   ],
   "source": [
    "# Create a DataFrame\n",
    "data = {\n",
    "    'Name': ['Alexey', 'Maria', 'Ivan'],\n",
    "    'Age': [25, 30, 22],\n",
    "    'City': ['Moscow', 'St. Petersburg', 'Novosibirsk']\n",
    "}\n",
    "df = pd.DataFrame(data)\n",
    "\n",
    "# Rename columns\n",
    "df = df.rename(columns={\n",
    "    'Name': 'Full Name',\n",
    "    'Age': 'Age, years',\n",
    "    'City': 'Residence'\n",
    "})\n",
    "print(df)"
   ]
  },
  {
   "cell_type": "markdown",
   "metadata": {},
   "source": [
    "#### Example 2: Renaming Indices"
   ]
  },
  {
   "cell_type": "code",
   "execution_count": 581,
   "metadata": {},
   "outputs": [
    {
     "name": "stdout",
     "output_type": "stream",
     "text": [
      "  Full Name  Age, years       Residence\n",
      "a    Alexey          25          Moscow\n",
      "b     Maria          30  St. Petersburg\n",
      "c      Ivan          22     Novosibirsk\n"
     ]
    }
   ],
   "source": [
    "# Rename indices\n",
    "df = df.rename(index={0: 'a', 1: 'b', 2: 'c'})\n",
    "print(df)"
   ]
  },
  {
   "cell_type": "markdown",
   "metadata": {},
   "source": [
    "#### Example 3: Renaming Using `.columns`"
   ]
  },
  {
   "cell_type": "code",
   "execution_count": 582,
   "metadata": {},
   "outputs": [
    {
     "name": "stdout",
     "output_type": "stream",
     "text": [
      "  Full Name  Age            City\n",
      "a    Alexey   25          Moscow\n",
      "b     Maria   30  St. Petersburg\n",
      "c      Ivan   22     Novosibirsk\n"
     ]
    }
   ],
   "source": [
    "# Rename columns directly using the .columns attribute\n",
    "df.columns = ['Full Name', 'Age', 'City']\n",
    "print(df)"
   ]
  },
  {
   "cell_type": "markdown",
   "metadata": {},
   "source": [
    "### Combining Data"
   ]
  },
  {
   "cell_type": "markdown",
   "metadata": {},
   "source": [
    "#### Example 4: Combining Rows with `pd.concat()`"
   ]
  },
  {
   "cell_type": "code",
   "execution_count": 583,
   "metadata": {},
   "outputs": [
    {
     "name": "stdout",
     "output_type": "stream",
     "text": [
      "     Name  Age\n",
      "0  Alexey   25\n",
      "1   Maria   30\n",
      "2    Ivan   22\n",
      "3    Olga   28\n"
     ]
    }
   ],
   "source": [
    "# Create two DataFrames\n",
    "df1 = pd.DataFrame({\n",
    "    'Name': ['Alexey', 'Maria'],\n",
    "    'Age': [25, 30]\n",
    "})\n",
    "\n",
    "df2 = pd.DataFrame({\n",
    "    'Name': ['Ivan', 'Olga'],\n",
    "    'Age': [22, 28]\n",
    "})\n",
    "\n",
    "# Combine rows\n",
    "result = pd.concat([df1, df2], ignore_index=True)\n",
    "print(result)"
   ]
  },
  {
   "cell_type": "markdown",
   "metadata": {},
   "source": [
    "#### Example 5: Combining Columns"
   ]
  },
  {
   "cell_type": "code",
   "execution_count": 584,
   "metadata": {},
   "outputs": [
    {
     "name": "stdout",
     "output_type": "stream",
     "text": [
      "     Name  Age  Name  Age\n",
      "0  Alexey   25  Ivan   22\n",
      "1   Maria   30  Olga   28\n"
     ]
    }
   ],
   "source": [
    "# Combine columns\n",
    "result = pd.concat([df1, df2], axis=1)\n",
    "print(result)"
   ]
  },
  {
   "cell_type": "markdown",
   "metadata": {},
   "source": [
    "#### Example 6: Combining with `pd.merge()`"
   ]
  },
  {
   "cell_type": "code",
   "execution_count": 585,
   "metadata": {},
   "outputs": [
    {
     "name": "stdout",
     "output_type": "stream",
     "text": [
      "   ID    Name  Salary\n",
      "0   1  Alexey   50000\n",
      "1   2   Maria   60000\n"
     ]
    }
   ],
   "source": [
    "# Create two DataFrames\n",
    "df1 = pd.DataFrame({\n",
    "    'ID': [1, 2, 3],\n",
    "    'Name': ['Alexey', 'Maria', 'Ivan']\n",
    "})\n",
    "\n",
    "df2 = pd.DataFrame({\n",
    "    'ID': [1, 2, 4],\n",
    "    'Salary': [50000, 60000, 45000]\n",
    "})\n",
    "\n",
    "# Inner join\n",
    "result = pd.merge(df1, df2, on='ID', how='inner')\n",
    "print(result)"
   ]
  },
  {
   "cell_type": "markdown",
   "metadata": {},
   "source": [
    "#### Example 7: Combining with Different Types of JOIN"
   ]
  },
  {
   "cell_type": "code",
   "execution_count": 586,
   "metadata": {},
   "outputs": [
    {
     "name": "stdout",
     "output_type": "stream",
     "text": [
      "   ID    Name   Salary\n",
      "0   1  Alexey  50000.0\n",
      "1   2   Maria  60000.0\n",
      "2   3    Ivan      NaN\n",
      "\n",
      "   ID    Name   Salary\n",
      "0   1  Alexey  50000.0\n",
      "1   2   Maria  60000.0\n",
      "2   3    Ivan      NaN\n",
      "3   4     NaN  45000.0\n"
     ]
    }
   ],
   "source": [
    "# Left join\n",
    "result = pd.merge(df1, df2, on='ID', how='left')\n",
    "print(result)\n",
    "print()\n",
    "\n",
    "# Outer join\n",
    "result = pd.merge(df1, df2, on='ID', how='outer')\n",
    "print(result)"
   ]
  },
  {
   "cell_type": "markdown",
   "metadata": {},
   "source": [
    "#### Example 8: Combining on Multiple Keys"
   ]
  },
  {
   "cell_type": "code",
   "execution_count": 587,
   "metadata": {},
   "outputs": [
    {
     "name": "stdout",
     "output_type": "stream",
     "text": [
      "   ID            City    Name  Salary\n",
      "0   1          Moscow  Alexey   50000\n",
      "1   2  St. Petersburg   Maria   60000\n"
     ]
    }
   ],
   "source": [
    "# Create two DataFrames\n",
    "df1 = pd.DataFrame({\n",
    "    'ID': [1, 2, 3],\n",
    "    'City': ['Moscow', 'St. Petersburg', 'Novosibirsk'],\n",
    "    'Name': ['Alexey', 'Maria', 'Ivan']\n",
    "})\n",
    "\n",
    "df2 = pd.DataFrame({\n",
    "    'ID': [1, 2, 4],\n",
    "    'City': ['Moscow', 'St. Petersburg', 'Kazan'],\n",
    "    'Salary': [50000, 60000, 45000]\n",
    "})\n",
    "\n",
    "# Combine on multiple keys\n",
    "result = pd.merge(df1, df2, on=['ID', 'City'], how='inner')\n",
    "print(result)"
   ]
  },
  {
   "cell_type": "markdown",
   "metadata": {},
   "source": [
    "## **7. Modifying Data**"
   ]
  },
  {
   "cell_type": "code",
   "execution_count": 588,
   "metadata": {},
   "outputs": [
    {
     "data": {
      "application/vnd.microsoft.datawrangler.viewer.v0+json": {
       "columns": [
        {
         "name": "index",
         "rawType": "int64",
         "type": "integer"
        },
        {
         "name": "Name",
         "rawType": "object",
         "type": "string"
        },
        {
         "name": "Age",
         "rawType": "int64",
         "type": "integer"
        },
        {
         "name": "Salary",
         "rawType": "int64",
         "type": "integer"
        },
        {
         "name": "City",
         "rawType": "object",
         "type": "string"
        },
        {
         "name": "HireDate",
         "rawType": "object",
         "type": "string"
        }
       ],
       "conversionMethod": "pd.DataFrame",
       "ref": "a4f1eead-3892-4925-875f-d35d87509bf5",
       "rows": [
        [
         "0",
         "Zhanna",
         "33",
         "89811",
         "Moscow",
         "2022-02-28"
        ],
        [
         "1",
         "Galina",
         "55",
         "42811",
         "Yekaterinburg",
         "2019-09-30"
        ],
        [
         "2",
         "Ivan",
         "54",
         "96250",
         "Kazan",
         "2017-05-31"
        ],
        [
         "3",
         "Dmitry",
         "44",
         "112082",
         "Novosibirsk",
         "2021-06-30"
        ],
        [
         "4",
         "Zhanna",
         "45",
         "74754",
         "Moscow",
         "2022-08-31"
        ]
       ],
       "shape": {
        "columns": 5,
        "rows": 5
       }
      },
      "text/html": [
       "<div>\n",
       "<style scoped>\n",
       "    .dataframe tbody tr th:only-of-type {\n",
       "        vertical-align: middle;\n",
       "    }\n",
       "\n",
       "    .dataframe tbody tr th {\n",
       "        vertical-align: top;\n",
       "    }\n",
       "\n",
       "    .dataframe thead th {\n",
       "        text-align: right;\n",
       "    }\n",
       "</style>\n",
       "<table border=\"1\" class=\"dataframe\">\n",
       "  <thead>\n",
       "    <tr style=\"text-align: right;\">\n",
       "      <th></th>\n",
       "      <th>Name</th>\n",
       "      <th>Age</th>\n",
       "      <th>Salary</th>\n",
       "      <th>City</th>\n",
       "      <th>HireDate</th>\n",
       "    </tr>\n",
       "  </thead>\n",
       "  <tbody>\n",
       "    <tr>\n",
       "      <th>0</th>\n",
       "      <td>Zhanna</td>\n",
       "      <td>33</td>\n",
       "      <td>89811</td>\n",
       "      <td>Moscow</td>\n",
       "      <td>2022-02-28</td>\n",
       "    </tr>\n",
       "    <tr>\n",
       "      <th>1</th>\n",
       "      <td>Galina</td>\n",
       "      <td>55</td>\n",
       "      <td>42811</td>\n",
       "      <td>Yekaterinburg</td>\n",
       "      <td>2019-09-30</td>\n",
       "    </tr>\n",
       "    <tr>\n",
       "      <th>2</th>\n",
       "      <td>Ivan</td>\n",
       "      <td>54</td>\n",
       "      <td>96250</td>\n",
       "      <td>Kazan</td>\n",
       "      <td>2017-05-31</td>\n",
       "    </tr>\n",
       "    <tr>\n",
       "      <th>3</th>\n",
       "      <td>Dmitry</td>\n",
       "      <td>44</td>\n",
       "      <td>112082</td>\n",
       "      <td>Novosibirsk</td>\n",
       "      <td>2021-06-30</td>\n",
       "    </tr>\n",
       "    <tr>\n",
       "      <th>4</th>\n",
       "      <td>Zhanna</td>\n",
       "      <td>45</td>\n",
       "      <td>74754</td>\n",
       "      <td>Moscow</td>\n",
       "      <td>2022-08-31</td>\n",
       "    </tr>\n",
       "  </tbody>\n",
       "</table>\n",
       "</div>"
      ],
      "text/plain": [
       "     Name  Age  Salary           City    HireDate\n",
       "0  Zhanna   33   89811         Moscow  2022-02-28\n",
       "1  Galina   55   42811  Yekaterinburg  2019-09-30\n",
       "2    Ivan   54   96250          Kazan  2017-05-31\n",
       "3  Dmitry   44  112082    Novosibirsk  2021-06-30\n",
       "4  Zhanna   45   74754         Moscow  2022-08-31"
      ]
     },
     "execution_count": 588,
     "metadata": {},
     "output_type": "execute_result"
    }
   ],
   "source": [
    "df = pd.read_csv('data.csv')\n",
    "df.head()"
   ]
  },
  {
   "cell_type": "markdown",
   "metadata": {},
   "source": [
    "### Example 1: Adding New Columns"
   ]
  },
  {
   "cell_type": "code",
   "execution_count": 589,
   "metadata": {},
   "outputs": [
    {
     "name": "stdout",
     "output_type": "stream",
     "text": [
      "     Name  Age  Salary           City    HireDate  Salary 2\n",
      "0  Zhanna   33   89811         Moscow  2022-02-28  78135.57\n",
      "1  Galina   55   42811  Yekaterinburg  2019-09-30  37245.57\n",
      "2    Ivan   54   96250          Kazan  2017-05-31  83737.50\n",
      "3  Dmitry   44  112082    Novosibirsk  2021-06-30  97511.34\n",
      "4  Zhanna   45   74754         Moscow  2022-08-31  65035.98\n"
     ]
    }
   ],
   "source": [
    "df['Salary 2'] = df['Salary'] * 0.87  # Calculate income after tax\n",
    "print(df.head())"
   ]
  },
  {
   "cell_type": "markdown",
   "metadata": {},
   "source": [
    "### Example 2: Removing Columns"
   ]
  },
  {
   "cell_type": "code",
   "execution_count": 590,
   "metadata": {},
   "outputs": [
    {
     "name": "stdout",
     "output_type": "stream",
     "text": [
      "     Name  Age  Salary           City    HireDate\n",
      "0  Zhanna   33   89811         Moscow  2022-02-28\n",
      "1  Galina   55   42811  Yekaterinburg  2019-09-30\n",
      "2    Ivan   54   96250          Kazan  2017-05-31\n",
      "3  Dmitry   44  112082    Novosibirsk  2021-06-30\n",
      "4  Zhanna   45   74754         Moscow  2022-08-31\n"
     ]
    }
   ],
   "source": [
    "df.drop(columns=['Salary 2'], inplace=True)  # Remove the 'City' column\n",
    "print(df.head())"
   ]
  },
  {
   "cell_type": "markdown",
   "metadata": {},
   "source": [
    "### Example 3: Removing Duplicates\n",
    "\n",
    "Often, data contains duplicate rows that need to be removed."
   ]
  },
  {
   "cell_type": "code",
   "execution_count": 591,
   "metadata": {},
   "outputs": [
    {
     "data": {
      "application/vnd.microsoft.datawrangler.viewer.v0+json": {
       "columns": [
        {
         "name": "index",
         "rawType": "int64",
         "type": "integer"
        },
        {
         "name": "Name",
         "rawType": "object",
         "type": "string"
        },
        {
         "name": "Age",
         "rawType": "int64",
         "type": "integer"
        },
        {
         "name": "Salary",
         "rawType": "int64",
         "type": "integer"
        },
        {
         "name": "City",
         "rawType": "object",
         "type": "string"
        },
        {
         "name": "HireDate",
         "rawType": "object",
         "type": "string"
        }
       ],
       "conversionMethod": "pd.DataFrame",
       "ref": "737cabb1-5c82-4428-aec6-187f2011fc77",
       "rows": [
        [
         "95",
         "Lyudmila",
         "30",
         "72635",
         "Kazan",
         "2016-11-30"
        ],
        [
         "96",
         "Kirill",
         "27",
         "103208",
         "Novosibirsk",
         "2020-02-29"
        ],
        [
         "97",
         "Zhanna",
         "37",
         "73828",
         "SaintPetersburg",
         "2022-12-31"
        ],
        [
         "98",
         "Kirill",
         "50",
         "58711",
         "Kazan",
         "2018-01-31"
        ],
        [
         "99",
         "Ivan",
         "24",
         "43420",
         "Yekaterinburg",
         "2015-12-31"
        ]
       ],
       "shape": {
        "columns": 5,
        "rows": 5
       }
      },
      "text/html": [
       "<div>\n",
       "<style scoped>\n",
       "    .dataframe tbody tr th:only-of-type {\n",
       "        vertical-align: middle;\n",
       "    }\n",
       "\n",
       "    .dataframe tbody tr th {\n",
       "        vertical-align: top;\n",
       "    }\n",
       "\n",
       "    .dataframe thead th {\n",
       "        text-align: right;\n",
       "    }\n",
       "</style>\n",
       "<table border=\"1\" class=\"dataframe\">\n",
       "  <thead>\n",
       "    <tr style=\"text-align: right;\">\n",
       "      <th></th>\n",
       "      <th>Name</th>\n",
       "      <th>Age</th>\n",
       "      <th>Salary</th>\n",
       "      <th>City</th>\n",
       "      <th>HireDate</th>\n",
       "    </tr>\n",
       "  </thead>\n",
       "  <tbody>\n",
       "    <tr>\n",
       "      <th>95</th>\n",
       "      <td>Lyudmila</td>\n",
       "      <td>30</td>\n",
       "      <td>72635</td>\n",
       "      <td>Kazan</td>\n",
       "      <td>2016-11-30</td>\n",
       "    </tr>\n",
       "    <tr>\n",
       "      <th>96</th>\n",
       "      <td>Kirill</td>\n",
       "      <td>27</td>\n",
       "      <td>103208</td>\n",
       "      <td>Novosibirsk</td>\n",
       "      <td>2020-02-29</td>\n",
       "    </tr>\n",
       "    <tr>\n",
       "      <th>97</th>\n",
       "      <td>Zhanna</td>\n",
       "      <td>37</td>\n",
       "      <td>73828</td>\n",
       "      <td>SaintPetersburg</td>\n",
       "      <td>2022-12-31</td>\n",
       "    </tr>\n",
       "    <tr>\n",
       "      <th>98</th>\n",
       "      <td>Kirill</td>\n",
       "      <td>50</td>\n",
       "      <td>58711</td>\n",
       "      <td>Kazan</td>\n",
       "      <td>2018-01-31</td>\n",
       "    </tr>\n",
       "    <tr>\n",
       "      <th>99</th>\n",
       "      <td>Ivan</td>\n",
       "      <td>24</td>\n",
       "      <td>43420</td>\n",
       "      <td>Yekaterinburg</td>\n",
       "      <td>2015-12-31</td>\n",
       "    </tr>\n",
       "  </tbody>\n",
       "</table>\n",
       "</div>"
      ],
      "text/plain": [
       "        Name  Age  Salary             City    HireDate\n",
       "95  Lyudmila   30   72635            Kazan  2016-11-30\n",
       "96    Kirill   27  103208      Novosibirsk  2020-02-29\n",
       "97    Zhanna   37   73828  SaintPetersburg  2022-12-31\n",
       "98    Kirill   50   58711            Kazan  2018-01-31\n",
       "99      Ivan   24   43420    Yekaterinburg  2015-12-31"
      ]
     },
     "execution_count": 591,
     "metadata": {},
     "output_type": "execute_result"
    }
   ],
   "source": [
    "df.tail()"
   ]
  },
  {
   "cell_type": "code",
   "execution_count": 592,
   "metadata": {},
   "outputs": [
    {
     "data": {
      "application/vnd.microsoft.datawrangler.viewer.v0+json": {
       "columns": [
        {
         "name": "index",
         "rawType": "int64",
         "type": "integer"
        },
        {
         "name": "Name",
         "rawType": "object",
         "type": "string"
        },
        {
         "name": "Age",
         "rawType": "int64",
         "type": "integer"
        },
        {
         "name": "Salary",
         "rawType": "int64",
         "type": "integer"
        },
        {
         "name": "City",
         "rawType": "object",
         "type": "string"
        },
        {
         "name": "HireDate",
         "rawType": "object",
         "type": "string"
        }
       ],
       "conversionMethod": "pd.DataFrame",
       "ref": "3ce504a4-04f0-48f1-aca9-a3f9a2e2388c",
       "rows": [
        [
         "96",
         "Kirill",
         "27",
         "103208",
         "Novosibirsk",
         "2020-02-29"
        ],
        [
         "97",
         "Zhanna",
         "37",
         "73828",
         "SaintPetersburg",
         "2022-12-31"
        ],
        [
         "98",
         "Kirill",
         "50",
         "58711",
         "Kazan",
         "2018-01-31"
        ],
        [
         "99",
         "Ivan",
         "24",
         "43420",
         "Yekaterinburg",
         "2015-12-31"
        ],
        [
         "100",
         "Anna",
         "30",
         "100000",
         "Moscow",
         "2020-12-31"
        ]
       ],
       "shape": {
        "columns": 5,
        "rows": 5
       }
      },
      "text/html": [
       "<div>\n",
       "<style scoped>\n",
       "    .dataframe tbody tr th:only-of-type {\n",
       "        vertical-align: middle;\n",
       "    }\n",
       "\n",
       "    .dataframe tbody tr th {\n",
       "        vertical-align: top;\n",
       "    }\n",
       "\n",
       "    .dataframe thead th {\n",
       "        text-align: right;\n",
       "    }\n",
       "</style>\n",
       "<table border=\"1\" class=\"dataframe\">\n",
       "  <thead>\n",
       "    <tr style=\"text-align: right;\">\n",
       "      <th></th>\n",
       "      <th>Name</th>\n",
       "      <th>Age</th>\n",
       "      <th>Salary</th>\n",
       "      <th>City</th>\n",
       "      <th>HireDate</th>\n",
       "    </tr>\n",
       "  </thead>\n",
       "  <tbody>\n",
       "    <tr>\n",
       "      <th>96</th>\n",
       "      <td>Kirill</td>\n",
       "      <td>27</td>\n",
       "      <td>103208</td>\n",
       "      <td>Novosibirsk</td>\n",
       "      <td>2020-02-29</td>\n",
       "    </tr>\n",
       "    <tr>\n",
       "      <th>97</th>\n",
       "      <td>Zhanna</td>\n",
       "      <td>37</td>\n",
       "      <td>73828</td>\n",
       "      <td>SaintPetersburg</td>\n",
       "      <td>2022-12-31</td>\n",
       "    </tr>\n",
       "    <tr>\n",
       "      <th>98</th>\n",
       "      <td>Kirill</td>\n",
       "      <td>50</td>\n",
       "      <td>58711</td>\n",
       "      <td>Kazan</td>\n",
       "      <td>2018-01-31</td>\n",
       "    </tr>\n",
       "    <tr>\n",
       "      <th>99</th>\n",
       "      <td>Ivan</td>\n",
       "      <td>24</td>\n",
       "      <td>43420</td>\n",
       "      <td>Yekaterinburg</td>\n",
       "      <td>2015-12-31</td>\n",
       "    </tr>\n",
       "    <tr>\n",
       "      <th>100</th>\n",
       "      <td>Anna</td>\n",
       "      <td>30</td>\n",
       "      <td>100000</td>\n",
       "      <td>Moscow</td>\n",
       "      <td>2020-12-31</td>\n",
       "    </tr>\n",
       "  </tbody>\n",
       "</table>\n",
       "</div>"
      ],
      "text/plain": [
       "       Name  Age  Salary             City    HireDate\n",
       "96   Kirill   27  103208      Novosibirsk  2020-02-29\n",
       "97   Zhanna   37   73828  SaintPetersburg  2022-12-31\n",
       "98   Kirill   50   58711            Kazan  2018-01-31\n",
       "99     Ivan   24   43420    Yekaterinburg  2015-12-31\n",
       "100    Anna   30  100000           Moscow  2020-12-31"
      ]
     },
     "execution_count": 592,
     "metadata": {},
     "output_type": "execute_result"
    }
   ],
   "source": [
    "#just add new\n",
    "new_row = {\"Name\": \"Anna\", \"Age\": 30, \"Salary\": 100000, \"City\": \"Moscow\", \"HireDate\": \"2020-12-31\"}\n",
    "df = pd.concat([df, pd.DataFrame([new_row])], ignore_index=True)\n",
    "df.tail()"
   ]
  },
  {
   "cell_type": "code",
   "execution_count": 593,
   "metadata": {},
   "outputs": [
    {
     "data": {
      "application/vnd.microsoft.datawrangler.viewer.v0+json": {
       "columns": [
        {
         "name": "index",
         "rawType": "int64",
         "type": "integer"
        },
        {
         "name": "Name",
         "rawType": "object",
         "type": "string"
        },
        {
         "name": "Age",
         "rawType": "int64",
         "type": "integer"
        },
        {
         "name": "Salary",
         "rawType": "int64",
         "type": "integer"
        },
        {
         "name": "City",
         "rawType": "object",
         "type": "string"
        },
        {
         "name": "HireDate",
         "rawType": "object",
         "type": "string"
        }
       ],
       "conversionMethod": "pd.DataFrame",
       "ref": "5068833b-0eae-4ac7-a011-d94f987553fd",
       "rows": [
        [
         "99",
         "Ivan",
         "24",
         "43420",
         "Yekaterinburg",
         "2015-12-31"
        ],
        [
         "100",
         "Anna",
         "30",
         "100000",
         "Moscow",
         "2020-12-31"
        ],
        [
         "101",
         "Zhanna",
         "37",
         "73828",
         "SaintPetersburg",
         "2022-12-31"
        ],
        [
         "102",
         "Kirill",
         "50",
         "58711",
         "Kazan",
         "2018-01-31"
        ],
        [
         "103",
         "Ivan",
         "24",
         "43420",
         "Yekaterinburg",
         "2015-12-31"
        ]
       ],
       "shape": {
        "columns": 5,
        "rows": 5
       }
      },
      "text/html": [
       "<div>\n",
       "<style scoped>\n",
       "    .dataframe tbody tr th:only-of-type {\n",
       "        vertical-align: middle;\n",
       "    }\n",
       "\n",
       "    .dataframe tbody tr th {\n",
       "        vertical-align: top;\n",
       "    }\n",
       "\n",
       "    .dataframe thead th {\n",
       "        text-align: right;\n",
       "    }\n",
       "</style>\n",
       "<table border=\"1\" class=\"dataframe\">\n",
       "  <thead>\n",
       "    <tr style=\"text-align: right;\">\n",
       "      <th></th>\n",
       "      <th>Name</th>\n",
       "      <th>Age</th>\n",
       "      <th>Salary</th>\n",
       "      <th>City</th>\n",
       "      <th>HireDate</th>\n",
       "    </tr>\n",
       "  </thead>\n",
       "  <tbody>\n",
       "    <tr>\n",
       "      <th>99</th>\n",
       "      <td>Ivan</td>\n",
       "      <td>24</td>\n",
       "      <td>43420</td>\n",
       "      <td>Yekaterinburg</td>\n",
       "      <td>2015-12-31</td>\n",
       "    </tr>\n",
       "    <tr>\n",
       "      <th>100</th>\n",
       "      <td>Anna</td>\n",
       "      <td>30</td>\n",
       "      <td>100000</td>\n",
       "      <td>Moscow</td>\n",
       "      <td>2020-12-31</td>\n",
       "    </tr>\n",
       "    <tr>\n",
       "      <th>101</th>\n",
       "      <td>Zhanna</td>\n",
       "      <td>37</td>\n",
       "      <td>73828</td>\n",
       "      <td>SaintPetersburg</td>\n",
       "      <td>2022-12-31</td>\n",
       "    </tr>\n",
       "    <tr>\n",
       "      <th>102</th>\n",
       "      <td>Kirill</td>\n",
       "      <td>50</td>\n",
       "      <td>58711</td>\n",
       "      <td>Kazan</td>\n",
       "      <td>2018-01-31</td>\n",
       "    </tr>\n",
       "    <tr>\n",
       "      <th>103</th>\n",
       "      <td>Ivan</td>\n",
       "      <td>24</td>\n",
       "      <td>43420</td>\n",
       "      <td>Yekaterinburg</td>\n",
       "      <td>2015-12-31</td>\n",
       "    </tr>\n",
       "  </tbody>\n",
       "</table>\n",
       "</div>"
      ],
      "text/plain": [
       "       Name  Age  Salary             City    HireDate\n",
       "99     Ivan   24   43420    Yekaterinburg  2015-12-31\n",
       "100    Anna   30  100000           Moscow  2020-12-31\n",
       "101  Zhanna   37   73828  SaintPetersburg  2022-12-31\n",
       "102  Kirill   50   58711            Kazan  2018-01-31\n",
       "103    Ivan   24   43420    Yekaterinburg  2015-12-31"
      ]
     },
     "execution_count": 593,
     "metadata": {},
     "output_type": "execute_result"
    }
   ],
   "source": [
    "row_to_copy = df.loc[97] \n",
    "df = pd.concat([df, pd.DataFrame([row_to_copy])], ignore_index=True)\n",
    "\n",
    "row_to_copy = df.loc[98] \n",
    "df = pd.concat([df, pd.DataFrame([row_to_copy])], ignore_index=True)\n",
    "\n",
    "row_to_copy = df.loc[99] \n",
    "df = pd.concat([df, pd.DataFrame([row_to_copy])], ignore_index=True)\n",
    "\n",
    "df.tail()"
   ]
  },
  {
   "cell_type": "markdown",
   "metadata": {},
   "source": [
    "#### Checking for Duplicates"
   ]
  },
  {
   "cell_type": "code",
   "execution_count": 594,
   "metadata": {},
   "outputs": [
    {
     "name": "stdout",
     "output_type": "stream",
     "text": [
      "3\n"
     ]
    }
   ],
   "source": [
    "print(df.duplicated().sum())  # Number of duplicates"
   ]
  },
  {
   "cell_type": "code",
   "execution_count": 595,
   "metadata": {},
   "outputs": [
    {
     "data": {
      "application/vnd.microsoft.datawrangler.viewer.v0+json": {
       "columns": [
        {
         "name": "index",
         "rawType": "int64",
         "type": "integer"
        },
        {
         "name": "Name",
         "rawType": "object",
         "type": "string"
        },
        {
         "name": "Age",
         "rawType": "int64",
         "type": "integer"
        },
        {
         "name": "Salary",
         "rawType": "int64",
         "type": "integer"
        },
        {
         "name": "City",
         "rawType": "object",
         "type": "string"
        },
        {
         "name": "HireDate",
         "rawType": "object",
         "type": "string"
        }
       ],
       "conversionMethod": "pd.DataFrame",
       "ref": "85288f32-1def-481c-9710-9fe8e3184313",
       "rows": [
        [
         "101",
         "Zhanna",
         "37",
         "73828",
         "SaintPetersburg",
         "2022-12-31"
        ],
        [
         "102",
         "Kirill",
         "50",
         "58711",
         "Kazan",
         "2018-01-31"
        ],
        [
         "103",
         "Ivan",
         "24",
         "43420",
         "Yekaterinburg",
         "2015-12-31"
        ]
       ],
       "shape": {
        "columns": 5,
        "rows": 3
       }
      },
      "text/html": [
       "<div>\n",
       "<style scoped>\n",
       "    .dataframe tbody tr th:only-of-type {\n",
       "        vertical-align: middle;\n",
       "    }\n",
       "\n",
       "    .dataframe tbody tr th {\n",
       "        vertical-align: top;\n",
       "    }\n",
       "\n",
       "    .dataframe thead th {\n",
       "        text-align: right;\n",
       "    }\n",
       "</style>\n",
       "<table border=\"1\" class=\"dataframe\">\n",
       "  <thead>\n",
       "    <tr style=\"text-align: right;\">\n",
       "      <th></th>\n",
       "      <th>Name</th>\n",
       "      <th>Age</th>\n",
       "      <th>Salary</th>\n",
       "      <th>City</th>\n",
       "      <th>HireDate</th>\n",
       "    </tr>\n",
       "  </thead>\n",
       "  <tbody>\n",
       "    <tr>\n",
       "      <th>101</th>\n",
       "      <td>Zhanna</td>\n",
       "      <td>37</td>\n",
       "      <td>73828</td>\n",
       "      <td>SaintPetersburg</td>\n",
       "      <td>2022-12-31</td>\n",
       "    </tr>\n",
       "    <tr>\n",
       "      <th>102</th>\n",
       "      <td>Kirill</td>\n",
       "      <td>50</td>\n",
       "      <td>58711</td>\n",
       "      <td>Kazan</td>\n",
       "      <td>2018-01-31</td>\n",
       "    </tr>\n",
       "    <tr>\n",
       "      <th>103</th>\n",
       "      <td>Ivan</td>\n",
       "      <td>24</td>\n",
       "      <td>43420</td>\n",
       "      <td>Yekaterinburg</td>\n",
       "      <td>2015-12-31</td>\n",
       "    </tr>\n",
       "  </tbody>\n",
       "</table>\n",
       "</div>"
      ],
      "text/plain": [
       "       Name  Age  Salary             City    HireDate\n",
       "101  Zhanna   37   73828  SaintPetersburg  2022-12-31\n",
       "102  Kirill   50   58711            Kazan  2018-01-31\n",
       "103    Ivan   24   43420    Yekaterinburg  2015-12-31"
      ]
     },
     "execution_count": 595,
     "metadata": {},
     "output_type": "execute_result"
    }
   ],
   "source": [
    "df[df.duplicated()]"
   ]
  },
  {
   "cell_type": "markdown",
   "metadata": {},
   "source": [
    "#### Removing Duplicates"
   ]
  },
  {
   "cell_type": "code",
   "execution_count": 596,
   "metadata": {},
   "outputs": [],
   "source": [
    "df = df.drop_duplicates()\n",
    "# You can also remove duplicates based on specific columns:\n",
    "df = df.drop_duplicates(subset=['Name'])"
   ]
  },
  {
   "cell_type": "code",
   "execution_count": 597,
   "metadata": {},
   "outputs": [
    {
     "data": {
      "application/vnd.microsoft.datawrangler.viewer.v0+json": {
       "columns": [
        {
         "name": "index",
         "rawType": "int64",
         "type": "integer"
        },
        {
         "name": "Name",
         "rawType": "object",
         "type": "string"
        },
        {
         "name": "Age",
         "rawType": "int64",
         "type": "integer"
        },
        {
         "name": "Salary",
         "rawType": "int64",
         "type": "integer"
        },
        {
         "name": "City",
         "rawType": "object",
         "type": "string"
        },
        {
         "name": "HireDate",
         "rawType": "object",
         "type": "string"
        }
       ],
       "conversionMethod": "pd.DataFrame",
       "ref": "f76fb2c8-ec8c-40fb-abff-4507a1ac3f09",
       "rows": [],
       "shape": {
        "columns": 5,
        "rows": 0
       }
      },
      "text/html": [
       "<div>\n",
       "<style scoped>\n",
       "    .dataframe tbody tr th:only-of-type {\n",
       "        vertical-align: middle;\n",
       "    }\n",
       "\n",
       "    .dataframe tbody tr th {\n",
       "        vertical-align: top;\n",
       "    }\n",
       "\n",
       "    .dataframe thead th {\n",
       "        text-align: right;\n",
       "    }\n",
       "</style>\n",
       "<table border=\"1\" class=\"dataframe\">\n",
       "  <thead>\n",
       "    <tr style=\"text-align: right;\">\n",
       "      <th></th>\n",
       "      <th>Name</th>\n",
       "      <th>Age</th>\n",
       "      <th>Salary</th>\n",
       "      <th>City</th>\n",
       "      <th>HireDate</th>\n",
       "    </tr>\n",
       "  </thead>\n",
       "  <tbody>\n",
       "  </tbody>\n",
       "</table>\n",
       "</div>"
      ],
      "text/plain": [
       "Empty DataFrame\n",
       "Columns: [Name, Age, Salary, City, HireDate]\n",
       "Index: []"
      ]
     },
     "execution_count": 597,
     "metadata": {},
     "output_type": "execute_result"
    }
   ],
   "source": [
    "df[df.duplicated()]"
   ]
  },
  {
   "cell_type": "code",
   "execution_count": null,
   "metadata": {},
   "outputs": [],
   "source": []
  }
 ],
 "metadata": {
  "kernelspec": {
   "display_name": "venv",
   "language": "python",
   "name": "python3"
  },
  "language_info": {
   "codemirror_mode": {
    "name": "ipython",
    "version": 3
   },
   "file_extension": ".py",
   "mimetype": "text/x-python",
   "name": "python",
   "nbconvert_exporter": "python",
   "pygments_lexer": "ipython3",
   "version": "3.11.3"
  }
 },
 "nbformat": 4,
 "nbformat_minor": 2
}
