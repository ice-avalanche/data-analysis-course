{
 "cells": [
  {
   "cell_type": "markdown",
   "metadata": {},
   "source": [
    "# **Pandas**"
   ]
  },
  {
   "cell_type": "markdown",
   "metadata": {},
   "source": [
    "## **1. Creating, Reading, and Writing Data**"
   ]
  },
  {
   "cell_type": "markdown",
   "metadata": {},
   "source": [
    "### Creating a DataFrame\n",
    "\n",
    "A DataFrame is the main data structure in Pandas, which represents a table with rows and columns. A DataFrame can be created from various sources: dictionaries, lists, NumPy arrays, and other data structures."
   ]
  },
  {
   "cell_type": "markdown",
   "metadata": {},
   "source": [
    "#### Example 1: Creating a DataFrame from a Dictionary\n",
    "\n",
    "```python\n",
    "import pandas as pd\n",
    "\n",
    "# Creating a DataFrame from a dictionary\n",
    "data = {\n",
    "    'Name': ['Alexey', 'Maria', 'Ivan'],\n",
    "    'Age': [25, 30, 22],\n",
    "    'City': ['Moscow', 'St. Petersburg', 'Novosibirsk']\n",
    "}\n",
    "\n",
    "df = pd.DataFrame(data)\n",
    "print(df)\n",
    "```"
   ]
  },
  {
   "cell_type": "markdown",
   "metadata": {},
   "source": [
    "#### Example 2: Creating a DataFrame from a List of Lists\n",
    "\n",
    "```python\n",
    "# Creating a DataFrame from a list of lists\n",
    "data = [\n",
    "    ['Alexey', 25, 'Moscow'],\n",
    "    ['Maria', 30, 'St. Petersburg'],\n",
    "    ['Ivan', 22, 'Novosibirsk']\n",
    "]\n",
    "\n",
    "df = pd.DataFrame(data, columns=['Name', 'Age', 'City'])\n",
    "print(df)\n",
    "```"
   ]
  },
  {
   "cell_type": "markdown",
   "metadata": {},
   "source": [
    "#### Example 3: Creating a DataFrame with Specified Indices\n",
    "\n",
    "```python\n",
    "# Creating a DataFrame with specified indices\n",
    "data = [\n",
    "    ['Alexey', 25, 'Moscow'],\n",
    "    ['Maria', 30, 'St. Petersburg'],\n",
    "    ['Ivan', 22, 'Novosibirsk']\n",
    "]\n",
    "\n",
    "df = pd.DataFrame(data, columns=['Name', 'Age', 'City'], index=['a', 'b', 'c'])\n",
    "print(df)\n",
    "```"
   ]
  },
  {
   "cell_type": "markdown",
   "metadata": {},
   "source": [
    "### Reading Data from a File\n",
    "\n",
    "Pandas supports reading data from various formats such as CSV, Excel, JSON, and others."
   ]
  },
  {
   "cell_type": "markdown",
   "metadata": {},
   "source": [
    "#### Example 4: Reading Data from a CSV File\n",
    "\n",
    "```python\n",
    "# Reading a CSV file\n",
    "df = pd.read_csv('data.csv')\n",
    "print(df)\n",
    "```"
   ]
  },
  {
   "cell_type": "markdown",
   "metadata": {},
   "source": [
    "#### Example 5: Reading Data from an Excel File\n",
    "\n",
    "```python\n",
    "# Reading an Excel file\n",
    "df = pd.read_excel('data.xlsx')\n",
    "print(df)\n",
    "```"
   ]
  },
  {
   "cell_type": "markdown",
   "metadata": {},
   "source": [
    "#### Example 6: Reading Data from a JSON File\n",
    "\n",
    "```python\n",
    "# Reading a JSON file\n",
    "df = pd.read_json('data.json')\n",
    "print(df)\n",
    "```"
   ]
  },
  {
   "cell_type": "markdown",
   "metadata": {},
   "source": [
    "### Writing Data to a File\n",
    "\n",
    "Pandas also supports writing data to various formats."
   ]
  },
  {
   "cell_type": "markdown",
   "metadata": {},
   "source": [
    "#### Example 7: Writing a DataFrame to a CSV File\n",
    "\n",
    "```python\n",
    "# Writing a DataFrame to a CSV file\n",
    "df.to_csv('output.csv', index=False)\n",
    "\n",
    "# Note: The `index=False` parameter indicates that the index should not be written to the file.\n",
    "```"
   ]
  },
  {
   "cell_type": "markdown",
   "metadata": {},
   "source": [
    "#### Example 8: Writing a DataFrame to an Excel File\n",
    "\n",
    "```python\n",
    "# Writing a DataFrame to an Excel file\n",
    "df.to_excel('output.xlsx', index=False)\n",
    "```"
   ]
  },
  {
   "cell_type": "markdown",
   "metadata": {},
   "source": [
    "#### Example 9: Writing a DataFrame to a JSON File\n",
    "\n",
    "```python\n",
    "# Writing a DataFrame to a JSON file\n",
    "df.to_json('output.json')\n",
    "```\n",
    "\n",
    "```python\n",
    "df.to_json('output.json', orient='records', indent=4, force_ascii=False)\n",
    "```\n",
    "\n",
    "Parameters of the `to_json()` method\n",
    "\n",
    "`orient`:\n",
    "- 'records' – saves data as a list of dictionaries (each dictionary is a row in the DataFrame).\n",
    "- 'split' – saves data as separate keys: index, columns, data.\n",
    "- 'index' – uses indices as top-level keys.\n",
    "- 'columns' – uses column names as top-level keys.\n",
    "- 'values' – saves only values (without indices and column names).\n",
    "- 'table' – saves data in a format compatible with Table Schema.\n",
    "\n",
    "`indent`:\n",
    "- Specifies the number of spaces for indentation. If indent is not specified, JSON will be saved in one line.\n",
    "\n",
    "`force_ascii`:\n",
    "- If False, non-ASCII characters (e.g., Cyrillic) are saved as is. If True, they are converted to escape sequences."
   ]
  },
  {
   "cell_type": "markdown",
   "metadata": {},
   "source": [
    "## **2. Indexing, Selection, and Assignment**\n",
    "\n",
    "In Pandas, there are several ways to select data from a DataFrame. In this section, we will look at the main methods of indexing, selection, and data assignment."
   ]
  },
  {
   "cell_type": "markdown",
   "metadata": {},
   "source": [
    "### Selecting Columns"
   ]
  },
  {
   "cell_type": "markdown",
   "metadata": {},
   "source": [
    "#### Example 1: Selecting a Single Column\n",
    "To select a single column, use the syntax `df['column_name']`.\n",
    "\n",
    "```python\n",
    "import pandas as pd\n",
    "\n",
    "# Creating a DataFrame\n",
    "data = {\n",
    "    'Name': ['Alexey', 'Maria', 'Ivan'],\n",
    "    'Age': [25, 30, 22],\n",
    "    'City': ['Moscow', 'St. Petersburg', 'Novosibirsk']\n",
    "}\n",
    "df = pd.DataFrame(data)\n",
    "\n",
    "# Selecting the \"Name\" column\n",
    "names = df['Name']\n",
    "print(names)\n",
    "```"
   ]
  },
  {
   "cell_type": "markdown",
   "metadata": {},
   "source": [
    "#### Example 2: Selecting Multiple Columns\n",
    "To select multiple columns, use the syntax `df[['column1', 'column2']]`.\n",
    "\n",
    "```python\n",
    "# Selecting the \"Name\" and \"City\" columns\n",
    "subset = df[['Name', 'City']]\n",
    "print(subset)\n",
    "```"
   ]
  },
  {
   "cell_type": "markdown",
   "metadata": {},
   "source": [
    "### Selecting Rows"
   ]
  },
  {
   "cell_type": "markdown",
   "metadata": {},
   "source": [
    "#### Example 3: Selecting Rows by Index Using `.iloc`\n",
    "The `.iloc` method is used to select rows by their numerical index.\n",
    "\n",
    "```python\n",
    "# Selecting the first row\n",
    "first_row = df.iloc[0]\n",
    "print(first_row)\n",
    "```"
   ]
  },
  {
   "cell_type": "markdown",
   "metadata": {},
   "source": [
    "#### Example 4: Selecting Multiple Rows by Index\n",
    "\n",
    "```python\n",
    "# Selecting the first two rows\n",
    "first_two_rows = df.iloc[:2]\n",
    "print(first_two_rows)\n",
    "```"
   ]
  },
  {
   "cell_type": "markdown",
   "metadata": {},
   "source": [
    "#### Example 5: Selecting Rows by Condition\n",
    "To select rows by condition, use boolean indexing.\n",
    "\n",
    "```python\n",
    "# Selecting rows where age is greater than 25\n",
    "adults = df[df['Age'] > 25]\n",
    "print(adults)\n",
    "```"
   ]
  },
  {
   "cell_type": "markdown",
   "metadata": {},
   "source": [
    "### Selecting Specific Cells"
   ]
  },
  {
   "cell_type": "markdown",
   "metadata": {},
   "source": [
    "#### Example 6: Selecting a Value by Row and Column Index Using `.iloc`\n",
    "\n",
    "```python\n",
    "# Selecting a value from the first row and second column\n",
    "value = df.iloc[0, 1]\n",
    "print(value)\n",
    "```"
   ]
  },
  {
   "cell_type": "markdown",
   "metadata": {},
   "source": [
    "#### Example 7: Selecting a Value by Row and Column Label Using `.loc`\n",
    "The `.loc` method is used to select data by row and column labels.\n",
    "\n",
    "```python\n",
    "# Selecting a value from the row with index 0 and the \"Age\" column\n",
    "value = df.loc[0, 'Age']\n",
    "print(value)\n",
    "```"
   ]
  },
  {
   "cell_type": "markdown",
   "metadata": {},
   "source": [
    "### Assigning Values"
   ]
  },
  {
   "cell_type": "markdown",
   "metadata": {},
   "source": [
    "#### Example 8: Assigning a Value to an Entire Column\n",
    "\n",
    "```python\n",
    "# Changing values in the \"Age\" column\n",
    "df['Age'] = [26, 31, 23]\n",
    "print(df)\n",
    "```"
   ]
  },
  {
   "cell_type": "markdown",
   "metadata": {},
   "source": [
    "#### Example 9: Assigning a Value to a Specific Cell\n",
    "\n",
    "```python\n",
    "# Changing a value in the first row and \"Age\" column\n",
    "df.at[0, 'Age'] = 27\n",
    "print(df)\n",
    "```"
   ]
  },
  {
   "cell_type": "markdown",
   "metadata": {},
   "source": [
    "#### Example 10: Assigning Values Using a Condition\n",
    "\n",
    "```python\n",
    "# Increasing age by 1 for everyone older than 25\n",
    "df.loc[df['Age'] > 25, 'Age'] += 1\n",
    "print(df)\n",
    "```"
   ]
  },
  {
   "cell_type": "markdown",
   "metadata": {},
   "source": [
    "#### Example 12: Selecting Rows Using `.isin`\n",
    "The `.isin` method allows selecting rows where the column value is in a given list.\n",
    "\n",
    "```python\n",
    "# Selecting rows where the city is Moscow or Novosibirsk\n",
    "result = df[df['City'].isin(['Moscow', 'Novosibirsk'])]\n",
    "print(result)\n",
    "```"
   ]
  },
  {
   "cell_type": "markdown",
   "metadata": {},
   "source": [
    "## **3. Summary Functions and Maps**\n",
    "\n",
    "In Pandas, there are many functions for analyzing and transforming data. In this section, we will look at the main summary functions and methods for applying functions to data (maps)."
   ]
  },
  {
   "cell_type": "markdown",
   "metadata": {},
   "source": [
    "### Summary Functions (Summary Functions)\n",
    "\n",
    "Summary functions allow you to quickly get statistical information about the data."
   ]
  },
  {
   "cell_type": "markdown",
   "metadata": {},
   "source": [
    "#### Example 1: Basic Summary Functions\n",
    "\n",
    "```python\n",
    "import pandas as pd\n",
    "\n",
    "df = pd.read_csv('data.csv')\n",
    "\n",
    "# Mean value\n",
    "mean_age = df['Age'].mean()\n",
    "print(f\"Average age: {mean_age}\")\n",
    "\n",
    "# Median\n",
    "median_salary = df['Salary'].median()\n",
    "print(f\"Median salary: {median_salary}\")\n",
    "\n",
    "# Minimum value\n",
    "min_age = df['Age'].min()\n",
    "print(f\"Minimum age: {min_age}\")\n",
    "\n",
    "# Maximum value\n",
    "max_salary = df['Salary'].max()\n",
    "print(f\"Maximum salary: {max_salary}\")\n",
    "\n",
    "# Standard deviation\n",
    "std_age = df['Age'].std()\n",
    "print(f\"Standard deviation of age: {std_age}\")\n",
    "```"
   ]
  },
  {
   "cell_type": "markdown",
   "metadata": {},
   "source": [
    "#### Example 2: Descriptive Statistics Using `.describe()`\n",
    "\n",
    "The `.describe()` method provides basic statistical characteristics for numerical columns.\n",
    "\n",
    "```python\n",
    "# Descriptive statistics\n",
    "stats = df.describe()\n",
    "print(stats)\n",
    "```\n",
    "\n",
    "```python\n",
    "# Getting information about the data\n",
    "print(df.info())\n",
    "```"
   ]
  },
  {
   "cell_type": "markdown",
   "metadata": {},
   "source": [
    "#### Example 3: Unique Values and Their Count\n",
    "\n",
    "```python\n",
    "# Unique values in the \"Name\" column\n",
    "unique_names = df['Name'].unique()\n",
    "print(f\"Unique names: {unique_names}\")\n",
    "\n",
    "# Number of unique values\n",
    "num_unique_names = df['Name'].nunique()\n",
    "print(f\"Number of unique names: {num_unique_names}\")\n",
    "\n",
    "# Frequency of each unique value\n",
    "name_counts = df['Name'].value_counts()\n",
    "print(name_counts)\n",
    "```"
   ]
  },
  {
   "cell_type": "markdown",
   "metadata": {},
   "source": [
    "### Applying Functions to Data (Maps)"
   ]
  },
  {
   "cell_type": "markdown",
   "metadata": {},
   "source": [
    "#### Example 4: Applying a Function to a Column Using `.apply()`\n",
    "\n",
    "The `.apply()` method allows applying a function to each element of a column.\n",
    "\n",
    "```python\n",
    "# Increasing age by 1 year\n",
    "df['Age'] = df['Age'].apply(lambda x: x + 1)\n",
    "print(df)\n",
    "```"
   ]
  },
  {
   "cell_type": "markdown",
   "metadata": {},
   "source": [
    "### Working with Categorical Data"
   ]
  },
  {
   "cell_type": "markdown",
   "metadata": {},
   "source": [
    "#### Example 7: Converting Data to Categories\n",
    "\n",
    "```python\n",
    "# Converting the \"Name\" column to a categorical type\n",
    "df['Name'] = df['Name'].astype('category')\n",
    "print(df['Name'].cat.categories)\n",
    "```"
   ]
  },
  {
   "cell_type": "markdown",
   "metadata": {},
   "source": [
    "#### Example 8: Applying a Function to Categorical Data\n",
    "\n",
    "```python\n",
    "# Applying a function to categorical data\n",
    "df['Name'] = df['Name'].apply(lambda x: x.lower())\n",
    "print(df)\n",
    "```"
   ]
  },
  {
   "cell_type": "markdown",
   "metadata": {},
   "source": [
    "### Working with Missing Values"
   ]
  },
  {
   "cell_type": "markdown",
   "metadata": {},
   "source": [
    "#### Example 9: Filling Missing Values\n",
    "\n",
    "```python\n",
    "# Adding missing values\n",
    "df.loc[1, 'Salary'] = None\n",
    "\n",
    "# Filling missing values with the mean value\n",
    "df['Salary'] = df['Salary'].fillna(df['Salary'].mean())\n",
    "print(df)\n",
    "```"
   ]
  },
  {
   "cell_type": "markdown",
   "metadata": {},
   "source": [
    "## **4. Grouping and Sorting**\n",
    "\n",
    "Grouping and sorting data are important operations for data analysis and processing. In Pandas, the `.groupby()` and `.sort_values()` methods are used for this."
   ]
  },
  {
   "cell_type": "markdown",
   "metadata": {},
   "source": [
    "### Grouping Data (Grouping)\n",
    "\n",
    "Grouping allows dividing data into groups based on certain criteria and performing aggregation (e.g., counting, summing, finding the average, etc.)."
   ]
  },
  {
   "cell_type": "markdown",
   "metadata": {},
   "source": [
    "#### Example 1: Grouping by a Single Column\n",
    "\n",
    "```python\n",
    "import pandas as pd\n",
    "\n",
    "df = pd.read_csv('data.csv')\n",
    "\n",
    "# Grouping by the \"City\" column and calculating the sum of sales\n",
    "grouped = df.groupby('City')['Salary'].max()\n",
    "print(grouped)\n",
    "```"
   ]
  },
  {
   "cell_type": "markdown",
   "metadata": {},
   "source": [
    "#### Example 3: Aggregating Data After Grouping\n",
    "\n",
    "The `.agg()` method allows applying multiple aggregation functions simultaneously.\n",
    "\n",
    "```python\n",
    "# Grouping by the \"City\" column and applying multiple aggregation functions\n",
    "grouped = df.groupby('City')['Salary'].agg(['sum', 'mean', 'count'])\n",
    "print(grouped)\n",
    "```"
   ]
  },
  {
   "cell_type": "markdown",
   "metadata": {},
   "source": [
    "### Sorting Data (Sorting)\n",
    "\n",
    "Sorting data allows ordering the rows of a DataFrame based on the values of one or more columns."
   ]
  },
  {
   "cell_type": "markdown",
   "metadata": {},
   "source": [
    "#### Example 5: Sorting by a Single Column\n",
    "\n",
    "```python\n",
    "# Sorting by the \"Sales\" column in ascending order\n",
    "sorted_df = df.sort_values(by='Salary')\n",
    "print(sorted_df)\n",
    "```"
   ]
  },
  {
   "cell_type": "markdown",
   "metadata": {},
   "source": [
    "#### Example 6: Sorting by Multiple Columns\n",
    "\n",
    "```python\n",
    "# Sorting by the \"City\" and \"Sales\" columns\n",
    "sorted_df = df.sort_values(by=['City', 'Salary'])\n",
    "print(sorted_df)\n",
    "```"
   ]
  },
  {
   "cell_type": "markdown",
   "metadata": {},
   "source": [
    "#### Example 7: Sorting in Descending Order\n",
    "\n",
    "```python\n",
    "# Sorting by the \"Sales\" column in descending order\n",
    "sorted_df = df.sort_values(by='Salary', ascending=False)\n",
    "print(sorted_df)\n",
    "```"
   ]
  },
  {
   "cell_type": "markdown",
   "metadata": {},
   "source": [
    "### Combining Grouping and Sorting"
   ]
  },
  {
   "cell_type": "markdown",
   "metadata": {},
   "source": [
    "#### Example 8: Grouping and Sorting Results\n",
    "\n",
    "```python\n",
    "# Grouping by the \"City\" column and calculating the sum of sales\n",
    "grouped = df.groupby('City')['Salary'].sum()\n",
    "\n",
    "# Sorting the grouping results\n",
    "sorted_grouped = grouped.sort_values(ascending=False)\n",
    "print(sorted_grouped)\n",
    "```"
   ]
  },
  {
   "cell_type": "markdown",
   "metadata": {},
   "source": [
    "#### Example 9: Grouping, Aggregation, and Sorting\n",
    "\n",
    "```python\n",
    "# Grouping by the \"City\" column, aggregation, and sorting\n",
    "result = df.groupby('City').agg({\n",
    "    'Salary': ['sum', 'mean'],\n",
    "    'Name': 'count'\n",
    "}).sort_values(by=('Salary', 'sum'), ascending=False)\n",
    "print(result)\n",
    "```\n",
    "\n",
    "```python\n",
    "### **Counting the Number of People in Each City**\n",
    "df_counts = df['City'].value_counts()\n",
    "print(df_counts)\n",
    "```"
   ]
  },
  {
   "cell_type": "markdown",
   "metadata": {},
   "source": [
    "## **5. Data Types and Missing Values**\n",
    "\n",
    "Working with data types and missing values is an important part of data processing. Pandas provides powerful tools for managing data types and handling missing values."
   ]
  },
  {
   "cell_type": "markdown",
   "metadata": {},
   "source": [
    "### Data Types\n",
    "\n",
    "Each column in a DataFrame has a specific data type. Pandas automatically infers data types when creating a DataFrame, but they can be manually changed."
   ]
  },
  {
   "cell_type": "markdown",
   "metadata": {},
   "source": [
    "#### Example 1: Viewing Data Types\n",
    "\n",
    "```python\n",
    "import pandas as pd\n",
    "\n",
    "# Create a DataFrame\n",
    "data = {\n",
    "    'Name': ['Alexey', 'Maria', 'Ivan'],\n",
    "    'Age': [25, 30, 22],\n",
    "    'Salary': [50000.0, 60000.0, 45000.0],\n",
    "    'Hire_Date': ['2021-01-01', '2020-05-15', '2019-11-20']\n",
    "}\n",
    "df = pd.DataFrame(data)\n",
    "\n",
    "# View data types\n",
    "print(df.dtypes)\n",
    "```"
   ]
  },
  {
   "cell_type": "markdown",
   "metadata": {},
   "source": [
    "#### Example 2: Changing Data Types\n",
    "\n",
    "```python\n",
    "# Change the data type of the \"Age\" column to float\n",
    "df['Age'] = df['Age'].astype(float)\n",
    "print(df.dtypes)\n",
    "```"
   ]
  },
  {
   "cell_type": "markdown",
   "metadata": {},
   "source": [
    "#### Example 3: Converting Strings to Dates\n",
    "\n",
    "```python\n",
    "# Convert the \"Hire_Date\" column to datetime type\n",
    "df['Hire_Date'] = pd.to_datetime(df['Hire_Date'])\n",
    "print(df.dtypes)\n",
    "```"
   ]
  },
  {
   "cell_type": "markdown",
   "metadata": {},
   "source": [
    "### Missing Values\n",
    "\n",
    "Missing values can occur for various reasons, and Pandas provides tools to handle them."
   ]
  },
  {
   "cell_type": "markdown",
   "metadata": {},
   "source": [
    "#### Example 5: Detecting Missing Values\n",
    "\n",
    "```python\n",
    "# Add missing values\n",
    "df.loc[1, 'Salary'] = None\n",
    "df.loc[2, 'Age'] = None\n",
    "\n",
    "# Check for missing values using isna and isnull\n",
    "print(df.isna())\n",
    "```"
   ]
  },
  {
   "cell_type": "markdown",
   "metadata": {},
   "source": [
    "#### Example 6: Counting Missing Values\n",
    "\n",
    "```python\n",
    "# Count missing values in each column\n",
    "print(df.isnull().sum())\n",
    "```"
   ]
  },
  {
   "cell_type": "markdown",
   "metadata": {},
   "source": [
    "#### Example 7: Filling Missing Values\n",
    "\n",
    "```python\n",
    "# Fill missing values in the \"Salary\" column with the mean value\n",
    "df['Salary'] = df['Salary'].fillna(df['Salary'].mean())\n",
    "\n",
    "# Fill missing values in the \"Age\" column with the median value\n",
    "df['Age'] = df['Age'].fillna(df['Age'].median())\n",
    "\n",
    "print(df)\n",
    "```"
   ]
  },
  {
   "cell_type": "markdown",
   "metadata": {},
   "source": [
    "#### Example 8: Removing Rows with Missing Values\n",
    "\n",
    "```python\n",
    "# Remove rows with any missing values\n",
    "df_cleaned = df.dropna()\n",
    "print(df_cleaned)\n",
    "```"
   ]
  },
  {
   "cell_type": "markdown",
   "metadata": {},
   "source": [
    "#### Example 9: Filling Missing Values Using Interpolation\n",
    "\n",
    "```python\n",
    "# Interpolate missing values\n",
    "df['Age'] = df['Age'].interpolate()\n",
    "print(df)\n",
    "```"
   ]
  },
  {
   "cell_type": "markdown",
   "metadata": {},
   "source": [
    "### Working with Categorical Data"
   ]
  },
  {
   "cell_type": "markdown",
   "metadata": {},
   "source": [
    "#### Example 10: Converting Data to Categories\n",
    "\n",
    "```python\n",
    "# Convert the \"Name\" column to categorical type\n",
    "df['Name'] = df['Name'].astype('category')\n",
    "print(df['Name'].cat.categories)\n",
    "```"
   ]
  },
  {
   "cell_type": "markdown",
   "metadata": {},
   "source": [
    "#### Example 11: Adding a New Category\n",
    "\n",
    "```python\n",
    "# Add a new category\n",
    "df['Name'] = df['Name'].cat.add_categories(['Olga'])\n",
    "print(df['Name'].cat.categories)\n",
    "```"
   ]
  },
  {
   "cell_type": "markdown",
   "metadata": {},
   "source": [
    "### Additional Examples"
   ]
  },
  {
   "cell_type": "markdown",
   "metadata": {},
   "source": [
    "#### Example 12: Replacing Values\n",
    "\n",
    "```python\n",
    "# Replace the value \"Maria\" with \"Marina\" in the \"Name\" column\n",
    "df['Name'] = df['Name'].replace('Maria', 'Marina')\n",
    "print(df)\n",
    "```"
   ]
  },
  {
   "cell_type": "markdown",
   "metadata": {},
   "source": [
    "## **6. Renaming and Combining**\n",
    "\n",
    "Pandas provides convenient tools for renaming columns and indices, as well as for combining data from different sources. In this section, we will look at how to rename columns and indices, and how to combine DataFrames using various methods."
   ]
  },
  {
   "cell_type": "markdown",
   "metadata": {},
   "source": [
    "### Renaming"
   ]
  },
  {
   "cell_type": "markdown",
   "metadata": {},
   "source": [
    "#### Example 1: Renaming Columns\n",
    "\n",
    "```python\n",
    "import pandas as pd\n",
    "\n",
    "# Create a DataFrame\n",
    "data = {\n",
    "    'Name': ['Alexey', 'Maria', 'Ivan'],\n",
    "    'Age': [25, 30, 22],\n",
    "    'City': ['Moscow', 'St. Petersburg', 'Novosibirsk']\n",
    "}\n",
    "df = pd.DataFrame(data)\n",
    "\n",
    "# Rename columns\n",
    "df = df.rename(columns={\n",
    "    'Name': 'Full Name',\n",
    "    'Age': 'Age, years',\n",
    "    'City': 'Residence'\n",
    "})\n",
    "print(df)\n",
    "```"
   ]
  },
  {
   "cell_type": "markdown",
   "metadata": {},
   "source": [
    "#### Example 2: Renaming Indices\n",
    "\n",
    "```python\n",
    "# Rename indices\n",
    "df = df.rename(index={0: 'a', 1: 'b', 2: 'c'})\n",
    "print(df)\n",
    "```"
   ]
  },
  {
   "cell_type": "markdown",
   "metadata": {},
   "source": [
    "#### Example 3: Renaming Using `.columns`\n",
    "\n",
    "```python\n",
    "# Rename columns directly using the .columns attribute\n",
    "df.columns = ['Full Name', 'Age', 'City']\n",
    "print(df)\n",
    "```"
   ]
  },
  {
   "cell_type": "markdown",
   "metadata": {},
   "source": [
    "### Combining Data"
   ]
  },
  {
   "cell_type": "markdown",
   "metadata": {},
   "source": [
    "#### Example 4: Combining Rows with `pd.concat()`\n",
    "\n",
    "```python\n",
    "# Create two DataFrames\n",
    "df1 = pd.DataFrame({\n",
    "    'Name': ['Alexey', 'Maria'],\n",
    "    'Age': [25, 30]\n",
    "})\n",
    "\n",
    "df2 = pd.DataFrame({\n",
    "    'Name': ['Ivan', 'Olga'],\n",
    "    'Age': [22, 28]\n",
    "})\n",
    "\n",
    "# Combine rows\n",
    "result = pd.concat([df1, df2], ignore_index=True)\n",
    "print(result)\n",
    "```"
   ]
  },
  {
   "cell_type": "markdown",
   "metadata": {},
   "source": [
    "#### Example 5: Combining Columns\n",
    "\n",
    "```python\n",
    "# Combine columns\n",
    "result = pd.concat([df1, df2], axis=1)\n",
    "print(result)\n",
    "```"
   ]
  },
  {
   "cell_type": "markdown",
   "metadata": {},
   "source": [
    "#### Example 6: Combining with `pd.merge()`\n",
    "\n",
    "```python\n",
    "# Create two DataFrames\n",
    "df1 = pd.DataFrame({\n",
    "    'ID': [1, 2, 3],\n",
    "    'Name': ['Alexey', 'Maria', 'Ivan']\n",
    "})\n",
    "\n",
    "df2 = pd.DataFrame({\n",
    "    'ID': [1, 2, 4],\n",
    "    'Salary': [50000, 60000, 45000]\n",
    "})\n",
    "\n",
    "# Inner join\n",
    "result = pd.merge(df1, df2, on='ID', how='inner')\n",
    "print(result)\n",
    "```"
   ]
  },
  {
   "cell_type": "markdown",
   "metadata": {},
   "source": [
    "#### Example 7: Combining with Different Types of JOIN\n",
    "\n",
    "```python\n",
    "# Left join\n",
    "result = pd.merge(df1, df2, on='ID', how='left')\n",
    "print(result)\n",
    "print()\n",
    "\n",
    "# Outer join\n",
    "result = pd.merge(df1, df2, on='ID', how='outer')\n",
    "print(result)\n",
    "```"
   ]
  },
  {
   "cell_type": "markdown",
   "metadata": {},
   "source": [
    "#### Example 8: Combining on Multiple Keys\n",
    "\n",
    "```python\n",
    "# Create two DataFrames\n",
    "df1 = pd.DataFrame({\n",
    "    'ID': [1, 2, 3],\n",
    "    'City': ['Moscow', 'St. Petersburg', 'Novosibirsk'],\n",
    "    'Name': ['Alexey', 'Maria', 'Ivan']\n",
    "})\n",
    "\n",
    "df2 = pd.DataFrame({\n",
    "    'ID': [1, 2, 4],\n",
    "    'City': ['Moscow', 'St. Petersburg', 'Kazan'],\n",
    "    'Salary': [50000, 60000, 45000]\n",
    "})\n",
    "\n",
    "# Combine on multiple keys\n",
    "result = pd.merge(df1, df2, on=['ID', 'City'], how='inner')\n",
    "print(result)\n",
    "```"
   ]
  },
  {
   "cell_type": "markdown",
   "metadata": {},
   "source": [
    "## **7. Modifying Data**\n",
    "\n",
    "```python\n",
    "df = pd.read_csv('data.csv')\n",
    "df.head()\n",
    "```"
   ]
  },
  {
   "cell_type": "markdown",
   "metadata": {},
   "source": [
    "### Adding New Columns\n",
    "\n",
    "```python\n",
    "df['Net Salary'] = df['Salary'] * 0.87  # Calculate income after tax\n",
    "print(df.head())\n",
    "```"
   ]
  },
  {
   "cell_type": "markdown",
   "metadata": {},
   "source": [
    "### Removing Columns\n",
    "\n",
    "```python\n",
    "df.drop(columns=['Hire Date'], inplace=True)  # Remove the 'City' column\n",
    "print(df.head())\n",
    "```"
   ]
  },
  {
   "cell_type": "markdown",
   "metadata": {},
   "source": [
    "### Removing Duplicates\n",
    "\n",
    "Often, data contains duplicate rows that need to be removed."
   ]
  },
  {
   "cell_type": "markdown",
   "metadata": {},
   "source": [
    "#### Checking for Duplicates\n",
    "\n",
    "```python\n",
    "print(df.duplicated().sum())  # Number of duplicates\n",
    "```"
   ]
  },
  {
   "cell_type": "markdown",
   "metadata": {},
   "source": [
    "#### Removing Duplicates\n",
    "\n",
    "```python\n",
    "df = df.drop_duplicates()\n",
    "# You can also remove duplicates based on specific columns:\n",
    "df = df.drop_duplicates(subset=['Name'])\n",
    "```"
   ]
  }
 ],
 "metadata": {
  "language_info": {
   "name": "python"
  }
 },
 "nbformat": 4,
 "nbformat_minor": 2
}
