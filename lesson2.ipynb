{
 "cells": [
  {
   "cell_type": "markdown",
   "metadata": {},
   "source": [
    "## **1. Conditions and Conditional Statements**"
   ]
  },
  {
   "cell_type": "markdown",
   "metadata": {},
   "source": [
    "### **1.1 Comparison Operators**\n",
    "Comparison operators are used to compare two values. The result is a **Boolean** value (`True` or `False`).\n",
    "\n",
    "| Operator | Description                  | Example       | Result  |\n",
    "|----------|------------------------------|---------------|---------|\n",
    "| `==`     | Equal to                     | `10 == 5`     | `False` |\n",
    "| `!=`     | Not equal to                 | `10 != 5`     | `True`  |\n",
    "| `>`      | Greater than                 | `10 > 5`      | `True`  |\n",
    "| `<`      | Less than                    | `10 < 5`      | `False` |\n",
    "| `>=`     | Greater than or equal to     | `10 >= 10`    | `True`  |\n",
    "| `<=`     | Less than or equal to        | `10 <= 5`     | `False` |\n",
    "\n",
    "**Example**:"
   ]
  },
  {
   "cell_type": "code",
   "execution_count": 1,
   "metadata": {},
   "outputs": [
    {
     "name": "stdout",
     "output_type": "stream",
     "text": [
      "False\n",
      "True\n",
      "False\n"
     ]
    }
   ],
   "source": [
    "x = 10\n",
    "y = 5\n",
    "\n",
    "print(x == y)  # Output: False\n",
    "print(x > y)   # Output: True\n",
    "print(x <= y)  # Output: False"
   ]
  },
  {
   "cell_type": "markdown",
   "metadata": {},
   "source": [
    "### **1.2 Logical Operators**\n",
    "Logical operators combine multiple conditions.\n",
    "\n",
    "| Operator | Description                  | Example                     | Result  |\n",
    "|----------|------------------------------|-----------------------------|---------|\n",
    "| `and`    | True if both conditions are true | `(x > 5) and (y < 10)`     | Depends |\n",
    "| `or`     | True if at least one condition is true | `(x > 5) or (y > 10)` | Depends |\n",
    "| `not`    | Inverts the condition        | `not (x == y)`              | Depends |\n",
    "\n",
    "**Example**:"
   ]
  },
  {
   "cell_type": "code",
   "execution_count": 2,
   "metadata": {},
   "outputs": [
    {
     "name": "stdout",
     "output_type": "stream",
     "text": [
      "True\n",
      "True\n",
      "True\n"
     ]
    }
   ],
   "source": [
    "x = 10\n",
    "y = 5\n",
    "\n",
    "print((x > 5) and (y < 10))  # Output: True\n",
    "print((x > 5) or (y > 10))   # Output: True\n",
    "print(not (x == y))          # Output: True"
   ]
  },
  {
   "cell_type": "markdown",
   "metadata": {},
   "source": [
    "### **1.3 Conditional Statements**\n",
    "Conditional statements allow you to execute different blocks of code based on conditions.\n",
    "\n",
    "#### **1. `if` Statement**\n",
    "- Executes a block of code if the condition is `True`.\n",
    "- **Syntax**:\n",
    "  ```python\n",
    "  if condition:\n",
    "      # Code to execute if condition is True\n",
    "  ```\n",
    "- **Example**:"
   ]
  },
  {
   "cell_type": "code",
   "execution_count": 4,
   "metadata": {},
   "outputs": [
    {
     "name": "stdout",
     "output_type": "stream",
     "text": [
      "You are an adult.\n"
     ]
    }
   ],
   "source": [
    "age = 18\n",
    "if age >= 18:\n",
    "    print(\"You are an adult.\")"
   ]
  },
  {
   "cell_type": "markdown",
   "metadata": {},
   "source": [
    "#### **2. `if-else` Statement**\n",
    "- Executes one block of code if the condition is `True` and another if it’s `False`.\n",
    "- **Syntax**:\n",
    "  ```python\n",
    "  if condition:\n",
    "      # Code to execute if condition is True\n",
    "  else:\n",
    "      # Code to execute if condition is False\n",
    "  ```\n",
    "- **Example**:"
   ]
  },
  {
   "cell_type": "code",
   "execution_count": 5,
   "metadata": {},
   "outputs": [
    {
     "name": "stdout",
     "output_type": "stream",
     "text": [
      "You are a minor.\n"
     ]
    }
   ],
   "source": [
    "age = 16\n",
    "if age >= 18:\n",
    "    print(\"You are an adult.\")\n",
    "else:\n",
    "    print(\"You are a minor.\")"
   ]
  },
  {
   "cell_type": "markdown",
   "metadata": {},
   "source": [
    "#### **3. `if-elif-else` Statement**\n",
    "- Checks multiple conditions in sequence.\n",
    "- **Syntax**:\n",
    "  ```python\n",
    "  if condition1:\n",
    "      # Code to execute if condition1 is True\n",
    "  elif condition2:\n",
    "      # Code to execute if condition2 is True\n",
    "  else:\n",
    "      # Code to execute if all conditions are False\n",
    "  ```\n",
    "- **Example**:"
   ]
  },
  {
   "cell_type": "code",
   "execution_count": 6,
   "metadata": {},
   "outputs": [
    {
     "name": "stdout",
     "output_type": "stream",
     "text": [
      "Grade: B\n"
     ]
    }
   ],
   "source": [
    "score = 85\n",
    "if score >= 90:\n",
    "    print(\"Grade: A\")\n",
    "elif score >= 80:\n",
    "    print(\"Grade: B\")\n",
    "elif score >= 70:\n",
    "    print(\"Grade: C\")\n",
    "else:\n",
    "    print(\"Grade: F\")"
   ]
  },
  {
   "cell_type": "markdown",
   "metadata": {},
   "source": [
    "### **1.4 Nested Conditional Statements**\n",
    "You can nest conditional statements inside one another for complex logic.\n",
    "\n",
    "**Example**:"
   ]
  },
  {
   "cell_type": "code",
   "execution_count": 7,
   "metadata": {},
   "outputs": [
    {
     "name": "stdout",
     "output_type": "stream",
     "text": [
      "You are an adult student.\n"
     ]
    }
   ],
   "source": [
    "age = 20\n",
    "is_student = True\n",
    "\n",
    "if age >= 18:\n",
    "    if is_student:\n",
    "        print(\"You are an adult student.\")\n",
    "    else:\n",
    "        print(\"You are an adult.\")\n",
    "else:\n",
    "    print(\"You are a minor.\")"
   ]
  },
  {
   "cell_type": "markdown",
   "metadata": {},
   "source": [
    "### **1.5 Ternary Operator**\n",
    "The ternary operator provides a shorthand for simple `if-else` statements.\n",
    "\n",
    "**Syntax**:\n",
    "```python\n",
    "value_if_true if condition else value_if_false\n",
    "```\n",
    "\n",
    "**Example**:"
   ]
  },
  {
   "cell_type": "code",
   "execution_count": 8,
   "metadata": {},
   "outputs": [
    {
     "name": "stdout",
     "output_type": "stream",
     "text": [
      "Adult\n"
     ]
    }
   ],
   "source": [
    "age = 20\n",
    "status = \"Adult\" if age >= 18 else \"Minor\"\n",
    "print(status)  # Output: Adult"
   ]
  },
  {
   "cell_type": "markdown",
   "metadata": {},
   "source": [
    "### **1.6 Practice Problems**\n",
    "\n",
    "#### **Problem 1: Check if a Number is Positive, Negative, or Zero**"
   ]
  },
  {
   "cell_type": "code",
   "execution_count": 9,
   "metadata": {},
   "outputs": [
    {
     "name": "stdout",
     "output_type": "stream",
     "text": [
      "Positive\n"
     ]
    }
   ],
   "source": [
    "number = float(input(\"Enter a number: \"))\n",
    "if number > 0:\n",
    "    print(\"Positive\")\n",
    "elif number < 0:\n",
    "    print(\"Negative\")\n",
    "else:\n",
    "    print(\"Zero\")"
   ]
  },
  {
   "cell_type": "markdown",
   "metadata": {},
   "source": [
    "#### **Problem 2: Find the Largest of Three Numbers**"
   ]
  },
  {
   "cell_type": "code",
   "execution_count": 10,
   "metadata": {},
   "outputs": [
    {
     "name": "stdout",
     "output_type": "stream",
     "text": [
      "30.0 is the largest.\n"
     ]
    }
   ],
   "source": [
    "a = float(input(\"Enter the first number: \"))\n",
    "b = float(input(\"Enter the second number: \"))\n",
    "c = float(input(\"Enter the third number: \"))\n",
    "\n",
    "if a >= b and a >= c:\n",
    "    print(f\"{a} is the largest.\")\n",
    "elif b >= a and b >= c:\n",
    "    print(f\"{b} is the largest.\")\n",
    "else:\n",
    "    print(f\"{c} is the largest.\")"
   ]
  },
  {
   "cell_type": "markdown",
   "metadata": {},
   "source": [
    "#### **Problem 3: Check if a Year is a Leap Year**"
   ]
  },
  {
   "cell_type": "code",
   "execution_count": 12,
   "metadata": {},
   "outputs": [
    {
     "name": "stdout",
     "output_type": "stream",
     "text": [
      "2025 is not a leap year.\n"
     ]
    }
   ],
   "source": [
    "year = int(input(\"Enter a year: \"))\n",
    "if (year % 4 == 0 and year % 100 != 0) or (year % 400 == 0):\n",
    "    print(f\"{year} is a leap year.\")\n",
    "else:\n",
    "    print(f\"{year} is not a leap year.\")"
   ]
  },
  {
   "cell_type": "markdown",
   "metadata": {},
   "source": [
    "## **2. Lists**"
   ]
  },
  {
   "cell_type": "markdown",
   "metadata": {},
   "source": [
    "### **2.1 What is a List?**\n",
    "- **Definition**: A list is an ordered, mutable collection of items enclosed in square brackets `[]`.\n",
    "- **Example**:"
   ]
  },
  {
   "cell_type": "code",
   "execution_count": 13,
   "metadata": {},
   "outputs": [],
   "source": [
    "fruits = [\"apple\", \"banana\", \"cherry\"]\n",
    "numbers = [1, 2, 3, 4, 5]\n",
    "mixed = [1, \"apple\", 3.14, True]"
   ]
  },
  {
   "cell_type": "markdown",
   "metadata": {},
   "source": [
    "### **2.2 Accessing List Elements**\n",
    "#### **1. Indexing**\n",
    "- Lists are zero-indexed.\n",
    "- **Example**:"
   ]
  },
  {
   "cell_type": "code",
   "execution_count": 14,
   "metadata": {},
   "outputs": [
    {
     "name": "stdout",
     "output_type": "stream",
     "text": [
      "apple\n"
     ]
    }
   ],
   "source": [
    "fruits = [\"apple\", \"banana\", \"cherry\"]\n",
    "print(fruits[0])  # Output: apple"
   ]
  },
  {
   "cell_type": "markdown",
   "metadata": {},
   "source": [
    "#### **2. Negative Indexing**\n",
    "- Negative indices count from the end.\n",
    "- **Example**:"
   ]
  },
  {
   "cell_type": "code",
   "execution_count": 15,
   "metadata": {},
   "outputs": [
    {
     "name": "stdout",
     "output_type": "stream",
     "text": [
      "cherry\n"
     ]
    }
   ],
   "source": [
    "fruits = [\"apple\", \"banana\", \"cherry\"]\n",
    "print(fruits[-1])  # Output: cherry"
   ]
  },
  {
   "cell_type": "markdown",
   "metadata": {},
   "source": [
    "#### **3. Slicing**\n",
    "- Extract a sublist using `list[start:stop:step]`.\n",
    "- **Example**:"
   ]
  },
  {
   "cell_type": "code",
   "execution_count": 16,
   "metadata": {},
   "outputs": [
    {
     "name": "stdout",
     "output_type": "stream",
     "text": [
      "[3, 4, 5]\n"
     ]
    }
   ],
   "source": [
    "numbers = [1, 2, 3, 4, 5, 6, 7, 8, 9]\n",
    "print(numbers[2:5])  # Output: [3, 4, 5]"
   ]
  },
  {
   "cell_type": "markdown",
   "metadata": {},
   "source": [
    "### **2.3 Modifying Lists**\n",
    "#### **1. Changing Elements**\n",
    "- **Example**:"
   ]
  },
  {
   "cell_type": "code",
   "execution_count": 17,
   "metadata": {},
   "outputs": [
    {
     "name": "stdout",
     "output_type": "stream",
     "text": [
      "['apple', 'blueberry', 'cherry']\n"
     ]
    }
   ],
   "source": [
    "fruits = [\"apple\", \"banana\", \"cherry\"]\n",
    "fruits[1] = \"blueberry\"\n",
    "print(fruits)  # Output: ['apple', 'blueberry', 'cherry']"
   ]
  },
  {
   "cell_type": "markdown",
   "metadata": {},
   "source": [
    "#### **2. Adding Elements**\n",
    "- **`append()`**: Add an element to the end.\n",
    "- **`insert()`**: Insert an element at a specific index.\n",
    "- **`extend()`**: Add multiple elements.\n",
    "- **Example**:"
   ]
  },
  {
   "cell_type": "code",
   "execution_count": 18,
   "metadata": {},
   "outputs": [
    {
     "name": "stdout",
     "output_type": "stream",
     "text": [
      "['apple', 'blueberry', 'banana', 'cherry', 'orange', 'kiwi']\n"
     ]
    }
   ],
   "source": [
    "fruits = [\"apple\", \"banana\"]\n",
    "fruits.append(\"cherry\")\n",
    "fruits.insert(1, \"blueberry\")\n",
    "fruits.extend([\"orange\", \"kiwi\"])\n",
    "print(fruits)"
   ]
  },
  {
   "cell_type": "markdown",
   "metadata": {},
   "source": [
    "#### **3. Removing Elements**\n",
    "- **`remove()`**: Remove the first occurrence of a value.\n",
    "- **`pop()`**: Remove an element by index.\n",
    "- **`del`**: Delete an element or slice.\n",
    "- **`clear()`**: Remove all elements.\n",
    "- **Example**:"
   ]
  },
  {
   "cell_type": "code",
   "execution_count": 20,
   "metadata": {},
   "outputs": [
    {
     "name": "stdout",
     "output_type": "stream",
     "text": [
      "[]\n"
     ]
    }
   ],
   "source": [
    "fruits = [\"apple\", \"banana\", \"cherry\"]\n",
    "fruits.remove(\"banana\")\n",
    "fruits.pop(1)\n",
    "del fruits[0]\n",
    "fruits.clear()\n",
    "print(fruits)"
   ]
  },
  {
   "cell_type": "markdown",
   "metadata": {},
   "source": [
    "### **2.4 List Operations**\n",
    "#### **1. Concatenation**\n",
    "- Combine two lists using `+`.\n",
    "- **Example**:"
   ]
  },
  {
   "cell_type": "code",
   "execution_count": 21,
   "metadata": {},
   "outputs": [
    {
     "name": "stdout",
     "output_type": "stream",
     "text": [
      "[1, 2, 3, 4, 5, 6]\n"
     ]
    }
   ],
   "source": [
    "list1 = [1, 2, 3]\n",
    "list2 = [4, 5, 6]\n",
    "combined = list1 + list2\n",
    "print(combined)  # Output: [1, 2, 3, 4, 5, 6]"
   ]
  },
  {
   "cell_type": "markdown",
   "metadata": {},
   "source": [
    "#### **2. Repetition**\n",
    "- Repeat a list using `*`.\n",
    "- **Example**:"
   ]
  },
  {
   "cell_type": "code",
   "execution_count": 22,
   "metadata": {},
   "outputs": [
    {
     "name": "stdout",
     "output_type": "stream",
     "text": [
      "[1, 2, 3, 1, 2, 3, 1, 2, 3]\n"
     ]
    }
   ],
   "source": [
    "numbers = [1, 2, 3]\n",
    "repeated = numbers * 3\n",
    "print(repeated)  # Output: [1, 2, 3, 1, 2, 3, 1, 2, 3]"
   ]
  },
  {
   "cell_type": "markdown",
   "metadata": {},
   "source": [
    "#### **3. Membership**\n",
    "- Check if an item exists in a list using `in`.\n",
    "- **Example**:"
   ]
  },
  {
   "cell_type": "code",
   "execution_count": 23,
   "metadata": {},
   "outputs": [
    {
     "name": "stdout",
     "output_type": "stream",
     "text": [
      "True\n"
     ]
    }
   ],
   "source": [
    "fruits = [\"apple\", \"banana\", \"cherry\"]\n",
    "print(\"banana\" in fruits)  # Output: True"
   ]
  },
  {
   "cell_type": "markdown",
   "metadata": {},
   "source": [
    "### **2.5 List Methods**\n",
    "| Method       | Description                              | Example                          |\n",
    "|--------------|------------------------------------------|----------------------------------|\n",
    "| `append()`   | Adds an element to the end of the list   | `fruits.append(\"kiwi\")`          |\n",
    "| `insert()`   | Inserts an element at a specific index   | `fruits.insert(1, \"blueberry\")`  |\n",
    "| `extend()`   | Adds elements from another list          | `fruits.extend([\"orange\", \"kiwi\"])` |\n",
    "| `remove()`   | Removes the first occurrence of a value  | `fruits.remove(\"banana\")`        |\n",
    "| `pop()`      | Removes an element by index              | `fruits.pop(1)`                  |\n",
    "| `clear()`    | Removes all elements from the list       | `fruits.clear()`                 |\n",
    "| `index()`    | Returns the index of the first occurrence of a value | `fruits.index(\"cherry\")` |\n",
    "| `count()`    | Returns the number of occurrences of a value | `fruits.count(\"banana\")`     |\n",
    "| `sort()`     | Sorts the list in place                  | `fruits.sort()`                 |\n",
    "| `reverse()`  | Reverses the list in place               | `fruits.reverse()`              |\n",
    "| `copy()`     | Returns a shallow copy of the list       | `new_fruits = fruits.copy()`    |\n"
   ]
  },
  {
   "cell_type": "markdown",
   "metadata": {},
   "source": [
    "### **2.6 Practice Problems**\n",
    "\n",
    "#### **Problem 1: Find the Sum of List Elements**"
   ]
  },
  {
   "cell_type": "code",
   "execution_count": 24,
   "metadata": {},
   "outputs": [
    {
     "name": "stdout",
     "output_type": "stream",
     "text": [
      "The sum is 15.\n"
     ]
    }
   ],
   "source": [
    "numbers = [1, 2, 3, 4, 5]\n",
    "total = sum(numbers)\n",
    "print(f\"The sum is {total}.\")"
   ]
  },
  {
   "cell_type": "markdown",
   "metadata": {},
   "source": [
    "#### **Problem 2: Find the Maximum and Minimum in a List**"
   ]
  },
  {
   "cell_type": "code",
   "execution_count": 25,
   "metadata": {},
   "outputs": [
    {
     "name": "stdout",
     "output_type": "stream",
     "text": [
      "Max: 30, Min: 5.\n"
     ]
    }
   ],
   "source": [
    "numbers = [10, 20, 5, 30, 15]\n",
    "max_value = max(numbers)\n",
    "min_value = min(numbers)\n",
    "print(f\"Max: {max_value}, Min: {min_value}.\")"
   ]
  },
  {
   "cell_type": "markdown",
   "metadata": {},
   "source": [
    "#### **Problem 3: Remove Duplicates from a List**"
   ]
  },
  {
   "cell_type": "code",
   "execution_count": 26,
   "metadata": {},
   "outputs": [
    {
     "name": "stdout",
     "output_type": "stream",
     "text": [
      "[1, 2, 3, 4, 5]\n"
     ]
    }
   ],
   "source": [
    "numbers = [1, 2, 2, 3, 4, 4, 5]\n",
    "unique_numbers = list(set(numbers))\n",
    "print(unique_numbers)"
   ]
  },
  {
   "cell_type": "markdown",
   "metadata": {},
   "source": [
    "## **3. Tuples**"
   ]
  },
  {
   "cell_type": "markdown",
   "metadata": {},
   "source": [
    "### **3.1 What is a Tuple?**\n",
    "- **Definition**: A tuple is an ordered, immutable collection of items enclosed in parentheses `()`.\n",
    "- **Example**:"
   ]
  },
  {
   "cell_type": "code",
   "execution_count": 27,
   "metadata": {},
   "outputs": [],
   "source": [
    "fruits = (\"apple\", \"banana\", \"cherry\")\n",
    "numbers = (1, 2, 3, 4, 5)\n",
    "mixed = (1, \"apple\", 3.14, True)"
   ]
  },
  {
   "cell_type": "markdown",
   "metadata": {},
   "source": [
    "### **3.2 Accessing Tuple Elements**\n",
    "#### **1. Indexing**\n",
    "- Tuples are zero-indexed.\n",
    "- **Example**:"
   ]
  },
  {
   "cell_type": "code",
   "execution_count": 28,
   "metadata": {},
   "outputs": [
    {
     "name": "stdout",
     "output_type": "stream",
     "text": [
      "apple\n"
     ]
    }
   ],
   "source": [
    "fruits = (\"apple\", \"banana\", \"cherry\")\n",
    "print(fruits[0])  # Output: apple"
   ]
  },
  {
   "cell_type": "markdown",
   "metadata": {},
   "source": [
    "#### **2. Negative Indexing**\n",
    "- Negative indices count from the end.\n",
    "- **Example**:"
   ]
  },
  {
   "cell_type": "code",
   "execution_count": 29,
   "metadata": {},
   "outputs": [
    {
     "name": "stdout",
     "output_type": "stream",
     "text": [
      "cherry\n"
     ]
    }
   ],
   "source": [
    "fruits = (\"apple\", \"banana\", \"cherry\")\n",
    "print(fruits[-1])  # Output: cherry"
   ]
  },
  {
   "cell_type": "markdown",
   "metadata": {},
   "source": [
    "#### **3. Slicing**\n",
    "- Extract a subtuple using `tuple[start:stop:step]`.\n",
    "- **Example**:"
   ]
  },
  {
   "cell_type": "code",
   "execution_count": 30,
   "metadata": {},
   "outputs": [
    {
     "name": "stdout",
     "output_type": "stream",
     "text": [
      "(3, 4, 5)\n"
     ]
    }
   ],
   "source": [
    "numbers = (1, 2, 3, 4, 5, 6, 7, 8, 9)\n",
    "print(numbers[2:5])  # Output: (3, 4, 5)"
   ]
  },
  {
   "cell_type": "markdown",
   "metadata": {},
   "source": [
    "### **3.3 Immutability of Tuples**\n",
    "- Tuples cannot be modified after creation.\n",
    "- **Example**:"
   ]
  },
  {
   "cell_type": "code",
   "execution_count": 31,
   "metadata": {},
   "outputs": [
    {
     "ename": "TypeError",
     "evalue": "'tuple' object does not support item assignment",
     "output_type": "error",
     "traceback": [
      "\u001b[1;31m---------------------------------------------------------------------------\u001b[0m",
      "\u001b[1;31mTypeError\u001b[0m                                 Traceback (most recent call last)",
      "Cell \u001b[1;32mIn[31], line 2\u001b[0m\n\u001b[0;32m      1\u001b[0m fruits \u001b[38;5;241m=\u001b[39m (\u001b[38;5;124m\"\u001b[39m\u001b[38;5;124mapple\u001b[39m\u001b[38;5;124m\"\u001b[39m, \u001b[38;5;124m\"\u001b[39m\u001b[38;5;124mbanana\u001b[39m\u001b[38;5;124m\"\u001b[39m, \u001b[38;5;124m\"\u001b[39m\u001b[38;5;124mcherry\u001b[39m\u001b[38;5;124m\"\u001b[39m)\n\u001b[1;32m----> 2\u001b[0m \u001b[43mfruits\u001b[49m\u001b[43m[\u001b[49m\u001b[38;5;241;43m1\u001b[39;49m\u001b[43m]\u001b[49m \u001b[38;5;241m=\u001b[39m \u001b[38;5;124m\"\u001b[39m\u001b[38;5;124mblueberry\u001b[39m\u001b[38;5;124m\"\u001b[39m  \u001b[38;5;66;03m# Error: 'tuple' object does not support item assignment\u001b[39;00m\n",
      "\u001b[1;31mTypeError\u001b[0m: 'tuple' object does not support item assignment"
     ]
    }
   ],
   "source": [
    "fruits = (\"apple\", \"banana\", \"cherry\")\n",
    "fruits[1] = \"blueberry\"  # Error: 'tuple' object does not support item assignment"
   ]
  },
  {
   "cell_type": "markdown",
   "metadata": {},
   "source": [
    "### **3.4 Tuple Operations**\n",
    "#### **1. Concatenation**\n",
    "- Combine two tuples using `+`.\n",
    "- **Example**:"
   ]
  },
  {
   "cell_type": "code",
   "execution_count": 32,
   "metadata": {},
   "outputs": [
    {
     "name": "stdout",
     "output_type": "stream",
     "text": [
      "(1, 2, 3, 4, 5, 6)\n"
     ]
    }
   ],
   "source": [
    "tuple1 = (1, 2, 3)\n",
    "tuple2 = (4, 5, 6)\n",
    "combined = tuple1 + tuple2\n",
    "print(combined)  # Output: (1, 2, 3, 4, 5, 6)"
   ]
  },
  {
   "cell_type": "markdown",
   "metadata": {},
   "source": [
    "#### **2. Repetition**\n",
    "- Repeat a tuple using `*`.\n",
    "- **Example**:"
   ]
  },
  {
   "cell_type": "code",
   "execution_count": 33,
   "metadata": {},
   "outputs": [
    {
     "name": "stdout",
     "output_type": "stream",
     "text": [
      "(1, 2, 3, 1, 2, 3, 1, 2, 3)\n"
     ]
    }
   ],
   "source": [
    "numbers = (1, 2, 3)\n",
    "repeated = numbers * 3\n",
    "print(repeated)  # Output: (1, 2, 3, 1, 2, 3, 1, 2, 3)"
   ]
  },
  {
   "cell_type": "markdown",
   "metadata": {},
   "source": [
    "#### **3. Membership**\n",
    "- Check if an item exists in a tuple using `in`.\n",
    "- **Example**:"
   ]
  },
  {
   "cell_type": "code",
   "execution_count": 34,
   "metadata": {},
   "outputs": [
    {
     "name": "stdout",
     "output_type": "stream",
     "text": [
      "True\n"
     ]
    }
   ],
   "source": [
    "fruits = (\"apple\", \"banana\", \"cherry\")\n",
    "print(\"banana\" in fruits)  # Output: True"
   ]
  },
  {
   "cell_type": "markdown",
   "metadata": {},
   "source": [
    "### **3.5 Tuple Methods**\n",
    "| Method       | Description                              | Example                          |\n",
    "|--------------|------------------------------------------|----------------------------------|\n",
    "| `count()`    | Returns the number of occurrences of a value | `fruits.count(\"banana\")`     |\n",
    "| `index()`    | Returns the index of the first occurrence of a value | `fruits.index(\"cherry\")` |\n"
   ]
  },
  {
   "cell_type": "markdown",
   "metadata": {},
   "source": [
    "### **3.6 Practice Problems**\n",
    "\n",
    "#### **Problem 1: Find the Length of a Tuple**"
   ]
  },
  {
   "cell_type": "code",
   "execution_count": 35,
   "metadata": {},
   "outputs": [
    {
     "name": "stdout",
     "output_type": "stream",
     "text": [
      "The tuple has 3 elements.\n"
     ]
    }
   ],
   "source": [
    "fruits = (\"apple\", \"banana\", \"cherry\")\n",
    "length = len(fruits)\n",
    "print(f\"The tuple has {length} elements.\")"
   ]
  },
  {
   "cell_type": "markdown",
   "metadata": {},
   "source": [
    "#### **Problem 2: Check if an Element Exists in a Tuple**"
   ]
  },
  {
   "cell_type": "code",
   "execution_count": 36,
   "metadata": {},
   "outputs": [
    {
     "name": "stdout",
     "output_type": "stream",
     "text": [
      "Banana is in the tuple.\n"
     ]
    }
   ],
   "source": [
    "fruits = (\"apple\", \"banana\", \"cherry\")\n",
    "if \"banana\" in fruits:\n",
    "    print(\"Banana is in the tuple.\")\n",
    "else:\n",
    "    print(\"Banana is not in the tuple.\")"
   ]
  },
  {
   "cell_type": "markdown",
   "metadata": {},
   "source": [
    "#### **Problem 3: Concatenate Two Tuples**"
   ]
  },
  {
   "cell_type": "code",
   "execution_count": 37,
   "metadata": {},
   "outputs": [
    {
     "name": "stdout",
     "output_type": "stream",
     "text": [
      "(1, 2, 3, 4, 5, 6)\n"
     ]
    }
   ],
   "source": [
    "tuple1 = (1, 2, 3)\n",
    "tuple2 = (4, 5, 6)\n",
    "combined = tuple1 + tuple2\n",
    "print(combined)"
   ]
  },
  {
   "cell_type": "markdown",
   "metadata": {},
   "source": [
    "## **4. Sets**"
   ]
  },
  {
   "cell_type": "markdown",
   "metadata": {},
   "source": [
    "### **4.1 What is a Set?**\n",
    "- **Definition**: A set is an unordered, mutable collection of unique elements enclosed in curly braces `{}`.\n",
    "- **Example**:"
   ]
  },
  {
   "cell_type": "code",
   "execution_count": 38,
   "metadata": {},
   "outputs": [],
   "source": [
    "fruits = {\"apple\", \"banana\", \"cherry\"}\n",
    "numbers = {1, 2, 3, 4, 5}\n",
    "mixed = {1, \"apple\", 3.14, True}"
   ]
  },
  {
   "cell_type": "markdown",
   "metadata": {},
   "source": [
    "### **4.2 Creating Sets**\n",
    "#### **1. Using Curly Braces**\n",
    "- **Example**:"
   ]
  },
  {
   "cell_type": "code",
   "execution_count": 39,
   "metadata": {},
   "outputs": [
    {
     "name": "stdout",
     "output_type": "stream",
     "text": [
      "{'apple', 'cherry', 'banana'}\n"
     ]
    }
   ],
   "source": [
    "fruits = {\"apple\", \"banana\", \"cherry\"}\n",
    "print(fruits)"
   ]
  },
  {
   "cell_type": "markdown",
   "metadata": {},
   "source": [
    "#### **2. Using the `set()` Constructor**\n",
    "- **Example**:"
   ]
  },
  {
   "cell_type": "code",
   "execution_count": 40,
   "metadata": {},
   "outputs": [
    {
     "name": "stdout",
     "output_type": "stream",
     "text": [
      "{1, 2, 3, 4, 5}\n"
     ]
    }
   ],
   "source": [
    "numbers = set([1, 2, 3, 4, 5])\n",
    "print(numbers)"
   ]
  },
  {
   "cell_type": "markdown",
   "metadata": {},
   "source": [
    "### **4.3 Accessing Set Elements**\n",
    "- Sets are unordered, so they do not support indexing or slicing.\n",
    "- Use loops or membership tests to access elements.\n",
    "- **Example**:"
   ]
  },
  {
   "cell_type": "code",
   "execution_count": 42,
   "metadata": {},
   "outputs": [
    {
     "name": "stdout",
     "output_type": "stream",
     "text": [
      "apple\n",
      "cherry\n",
      "banana\n"
     ]
    }
   ],
   "source": [
    "fruits = {\"apple\", \"banana\", \"cherry\"}\n",
    "for fruit in fruits:\n",
    "    print(fruit)"
   ]
  },
  {
   "cell_type": "markdown",
   "metadata": {},
   "source": [
    "### **4.4 Modifying Sets**\n",
    "#### **1. Adding Elements**\n",
    "- **`add()`**: Add a single element.\n",
    "- **`update()`**: Add multiple elements.\n",
    "- **Example**:"
   ]
  },
  {
   "cell_type": "code",
   "execution_count": 43,
   "metadata": {},
   "outputs": [
    {
     "name": "stdout",
     "output_type": "stream",
     "text": [
      "{'apple', 'kiwi', 'orange', 'cherry', 'banana'}\n"
     ]
    }
   ],
   "source": [
    "fruits = {\"apple\", \"banana\"}\n",
    "fruits.add(\"cherry\")\n",
    "fruits.update([\"orange\", \"kiwi\"])\n",
    "print(fruits)"
   ]
  },
  {
   "cell_type": "markdown",
   "metadata": {},
   "source": [
    "#### **2. Removing Elements**\n",
    "- **`remove()`**: Remove a specific element (raises an error if not found).\n",
    "- **`discard()`**: Remove a specific element (no error if not found).\n",
    "- **`pop()`**: Remove and return an arbitrary element.\n",
    "- **`clear()`**: Remove all elements.\n",
    "- **Example**:"
   ]
  },
  {
   "cell_type": "code",
   "execution_count": 44,
   "metadata": {},
   "outputs": [
    {
     "name": "stdout",
     "output_type": "stream",
     "text": [
      "set()\n"
     ]
    }
   ],
   "source": [
    "fruits = {\"apple\", \"banana\", \"cherry\"}\n",
    "fruits.remove(\"banana\")\n",
    "fruits.discard(\"kiwi\")\n",
    "fruits.pop()\n",
    "fruits.clear()\n",
    "print(fruits)"
   ]
  },
  {
   "cell_type": "markdown",
   "metadata": {},
   "source": [
    "### **4.5 Set Operations**\n",
    "#### **1. Union (`|`)**\n",
    "- Combines elements from two sets.\n",
    "- **Example**:"
   ]
  },
  {
   "cell_type": "code",
   "execution_count": 45,
   "metadata": {},
   "outputs": [
    {
     "name": "stdout",
     "output_type": "stream",
     "text": [
      "{1, 2, 3, 4, 5}\n"
     ]
    }
   ],
   "source": [
    "set1 = {1, 2, 3}\n",
    "set2 = {3, 4, 5}\n",
    "union_set = set1 | set2\n",
    "print(union_set)  # Output: {1, 2, 3, 4, 5}"
   ]
  },
  {
   "cell_type": "markdown",
   "metadata": {},
   "source": [
    "#### **2. Intersection (`&`)**\n",
    "- Returns elements common to both sets.\n",
    "- **Example**:"
   ]
  },
  {
   "cell_type": "code",
   "execution_count": 46,
   "metadata": {},
   "outputs": [
    {
     "name": "stdout",
     "output_type": "stream",
     "text": [
      "{3}\n"
     ]
    }
   ],
   "source": [
    "set1 = {1, 2, 3}\n",
    "set2 = {3, 4, 5}\n",
    "intersection_set = set1 & set2  \n",
    "print(intersection_set)  # Output: {3}"
   ]
  },
  {
   "cell_type": "markdown",
   "metadata": {},
   "source": [
    "#### **3. Difference (`-`)**  \n",
    "- Returns elements in the first set that are not in the second set.  \n",
    "- **Example**:"
   ]
  },
  {
   "cell_type": "code",
   "execution_count": 47,
   "metadata": {},
   "outputs": [
    {
     "name": "stdout",
     "output_type": "stream",
     "text": [
      "{1, 2}\n"
     ]
    }
   ],
   "source": [
    "set1 = {1, 2, 3}  \n",
    "set2 = {3, 4, 5}  \n",
    "difference_set = set1 - set2  \n",
    "print(difference_set)  # Output: {1, 2}  "
   ]
  },
  {
   "cell_type": "markdown",
   "metadata": {},
   "source": [
    "#### **4. Symmetric Difference (`^`)**  \n",
    "- Returns elements that are in either set but not in both.  \n",
    "- **Example**:  "
   ]
  },
  {
   "cell_type": "code",
   "execution_count": 48,
   "metadata": {},
   "outputs": [
    {
     "name": "stdout",
     "output_type": "stream",
     "text": [
      "{1, 2, 4, 5}\n"
     ]
    }
   ],
   "source": [
    "set1 = {1, 2, 3}  \n",
    "set2 = {3, 4, 5}  \n",
    "symmetric_difference_set = set1 ^ set2  \n",
    "print(symmetric_difference_set)  # Output: {1, 2, 4, 5}  "
   ]
  },
  {
   "cell_type": "markdown",
   "metadata": {},
   "source": [
    "### **4.6 Set Methods**  \n",
    "| Method               | Description                              | Example                          |\n",
    "|----------------------|------------------------------------------|----------------------------------|\n",
    "| `add()`              | Adds a single element to the set         | `fruits.add(\"kiwi\")`             |\n",
    "| `update()`           | Adds multiple elements to the set        | `fruits.update([\"orange\", \"kiwi\"])` |\n",
    "| `remove()`           | Removes a specific element (raises error if not found) | `fruits.remove(\"banana\")` |\n",
    "| `discard()`          | Removes a specific element (no error if not found) | `fruits.discard(\"kiwi\")` |\n",
    "| `pop()`              | Removes and returns an arbitrary element | `fruits.pop()`                   |\n",
    "| `clear()`            | Removes all elements from the set        | `fruits.clear()`                 |\n",
    "| `union()`            | Returns the union of two sets            | `set1.union(set2)`               |\n",
    "| `intersection()`     | Returns the intersection of two sets     | `set1.intersection(set2)`        |\n",
    "| `difference()`       | Returns the difference of two sets       | `set1.difference(set2)`          |\n",
    "| `symmetric_difference()` | Returns the symmetric difference of two sets | `set1.symmetric_difference(set2)` |\n",
    "| `issubset()`         | Checks if one set is a subset of another | `set1.issubset(set2)`            |\n",
    "| `issuperset()`       | Checks if one set is a superset of another | `set1.issuperset(set2)`        |\n",
    "\n",
    "**Example**:"
   ]
  },
  {
   "cell_type": "code",
   "execution_count": 49,
   "metadata": {},
   "outputs": [
    {
     "name": "stdout",
     "output_type": "stream",
     "text": [
      "{1, 2, 3, 4, 5}\n",
      "{3}\n",
      "{1, 2}\n"
     ]
    }
   ],
   "source": [
    "set1 = {1, 2, 3}  \n",
    "set2 = {3, 4, 5}  \n",
    "print(set1.union(set2))          # Output: {1, 2, 3, 4, 5}  \n",
    "print(set1.intersection(set2))   # Output: {3}  \n",
    "print(set1.difference(set2))     # Output: {1, 2}  "
   ]
  },
  {
   "cell_type": "markdown",
   "metadata": {},
   "source": [
    "### **4.7 Practice Problems**  \n",
    "\n",
    "#### **Problem 1: Remove Duplicates from a List**  \n",
    "- Write a program to remove duplicates from a list using a set.  \n",
    "- **Example**:  "
   ]
  },
  {
   "cell_type": "code",
   "execution_count": 50,
   "metadata": {},
   "outputs": [
    {
     "name": "stdout",
     "output_type": "stream",
     "text": [
      "[1, 2, 3, 4, 5]\n"
     ]
    }
   ],
   "source": [
    "numbers = [1, 2, 2, 3, 4, 4, 5]  \n",
    "unique_numbers = list(set(numbers))  \n",
    "print(unique_numbers)"
   ]
  },
  {
   "cell_type": "markdown",
   "metadata": {},
   "source": [
    "#### **Problem 2: Check if Two Sets Have Common Elements**  \n",
    "- Write a program to check if two sets have any common elements.  \n",
    "- **Example**:  "
   ]
  },
  {
   "cell_type": "code",
   "execution_count": 51,
   "metadata": {},
   "outputs": [
    {
     "name": "stdout",
     "output_type": "stream",
     "text": [
      "The sets have common elements.\n"
     ]
    }
   ],
   "source": [
    "set1 = {1, 2, 3}  \n",
    "set2 = {3, 4, 5}  \n",
    "if set1 & set2:  \n",
    "    print(\"The sets have common elements.\")  \n",
    "else:  \n",
    "    print(\"The sets have no common elements.\")"
   ]
  },
  {
   "cell_type": "markdown",
   "metadata": {},
   "source": [
    "#### **Problem 3: Find the Difference Between Two Sets**  \n",
    "- Write a program to find the elements that are in the first set but not in the second set.  \n",
    "- **Example**:"
   ]
  },
  {
   "cell_type": "code",
   "execution_count": 52,
   "metadata": {},
   "outputs": [
    {
     "name": "stdout",
     "output_type": "stream",
     "text": [
      "{1, 2}\n"
     ]
    }
   ],
   "source": [
    "set1 = {1, 2, 3, 4}  \n",
    "set2 = {3, 4, 5, 6}  \n",
    "difference = set1 - set2  \n",
    "print(difference)"
   ]
  },
  {
   "cell_type": "markdown",
   "metadata": {},
   "source": [
    "## **5. Dictionaries**"
   ]
  },
  {
   "cell_type": "markdown",
   "metadata": {},
   "source": [
    "### **5.1 What is a Dictionary?**  \n",
    "- **Definition**: A dictionary is an unordered, mutable collection of key-value pairs enclosed in curly braces `{}`.  \n",
    "- **Properties**:  \n",
    "  - Keys must be unique and immutable (e.g., strings, numbers, tuples).  \n",
    "  - Values can be of any data type.  \n",
    "- **Example**:"
   ]
  },
  {
   "cell_type": "code",
   "execution_count": 53,
   "metadata": {},
   "outputs": [],
   "source": [
    "student = {\"name\": \"Alice\", \"age\": 25, \"city\": \"New York\"}  "
   ]
  },
  {
   "cell_type": "markdown",
   "metadata": {},
   "source": [
    "### **5.2 Creating Dictionaries**  \n",
    "#### **1. Using Curly Braces**  \n",
    "- **Example**:"
   ]
  },
  {
   "cell_type": "code",
   "execution_count": 54,
   "metadata": {},
   "outputs": [
    {
     "name": "stdout",
     "output_type": "stream",
     "text": [
      "{'name': 'Alice', 'age': 25, 'city': 'New York'}\n"
     ]
    }
   ],
   "source": [
    "student = {\"name\": \"Alice\", \"age\": 25, \"city\": \"New York\"}  \n",
    "print(student)"
   ]
  },
  {
   "cell_type": "markdown",
   "metadata": {},
   "source": [
    "#### **2. Using the `dict()` Constructor**  \n",
    "- **Example**:"
   ]
  },
  {
   "cell_type": "code",
   "execution_count": 55,
   "metadata": {},
   "outputs": [
    {
     "name": "stdout",
     "output_type": "stream",
     "text": [
      "{'name': 'Alice', 'age': 25, 'city': 'New York'}\n"
     ]
    }
   ],
   "source": [
    "student = dict(name=\"Alice\", age=25, city=\"New York\")  \n",
    "print(student)"
   ]
  },
  {
   "cell_type": "markdown",
   "metadata": {},
   "source": [
    "### **5.3 Accessing Dictionary Elements**  \n",
    "#### **1. Using Keys**  \n",
    "- **Example**:"
   ]
  },
  {
   "cell_type": "code",
   "execution_count": 56,
   "metadata": {},
   "outputs": [
    {
     "name": "stdout",
     "output_type": "stream",
     "text": [
      "Alice\n"
     ]
    }
   ],
   "source": [
    "student = {\"name\": \"Alice\", \"age\": 25, \"city\": \"New York\"}  \n",
    "print(student[\"name\"])  # Output: Alice  "
   ]
  },
  {
   "cell_type": "markdown",
   "metadata": {},
   "source": [
    "#### **2. Using the `get()` Method**  \n",
    "- **Example**:"
   ]
  },
  {
   "cell_type": "code",
   "execution_count": 57,
   "metadata": {},
   "outputs": [
    {
     "name": "stdout",
     "output_type": "stream",
     "text": [
      "Alice\n",
      "None\n"
     ]
    }
   ],
   "source": [
    "student = {\"name\": \"Alice\", \"age\": 25, \"city\": \"New York\"}  \n",
    "print(student.get(\"name\"))  # Output: Alice  \n",
    "print(student.get(\"grade\")) # Output: None  "
   ]
  },
  {
   "cell_type": "markdown",
   "metadata": {},
   "source": [
    "### **5.4 Modifying Dictionaries**  \n",
    "#### **1. Adding or Updating Key-Value Pairs**  \n",
    "- **Example**:"
   ]
  },
  {
   "cell_type": "code",
   "execution_count": 58,
   "metadata": {},
   "outputs": [
    {
     "name": "stdout",
     "output_type": "stream",
     "text": [
      "{'name': 'Alice', 'age': 26, 'city': 'New York'}\n"
     ]
    }
   ],
   "source": [
    "student = {\"name\": \"Alice\", \"age\": 25}  \n",
    "student[\"city\"] = \"New York\"  # Add a new key-value pair  \n",
    "student[\"age\"] = 26           # Update an existing value  \n",
    "print(student)"
   ]
  },
  {
   "cell_type": "markdown",
   "metadata": {},
   "source": [
    "#### **2. Removing Key-Value Pairs**  \n",
    "- **`del`**: Delete a key-value pair by key.  \n",
    "- **`pop()`**: Remove a key-value pair and return the value.  \n",
    "- **`popitem()`**: Remove and return the last inserted key-value pair.  \n",
    "- **`clear()`**: Remove all key-value pairs.  \n",
    "- **Example**:"
   ]
  },
  {
   "cell_type": "code",
   "execution_count": 59,
   "metadata": {},
   "outputs": [
    {
     "name": "stdout",
     "output_type": "stream",
     "text": [
      "{}\n"
     ]
    }
   ],
   "source": [
    "student = {\"name\": \"Alice\", \"age\": 25, \"city\": \"New York\"}  \n",
    "del student[\"age\"]  \n",
    "city = student.pop(\"city\")  \n",
    "last_item = student.popitem()  \n",
    "student.clear()  \n",
    "print(student)  "
   ]
  },
  {
   "cell_type": "markdown",
   "metadata": {},
   "source": [
    "### **5.5 Dictionary Methods**  \n",
    "| Method               | Description                              | Example                          |\n",
    "|----------------------|------------------------------------------|----------------------------------|\n",
    "| `keys()`             | Returns a list of all keys               | `student.keys()`                 |\n",
    "| `values()`           | Returns a list of all values             | `student.values()`               |\n",
    "| `items()`            | Returns a list of key-value pairs as tuples | `student.items()`             |\n",
    "| `get()`              | Returns the value for a given key        | `student.get(\"name\")`            |\n",
    "| `update()`           | Updates the dictionary with new key-value pairs | `student.update({\"grade\": \"A\"})` |\n",
    "| `pop()`              | Removes and returns the value for a given key | `student.pop(\"age\")`         |\n",
    "| `popitem()`          | Removes and returns the last inserted key-value pair | `student.popitem()` |\n",
    "| `clear()`            | Removes all key-value pairs              | `student.clear()`                |\n",
    "\n",
    "**Example**:"
   ]
  },
  {
   "cell_type": "code",
   "execution_count": 60,
   "metadata": {},
   "outputs": [
    {
     "name": "stdout",
     "output_type": "stream",
     "text": [
      "dict_keys(['name', 'age', 'city'])\n",
      "dict_values(['Alice', 25, 'New York'])\n",
      "dict_items([('name', 'Alice'), ('age', 25), ('city', 'New York')])\n"
     ]
    }
   ],
   "source": [
    "student = {\"name\": \"Alice\", \"age\": 25, \"city\": \"New York\"}  \n",
    "print(student.keys())    # Output: dict_keys(['name', 'age', 'city'])  \n",
    "print(student.values())  # Output: dict_values(['Alice', 25, 'New York'])  \n",
    "print(student.items())   # Output: dict_items([('name', 'Alice'), ('age', 25), ('city', 'New York')])  "
   ]
  },
  {
   "cell_type": "markdown",
   "metadata": {},
   "source": [
    "### **5.6 Dictionary Operations**  \n",
    "#### **1. Membership**  \n",
    "- Check if a key exists in the dictionary using `in`.  \n",
    "- **Example**:"
   ]
  },
  {
   "cell_type": "code",
   "execution_count": 61,
   "metadata": {},
   "outputs": [
    {
     "name": "stdout",
     "output_type": "stream",
     "text": [
      "True\n",
      "False\n"
     ]
    }
   ],
   "source": [
    "student = {\"name\": \"Alice\", \"age\": 25}  \n",
    "print(\"name\" in student)  # Output: True  \n",
    "print(\"grade\" in student) # Output: False  "
   ]
  },
  {
   "cell_type": "markdown",
   "metadata": {},
   "source": [
    "#### **2. Looping Through a Dictionary**  \n",
    "- Use a `for` loop to iterate over keys, values, or key-value pairs.  \n",
    "- **Example**:"
   ]
  },
  {
   "cell_type": "code",
   "execution_count": 62,
   "metadata": {},
   "outputs": [
    {
     "name": "stdout",
     "output_type": "stream",
     "text": [
      "name\n",
      "age\n",
      "city\n",
      "Alice\n",
      "25\n",
      "New York\n",
      "name: Alice\n",
      "age: 25\n",
      "city: New York\n"
     ]
    }
   ],
   "source": [
    "student = {\"name\": \"Alice\", \"age\": 25, \"city\": \"New York\"}  \n",
    "\n",
    "# Loop through keys  \n",
    "for key in student:  \n",
    "    print(key)  \n",
    "\n",
    "# Loop through values  \n",
    "for value in student.values():  \n",
    "    print(value)  \n",
    "\n",
    "# Loop through key-value pairs  \n",
    "for key, value in student.items():  \n",
    "    print(f\"{key}: {value}\")  "
   ]
  },
  {
   "cell_type": "markdown",
   "metadata": {},
   "source": [
    "### **5.7 Practice Problems**  \n",
    "\n",
    "#### **Problem 1: Count Word Frequencies**  \n",
    "- Write a program to count the frequency of each word in a sentence.  \n",
    "- **Example**:"
   ]
  },
  {
   "cell_type": "code",
   "execution_count": 63,
   "metadata": {},
   "outputs": [
    {
     "name": "stdout",
     "output_type": "stream",
     "text": [
      "{'apple': 3, 'banana': 2, 'orange': 1}\n"
     ]
    }
   ],
   "source": [
    "sentence = \"apple banana apple orange banana apple\"  \n",
    "words = sentence.split()  \n",
    "frequency = {}  \n",
    "\n",
    "for word in words:  \n",
    "    frequency[word] = frequency.get(word, 0) + 1  \n",
    "\n",
    "print(frequency)"
   ]
  },
  {
   "cell_type": "markdown",
   "metadata": {},
   "source": [
    "#### **Problem 2: Merge Two Dictionaries**  \n",
    "- Write a program to merge two dictionaries.  \n",
    "- **Example**:"
   ]
  },
  {
   "cell_type": "code",
   "execution_count": 64,
   "metadata": {},
   "outputs": [
    {
     "name": "stdout",
     "output_type": "stream",
     "text": [
      "{'a': 1, 'b': 2, 'c': 3, 'd': 4}\n"
     ]
    }
   ],
   "source": [
    "dict1 = {\"a\": 1, \"b\": 2}  \n",
    "dict2 = {\"c\": 3, \"d\": 4}  \n",
    "merged = {**dict1, **dict2}  \n",
    "print(merged)"
   ]
  },
  {
   "cell_type": "markdown",
   "metadata": {},
   "source": [
    "#### **Problem 3: Find the Highest Value in a Dictionary**  \n",
    "- Write a program to find the key with the highest value in a dictionary.  \n",
    "- **Example**:"
   ]
  },
  {
   "cell_type": "code",
   "execution_count": 65,
   "metadata": {},
   "outputs": [
    {
     "name": "stdout",
     "output_type": "stream",
     "text": [
      "The highest grade is 90 by Bob.\n"
     ]
    }
   ],
   "source": [
    "grades = {\"Alice\": 85, \"Bob\": 90, \"Charlie\": 78}  \n",
    "highest_key = max(grades, key=grades.get)  \n",
    "print(f\"The highest grade is {grades[highest_key]} by {highest_key}.\")  "
   ]
  },
  {
   "cell_type": "markdown",
   "metadata": {},
   "source": []
  }
 ],
 "metadata": {
  "kernelspec": {
   "display_name": "venv",
   "language": "python",
   "name": "python3"
  },
  "language_info": {
   "codemirror_mode": {
    "name": "ipython",
    "version": 3
   },
   "file_extension": ".py",
   "mimetype": "text/x-python",
   "name": "python",
   "nbconvert_exporter": "python",
   "pygments_lexer": "ipython3",
   "version": "3.11.3"
  }
 },
 "nbformat": 4,
 "nbformat_minor": 2
}
