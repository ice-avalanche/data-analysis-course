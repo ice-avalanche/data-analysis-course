{
 "cells": [
  {
   "cell_type": "markdown",
   "metadata": {},
   "source": [
    "## **1. Introduction to Functions**"
   ]
  },
  {
   "cell_type": "markdown",
   "metadata": {},
   "source": [
    "### **1. What Are Functions?**  \n",
    "A function is a named block of code that performs a specific task. It can take inputs (called **parameters**), process them, and return an output (called a **return value**).  \n",
    "\n",
    "**Why Use Functions?**  \n",
    "- **Reusability**: Write once, use multiple times.  \n",
    "- **Modularity**: Break down complex problems into smaller, manageable parts.  \n",
    "- **Readability**: Give meaningful names to blocks of code."
   ]
  },
  {
   "cell_type": "markdown",
   "metadata": {},
   "source": [
    "### **2. Defining a Function**  \n",
    "In Python, you define a function using the `def` keyword.  \n",
    "\n",
    "**Syntax:**  \n",
    "```python\n",
    "def function_name(parameters):\n",
    "    # Function body\n",
    "    return result\n",
    "```  \n",
    "\n",
    "- **`function_name`**: The name of the function (follows the same rules as variable names).  \n",
    "- **`parameters`**: Inputs to the function (optional).  \n",
    "- **`return`**: Outputs a value (optional)."
   ]
  },
  {
   "cell_type": "markdown",
   "metadata": {},
   "source": [
    "### **3. Basic Examples of Functions**  \n",
    "\n",
    "**Example 1: A Simple Function**"
   ]
  },
  {
   "cell_type": "code",
   "execution_count": 13,
   "metadata": {},
   "outputs": [
    {
     "name": "stdout",
     "output_type": "stream",
     "text": [
      "Hello, World!\n"
     ]
    }
   ],
   "source": [
    "def greet():\n",
    "    print(\"Hello, World!\")\n",
    "\n",
    "# calling the function\n",
    "greet()"
   ]
  },
  {
   "cell_type": "markdown",
   "metadata": {},
   "source": [
    "**Example 2: Function with Parameters**  "
   ]
  },
  {
   "cell_type": "code",
   "execution_count": 14,
   "metadata": {},
   "outputs": [
    {
     "name": "stdout",
     "output_type": "stream",
     "text": [
      "Hello, Alice!\n",
      "Hello, Bob!\n"
     ]
    }
   ],
   "source": [
    "def greet(name):\n",
    "    print(f\"Hello, {name}!\")\n",
    "\n",
    "# calling the function\n",
    "greet(\"Alice\")\n",
    "greet(\"Bob\")"
   ]
  },
  {
   "cell_type": "markdown",
   "metadata": {},
   "source": [
    "**Example 3: Function with Return Value**"
   ]
  },
  {
   "cell_type": "code",
   "execution_count": 15,
   "metadata": {},
   "outputs": [
    {
     "name": "stdout",
     "output_type": "stream",
     "text": [
      "Sum: 8\n"
     ]
    }
   ],
   "source": [
    "def add(a, b):\n",
    "    return a + b\n",
    "\n",
    "# calling the function\n",
    "result = add(3, 5)\n",
    "print(\"Sum:\", result)"
   ]
  },
  {
   "cell_type": "markdown",
   "metadata": {},
   "source": [
    "### **4. Function Parameters and Arguments**  \n",
    "- **Parameters**: Variables listed in the function definition.  \n",
    "- **Arguments**: Values passed to the function when it is called.  \n",
    "\n",
    "**Example:**"
   ]
  },
  {
   "cell_type": "code",
   "execution_count": 8,
   "metadata": {},
   "outputs": [
    {
     "name": "stdout",
     "output_type": "stream",
     "text": [
      "Product: 20\n"
     ]
    }
   ],
   "source": [
    "def multiply(x, y):  # x and y are parameters\n",
    "    return x * y\n",
    "\n",
    "result = multiply(4, 5)  # 4 and 5 are arguments\n",
    "print(\"Product:\", result)"
   ]
  },
  {
   "cell_type": "markdown",
   "metadata": {},
   "source": [
    "### **5. Default Arguments**  \n",
    "You can provide default values for parameters. If an argument is not passed, the default value is used.  \n",
    "\n",
    "**Example:**"
   ]
  },
  {
   "cell_type": "code",
   "execution_count": 16,
   "metadata": {},
   "outputs": [
    {
     "name": "stdout",
     "output_type": "stream",
     "text": [
      "9\n",
      "27\n"
     ]
    }
   ],
   "source": [
    "def power(base, exponent=2):  # Default exponent is 2\n",
    "    return base ** exponent\n",
    "\n",
    "# calling the function\n",
    "print(power(3))      # Uses default exponent=2\n",
    "print(power(3, 3))   # Overrides default exponent"
   ]
  },
  {
   "cell_type": "markdown",
   "metadata": {},
   "source": [
    "### **6. Returning Multiple Values**  \n",
    "A function can return multiple values as a tuple.  \n",
    "\n",
    "**Example:**"
   ]
  },
  {
   "cell_type": "code",
   "execution_count": 17,
   "metadata": {},
   "outputs": [
    {
     "name": "stdout",
     "output_type": "stream",
     "text": [
      "Min: 2 Max: 9\n"
     ]
    }
   ],
   "source": [
    "def min_max(numbers):\n",
    "    return min(numbers), max(numbers)\n",
    "\n",
    "# calling the function\n",
    "min_val, max_val = min_max([4, 2, 9, 7])\n",
    "print(\"Min:\", min_val, \"Max:\", max_val)"
   ]
  },
  {
   "cell_type": "markdown",
   "metadata": {},
   "source": [
    "### **7. Why Functions Are Important**  \n",
    "- **Avoid Repetition**: Write the code once and reuse it.  \n",
    "- **Improve Readability**: Break down complex tasks into smaller, named functions.  \n",
    "- **Simplify Debugging**: Isolate issues to specific functions. "
   ]
  },
  {
   "cell_type": "markdown",
   "metadata": {},
   "source": [
    "## **2. Function Parameters and Return Values**"
   ]
  },
  {
   "cell_type": "markdown",
   "metadata": {},
   "source": [
    "### **1. Positional Arguments**  \n",
    "Positional arguments are the most common way to pass arguments to a function. The order of the arguments matters, as they are assigned to the parameters in the order they are passed.  \n",
    "\n",
    "**Example:**"
   ]
  },
  {
   "cell_type": "code",
   "execution_count": 18,
   "metadata": {},
   "outputs": [
    {
     "name": "stdout",
     "output_type": "stream",
     "text": [
      "Hello, Alice!\n"
     ]
    }
   ],
   "source": [
    "def greet(name, message):\n",
    "    print(f\"{message}, {name}!\")\n",
    " \n",
    "# calling the function\n",
    "greet(\"Alice\", \"Hello\")  # \"Alice\" is assigned to `name`, \"Hello\" to `message`"
   ]
  },
  {
   "cell_type": "markdown",
   "metadata": {},
   "source": [
    "### **2. Keyword Arguments**  \n",
    "Keyword arguments allow you to pass arguments by explicitly naming the parameters. This makes the code more readable and avoids confusion about the order of arguments.  \n",
    "\n",
    "**Example:**"
   ]
  },
  {
   "cell_type": "code",
   "execution_count": 19,
   "metadata": {},
   "outputs": [
    {
     "name": "stdout",
     "output_type": "stream",
     "text": [
      "Hi, Bob!\n"
     ]
    }
   ],
   "source": [
    "def greet(name, message):\n",
    "    print(f\"{message}, {name}!\")\n",
    "\n",
    "# calling the function\n",
    "greet(message=\"Hi\", name=\"Bob\")  # Order doesn't matter"
   ]
  },
  {
   "cell_type": "markdown",
   "metadata": {},
   "source": [
    "### **3. Default Arguments**  \n",
    "Default arguments allow you to define a default value for a parameter. If the caller doesn’t provide a value for that parameter, the default value is used.  \n",
    "\n",
    "**Example:**"
   ]
  },
  {
   "cell_type": "code",
   "execution_count": 20,
   "metadata": {},
   "outputs": [
    {
     "name": "stdout",
     "output_type": "stream",
     "text": [
      "Hello, Alice!\n",
      "Hi, Bob!\n"
     ]
    }
   ],
   "source": [
    "def greet(name, message=\"Hello\"):\n",
    "    print(f\"{message}, {name}!\")\n",
    "\n",
    "# calling the function\n",
    "greet(\"Alice\")  # Uses default message=\"Hello\"\n",
    "greet(\"Bob\", \"Hi\")  # Overrides default message"
   ]
  },
  {
   "cell_type": "markdown",
   "metadata": {},
   "source": [
    "### **4. Returning Values**  \n",
    "Functions can return values using the `return` statement. The returned value can be stored in a variable or used directly.  \n",
    "\n",
    "**Example:**"
   ]
  },
  {
   "cell_type": "code",
   "execution_count": 21,
   "metadata": {},
   "outputs": [
    {
     "name": "stdout",
     "output_type": "stream",
     "text": [
      "Sum: 8\n"
     ]
    }
   ],
   "source": [
    "def add(a, b):\n",
    "    return a + b\n",
    "\n",
    "# calling the function\n",
    "result = add(3, 5)\n",
    "print(\"Sum:\", result)"
   ]
  },
  {
   "cell_type": "markdown",
   "metadata": {},
   "source": [
    "### **5. Returning Multiple Values**  \n",
    "A function can return multiple values as a tuple. You can unpack the tuple into separate variables.  \n",
    "\n",
    "**Example:**"
   ]
  },
  {
   "cell_type": "code",
   "execution_count": 22,
   "metadata": {},
   "outputs": [
    {
     "name": "stdout",
     "output_type": "stream",
     "text": [
      "Min: 2 Max: 9\n"
     ]
    }
   ],
   "source": [
    "def min_max(numbers):\n",
    "    return min(numbers), max(numbers)\n",
    "\n",
    "# calling the function\n",
    "min_val, max_val = min_max([4, 2, 9, 7])\n",
    "print(\"Min:\", min_val, \"Max:\", max_val)"
   ]
  },
  {
   "cell_type": "markdown",
   "metadata": {},
   "source": [
    "### **6. Variable-Length Arguments**  \n",
    "Sometimes, you may want to define a function that can accept any number of arguments. Python provides two ways to do this:  \n",
    "- `*args`: For variable-length positional arguments.  \n",
    "- `**kwargs`: For variable-length keyword arguments.  \n",
    "\n",
    "**Example 1: Using `*args`**"
   ]
  },
  {
   "cell_type": "code",
   "execution_count": 23,
   "metadata": {},
   "outputs": [
    {
     "name": "stdout",
     "output_type": "stream",
     "text": [
      "6\n",
      "22\n"
     ]
    }
   ],
   "source": [
    "def sum_all(*args):\n",
    "    return sum(args)\n",
    "\n",
    "# calling the function\n",
    "print(sum_all(1, 2, 3))  # Output: 6\n",
    "print(sum_all(4, 5, 6, 7))  # Output: 22"
   ]
  },
  {
   "cell_type": "markdown",
   "metadata": {},
   "source": [
    "**Example 2: Using `**kwargs`**"
   ]
  },
  {
   "cell_type": "code",
   "execution_count": 24,
   "metadata": {},
   "outputs": [
    {
     "name": "stdout",
     "output_type": "stream",
     "text": [
      "name: Alice\n",
      "age: 25\n",
      "city: New York\n"
     ]
    }
   ],
   "source": [
    "def print_details(**kwargs):\n",
    "    for key, value in kwargs.items():\n",
    "        print(f\"{key}: {value}\")\n",
    "\n",
    "# calling the function\n",
    "print_details(name=\"Alice\", age=25, city=\"New York\")"
   ]
  },
  {
   "cell_type": "markdown",
   "metadata": {},
   "source": [
    "### **7. Combining Argument Types**  \n",
    "You can combine positional arguments, keyword arguments, `*args`, and `**kwargs` in a single function.  \n",
    "\n",
    "**Example:**"
   ]
  },
  {
   "cell_type": "code",
   "execution_count": 25,
   "metadata": {},
   "outputs": [
    {
     "name": "stdout",
     "output_type": "stream",
     "text": [
      "a: 1, b: 2, c: 20\n",
      "args: (3, 4)\n",
      "kwargs: {'x': 5, 'y': 6}\n"
     ]
    }
   ],
   "source": [
    "def example_function(a, b, *args, c=10, **kwargs):\n",
    "    print(f\"a: {a}, b: {b}, c: {c}\")\n",
    "    print(f\"args: {args}\")\n",
    "    print(f\"kwargs: {kwargs}\")\n",
    "\n",
    "# calling the function\n",
    "example_function(1, 2, 3, 4, c=20, x=5, y=6)"
   ]
  },
  {
   "cell_type": "markdown",
   "metadata": {},
   "source": [
    "## **3. Scope and Lifetime of Variables**"
   ]
  },
  {
   "cell_type": "markdown",
   "metadata": {},
   "source": [
    "### **1. What Are Scope and Lifetime?**  \n",
    "- **Scope**: The region of a program where a variable is accessible.  \n",
    "- **Lifetime**: The duration for which a variable exists in memory during program execution.  \n",
    "\n",
    "Python has two main types of variable scope:  \n",
    "1. **Local Scope**: Variables defined inside a function.  \n",
    "2. **Global Scope**: Variables defined outside all functions."
   ]
  },
  {
   "cell_type": "markdown",
   "metadata": {},
   "source": [
    "### **2. Local Variables**  \n",
    "Local variables are defined inside a function and can only be accessed within that function. They are created when the function is called and destroyed when the function exits.  \n",
    "\n",
    "**Example:**\n",
    "``` python\n",
    "def my_function():\n",
    "    x = 10  # Local variable\n",
    "    print(\"Inside function:\", x)\n",
    "\n",
    "my_function()\n",
    "print(\"Outside function:\", x)  # Error: x is not defined\n",
    "```"
   ]
  },
  {
   "cell_type": "markdown",
   "metadata": {},
   "source": [
    "### **3. Global Variables**  \n",
    "Global variables are defined outside all functions and can be accessed from anywhere in the program.  \n",
    "\n",
    "**Example:**"
   ]
  },
  {
   "cell_type": "code",
   "execution_count": 27,
   "metadata": {},
   "outputs": [
    {
     "name": "stdout",
     "output_type": "stream",
     "text": [
      "Inside function: 10\n",
      "Outside function: 10\n"
     ]
    }
   ],
   "source": [
    "x = 10  # Global variable\n",
    "\n",
    "def my_function():\n",
    "    print(\"Inside function:\", x)\n",
    "\n",
    "my_function()\n",
    "print(\"Outside function:\", x)"
   ]
  },
  {
   "cell_type": "markdown",
   "metadata": {},
   "source": [
    "### **4. Modifying Global Variables Inside a Function**  \n",
    "If you try to modify a global variable inside a function, Python creates a new local variable with the same name instead. To modify the global variable, use the `global` keyword.  \n",
    "\n",
    "**Example 1: Without `global` Keyword**"
   ]
  },
  {
   "cell_type": "code",
   "execution_count": 28,
   "metadata": {},
   "outputs": [
    {
     "name": "stdout",
     "output_type": "stream",
     "text": [
      "Inside function: 20\n",
      "Outside function: 10\n"
     ]
    }
   ],
   "source": [
    "x = 10  # Global variable\n",
    "\n",
    "def my_function():\n",
    "    x = 20  # Creates a new local variable\n",
    "    print(\"Inside function:\", x)\n",
    "\n",
    "my_function()\n",
    "print(\"Outside function:\", x)"
   ]
  },
  {
   "cell_type": "markdown",
   "metadata": {},
   "source": [
    "**Example 2: With `global` Keyword**"
   ]
  },
  {
   "cell_type": "code",
   "execution_count": 29,
   "metadata": {},
   "outputs": [
    {
     "name": "stdout",
     "output_type": "stream",
     "text": [
      "Inside function: 20\n",
      "Outside function: 20\n"
     ]
    }
   ],
   "source": [
    "x = 10  # Global variable\n",
    "\n",
    "def my_function():\n",
    "    global x  # Refers to the global variable\n",
    "    x = 20  # Modifies the global variable\n",
    "    print(\"Inside function:\", x)\n",
    "\n",
    "my_function()\n",
    "print(\"Outside function:\", x)"
   ]
  },
  {
   "cell_type": "markdown",
   "metadata": {},
   "source": [
    "### **5. Nested Functions and Scope**  \n",
    "In Python, you can define functions inside other functions. Inner functions can access variables from the outer function’s scope.  \n",
    "\n",
    "**Example:**  "
   ]
  },
  {
   "cell_type": "code",
   "execution_count": 30,
   "metadata": {},
   "outputs": [
    {
     "name": "stdout",
     "output_type": "stream",
     "text": [
      "Inside inner function: 10\n"
     ]
    }
   ],
   "source": [
    "def outer_function():\n",
    "    x = 10  # Outer function's local variable\n",
    "\n",
    "    def inner_function():\n",
    "        print(\"Inside inner function:\", x)  # Access outer function's variable\n",
    "\n",
    "    inner_function()\n",
    "\n",
    "outer_function()"
   ]
  },
  {
   "cell_type": "markdown",
   "metadata": {},
   "source": [
    "### **6. Lifetime of Variables**  \n",
    "- **Local Variables**: Created when the function is called and destroyed when the function exits.  \n",
    "- **Global Variables**: Created when the program starts and destroyed when the program ends.  \n",
    "\n",
    "**Example:**\n",
    "``` python\n",
    "def my_function():\n",
    "    y = 5  # Local variable\n",
    "    print(\"Inside function:\", y)\n",
    "\n",
    "my_function()\n",
    "print(\"Outside function:\", y)  # Error: y is not defined\n",
    "```"
   ]
  },
  {
   "cell_type": "markdown",
   "metadata": {},
   "source": [
    "## **4. Lambda Functions**"
   ]
  },
  {
   "cell_type": "markdown",
   "metadata": {},
   "source": [
    "### **1. What Are Lambda Functions?**  \n",
    "A lambda function is a small, anonymous function that can have any number of arguments but only one expression. It is defined using the `lambda` keyword and is typically used for short, simple operations.  \n",
    "\n",
    "**Syntax:**  \n",
    "```python\n",
    "lambda arguments: expression\n",
    "```  \n",
    "\n",
    "- **`arguments`**: The input parameters (similar to function parameters).  \n",
    "- **`expression`**: A single expression that is evaluated and returned."
   ]
  },
  {
   "cell_type": "markdown",
   "metadata": {},
   "source": [
    "### **2. Basic Examples of Lambda Functions**  \n",
    "\n",
    "**Example 1: Simple Lambda Function**"
   ]
  },
  {
   "cell_type": "code",
   "execution_count": 32,
   "metadata": {},
   "outputs": [
    {
     "name": "stdout",
     "output_type": "stream",
     "text": [
      "25\n"
     ]
    }
   ],
   "source": [
    "square = lambda x: x ** 2\n",
    "print(square(5))  # Output: 25"
   ]
  },
  {
   "cell_type": "markdown",
   "metadata": {},
   "source": [
    "**Example 2: Lambda Function with Multiple Arguments**"
   ]
  },
  {
   "cell_type": "code",
   "execution_count": 33,
   "metadata": {},
   "outputs": [
    {
     "name": "stdout",
     "output_type": "stream",
     "text": [
      "8\n"
     ]
    }
   ],
   "source": [
    "add = lambda a, b: a + b\n",
    "print(add(3, 5))  # Output: 8"
   ]
  },
  {
   "cell_type": "markdown",
   "metadata": {},
   "source": [
    "### **3. Using Lambda Functions with Built-in Functions**  \n",
    "Lambda functions are often used with built-in functions like `map()`, `filter()`, and `sorted()`.  \n",
    "\n",
    "**Example 1: Using `map()` with Lambda**  \n",
    "The `map()` function applies a function to all items in an iterable."
   ]
  },
  {
   "cell_type": "code",
   "execution_count": 34,
   "metadata": {},
   "outputs": [
    {
     "name": "stdout",
     "output_type": "stream",
     "text": [
      "[1, 4, 9, 16, 25]\n"
     ]
    }
   ],
   "source": [
    "numbers = [1, 2, 3, 4, 5]\n",
    "squared = list(map(lambda x: x ** 2, numbers))\n",
    "print(squared)  # Output: [1, 4, 9, 16, 25]"
   ]
  },
  {
   "cell_type": "markdown",
   "metadata": {},
   "source": [
    "**Example 2: Using `filter()` with Lambda**  \n",
    "The `filter()` function filters items in an iterable based on a condition."
   ]
  },
  {
   "cell_type": "code",
   "execution_count": 35,
   "metadata": {},
   "outputs": [
    {
     "name": "stdout",
     "output_type": "stream",
     "text": [
      "[2, 4, 6]\n"
     ]
    }
   ],
   "source": [
    "numbers = [1, 2, 3, 4, 5, 6]\n",
    "evens = list(filter(lambda x: x % 2 == 0, numbers))\n",
    "print(evens)  # Output: [2, 4, 6]"
   ]
  },
  {
   "cell_type": "markdown",
   "metadata": {},
   "source": [
    "**Example 3: Using `sorted()` with Lambda**  \n",
    "The `sorted()` function sorts an iterable. You can use a lambda function to customize the sorting key."
   ]
  },
  {
   "cell_type": "code",
   "execution_count": 36,
   "metadata": {},
   "outputs": [
    {
     "name": "stdout",
     "output_type": "stream",
     "text": [
      "[('Bob', 20), ('Charlie', 22), ('Alice', 25)]\n"
     ]
    }
   ],
   "source": [
    "students = [(\"Alice\", 25), (\"Bob\", 20), (\"Charlie\", 22)]\n",
    "sorted_students = sorted(students, key=lambda x: x[1])  # Sort by age\n",
    "print(sorted_students)"
   ]
  },
  {
   "cell_type": "markdown",
   "metadata": {},
   "source": [
    "### **4. Practical Applications of Lambda Functions**  \n",
    "\n",
    "**Example 1: Sorting a List of Dictionaries**"
   ]
  },
  {
   "cell_type": "code",
   "execution_count": 37,
   "metadata": {},
   "outputs": [
    {
     "name": "stdout",
     "output_type": "stream",
     "text": [
      "[{'name': 'Bob', 'age': 20}, {'name': 'Charlie', 'age': 22}, {'name': 'Alice', 'age': 25}]\n"
     ]
    }
   ],
   "source": [
    "people = [\n",
    "    {\"name\": \"Alice\", \"age\": 25},\n",
    "    {\"name\": \"Bob\", \"age\": 20},\n",
    "    {\"name\": \"Charlie\", \"age\": 22}\n",
    "]\n",
    "sorted_people = sorted(people, key=lambda x: x[\"age\"])  # Sort by age\n",
    "print(sorted_people)"
   ]
  },
  {
   "cell_type": "markdown",
   "metadata": {},
   "source": [
    "**Example 2: Calculating the Average of a List**  "
   ]
  },
  {
   "cell_type": "code",
   "execution_count": 38,
   "metadata": {},
   "outputs": [
    {
     "name": "stdout",
     "output_type": "stream",
     "text": [
      "Average: 3.0\n"
     ]
    }
   ],
   "source": [
    "numbers = [1, 2, 3, 4, 5]\n",
    "average = (lambda lst: sum(lst) / len(lst))(numbers)\n",
    "print(\"Average:\", average)  # Output: Average: 3.0"
   ]
  },
  {
   "cell_type": "markdown",
   "metadata": {},
   "source": [
    "### **5. Limitations of Lambda Functions**  \n",
    "- **Single Expression**: Lambda functions can only contain one expression.  \n",
    "- **No Statements**: You cannot use statements like `if`, `for`, or `while` inside a lambda function.  \n",
    "- **Readability**: Overusing lambda functions can make code harder to read."
   ]
  },
  {
   "cell_type": "markdown",
   "metadata": {},
   "source": [
    "### **6. When to Use Lambda Functions**  \n",
    "- **Short, One-Time Operations**: Use lambda functions for simple tasks that don’t require a named function.  \n",
    "- **Higher-Order Functions**: Use lambda functions with `map()`, `filter()`, and `sorted()`.  \n",
    "- **Avoid Complex Logic**: For more complex tasks, define a regular function."
   ]
  },
  {
   "cell_type": "markdown",
   "metadata": {},
   "source": []
  }
 ],
 "metadata": {
  "kernelspec": {
   "display_name": "venv",
   "language": "python",
   "name": "python3"
  },
  "language_info": {
   "codemirror_mode": {
    "name": "ipython",
    "version": 3
   },
   "file_extension": ".py",
   "mimetype": "text/x-python",
   "name": "python",
   "nbconvert_exporter": "python",
   "pygments_lexer": "ipython3",
   "version": "3.11.3"
  }
 },
 "nbformat": 4,
 "nbformat_minor": 2
}
