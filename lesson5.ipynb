{
 "cells": [
  {
   "cell_type": "markdown",
   "metadata": {},
   "source": [
    "## 1. File Handling in Python"
   ]
  },
  {
   "cell_type": "markdown",
   "metadata": {},
   "source": [
    "### 1.1. Opening and Closing Files"
   ]
  },
  {
   "cell_type": "markdown",
   "metadata": {},
   "source": [
    "- **Opening Files**:\n",
    "  - Use the `open()` function to open a file.\n",
    "  - Syntax: `open(filename, mode)`\n",
    "  - Common modes:\n",
    "    - `'r'`: Read (default).\n",
    "    - `'w'`: Write (creates a new file or truncates an existing file).\n",
    "    - `'a'`: Append (creates a new file or appends to an existing file).\n",
    "    - `'b'`: Binary mode.\n",
    "    - `'+'`: Read and write.\n",
    "- **Closing Files**:\n",
    "  - Always close files using the `close()` method to free up resources.\n",
    "  - Alternatively, use the `with` statement for automatic closing."
   ]
  },
  {
   "cell_type": "code",
   "execution_count": 24,
   "metadata": {},
   "outputs": [],
   "source": [
    "# Example: Opening and closing a file\n",
    "file = open('example.txt', 'r')\n",
    "content = file.read()\n",
    "file.close()\n",
    "\n",
    "# Using 'with' statement\n",
    "with open('example.txt', 'r') as file:\n",
    "    content = file.read()"
   ]
  },
  {
   "cell_type": "markdown",
   "metadata": {},
   "source": [
    "### 1.2. Reading from Files"
   ]
  },
  {
   "cell_type": "markdown",
   "metadata": {},
   "source": [
    "- **Reading Entire Content**:\n",
    "  - Use `read()` to read the entire content of a file.\n",
    "- **Reading Line by Line**:\n",
    "  - Use `readline()` to read one line at a time.\n",
    "  - Use `readlines()` to read all lines into a list.\n",
    "- **Example**: Reading a file line by line."
   ]
  },
  {
   "cell_type": "code",
   "execution_count": 25,
   "metadata": {},
   "outputs": [
    {
     "name": "stdout",
     "output_type": "stream",
     "text": [
      "Hello, World!\n",
      "This is an example text file.\n",
      "It contains multiple lines of text.\n",
      "We will use this file to test code.\n"
     ]
    }
   ],
   "source": [
    "# Reading entire content\n",
    "with open('example.txt', 'r') as file:\n",
    "    content = file.read()\n",
    "    print(content)"
   ]
  },
  {
   "cell_type": "code",
   "execution_count": 26,
   "metadata": {},
   "outputs": [
    {
     "name": "stdout",
     "output_type": "stream",
     "text": [
      "Hello, World!\n",
      "This is an example text file.\n",
      "It contains multiple lines of text.\n",
      "We will use this file to test code.\n"
     ]
    }
   ],
   "source": [
    "# Reading line by line\n",
    "with open('example.txt', 'r') as file:\n",
    "    line = file.readline()\n",
    "    while line:\n",
    "        print(line.strip())\n",
    "        line = file.readline()"
   ]
  },
  {
   "cell_type": "code",
   "execution_count": 27,
   "metadata": {},
   "outputs": [
    {
     "name": "stdout",
     "output_type": "stream",
     "text": [
      "Hello, World!\n",
      "This is an example text file.\n",
      "It contains multiple lines of text.\n",
      "We will use this file to test code.\n"
     ]
    }
   ],
   "source": [
    "# Reading all lines into a list\n",
    "with open('example.txt', 'r') as file:\n",
    "    lines = file.readlines()\n",
    "    for line in lines:\n",
    "        print(line.strip())"
   ]
  },
  {
   "cell_type": "markdown",
   "metadata": {},
   "source": [
    "### 1.3. Writing to Files"
   ]
  },
  {
   "cell_type": "markdown",
   "metadata": {},
   "source": [
    "- **Writing Text**:\n",
    "  - Use `write()` to write a string to a file.\n",
    "  - Use `writelines()` to write a list of strings.\n",
    "- **Appending Text**:\n",
    "  - Use mode `'a'` to append to an existing file.\n",
    "- **Example**: Writing and appending to a file."
   ]
  },
  {
   "cell_type": "code",
   "execution_count": 28,
   "metadata": {},
   "outputs": [],
   "source": [
    "# Writing to a file\n",
    "with open('output.txt', 'w') as file:\n",
    "    file.write(\"Hello, World!\\n\")\n",
    "    file.write(\"This is a new line.\\n\")"
   ]
  },
  {
   "cell_type": "code",
   "execution_count": 29,
   "metadata": {},
   "outputs": [],
   "source": [
    "# Appending to a file\n",
    "with open('output.txt', 'a') as file:\n",
    "    file.write(\"This line is appended.\\n\")"
   ]
  },
  {
   "cell_type": "markdown",
   "metadata": {},
   "source": [
    "### 1.4. Working with Binary Files"
   ]
  },
  {
   "cell_type": "markdown",
   "metadata": {},
   "source": [
    "Reading and writing binary data (using `'rb'` and `'wb'` modes) is suitable for working with any files stored in binary format. Here are some examples of files that can be processed this way:"
   ]
  },
  {
   "cell_type": "code",
   "execution_count": 30,
   "metadata": {},
   "outputs": [],
   "source": [
    "with open('image.jpg', 'rb') as file:\n",
    "    binary_data = file.read()"
   ]
  },
  {
   "cell_type": "code",
   "execution_count": 32,
   "metadata": {},
   "outputs": [],
   "source": [
    "with open('copy_image.jpg', 'wb') as file:\n",
    "    file.write(binary_data)"
   ]
  },
  {
   "cell_type": "markdown",
   "metadata": {},
   "source": [
    "After reading binary files, there are numerous operations you can perform depending on the type of file and your goals. Below are some common use cases and examples for different types of files:"
   ]
  },
  {
   "cell_type": "markdown",
   "metadata": {},
   "source": [
    "##### 1.4.1. Images\n",
    "   - Resize or Modify: Use libraries like `Pillow` (PIL) or `OpenCV` to process images.\n",
    "   - Convert Formats: Convert between formats (e.g., `.jpg` to `.png`).\n",
    "   - Extract Metadata: Use libraries like `exifread` to extract metadata (e.g., camera settings).\n",
    "   - Apply Filters: Apply filters like blur, sharpen, or grayscale.\n",
    "\n",
    "**Example**: Resizing an Image."
   ]
  },
  {
   "cell_type": "code",
   "execution_count": null,
   "metadata": {},
   "outputs": [],
   "source": [
    "from PIL import Image\n",
    "import io\n",
    "\n",
    "# Read binary image data\n",
    "with open('image.jpg', 'rb') as file:\n",
    "    binary_data = file.read()\n",
    "\n",
    "# Convert binary data to an image object\n",
    "image = Image.open(io.BytesIO(binary_data))\n",
    "\n",
    "# Resize the image\n",
    "resized_image = image.resize((200, 200))\n",
    "\n",
    "# Save the resized image\n",
    "resized_image.save('resized_image.jpg')"
   ]
  },
  {
   "cell_type": "markdown",
   "metadata": {},
   "source": [
    "##### 1.4.2. Audio Files\n",
    "   - Play Audio: Use libraries like `pydub` or `simpleaudio` to play audio.\n",
    "   - Convert Formats: Convert between formats (e.g., `.mp3` to `.wav`).\n",
    "   - Extract Metadata: Use libraries like `mutagen` to extract metadata (e.g., artist, album).\n",
    "   - Analyze Audio: Use libraries like `librosa` for audio analysis (e.g., frequency, tempo).\n",
    "\n",
    "**Example**: Converting Audio Formats."
   ]
  },
  {
   "cell_type": "code",
   "execution_count": null,
   "metadata": {},
   "outputs": [],
   "source": [
    "from pydub import AudioSegment\n",
    "\n",
    "# Read binary audio data\n",
    "with open('audio.mp3', 'rb') as file:\n",
    "    binary_data = file.read()\n",
    "\n",
    "# Convert binary data to an AudioSegment object\n",
    "audio = AudioSegment.from_file(io.BytesIO(binary_data), format=\"mp3\")\n",
    "\n",
    "# Export to WAV format\n",
    "audio.export(\"audio.wav\", format=\"wav\")"
   ]
  },
  {
   "cell_type": "markdown",
   "metadata": {},
   "source": [
    "##### 1.4.3. Video Files\n",
    "   - Extract Frames: Use libraries like `OpenCV` to extract frames from a video.\n",
    "   - Convert Formats: Convert between formats (e.g., `.mp4` to `.avi`).\n",
    "   - Edit Videos: Use libraries like `moviepy` to trim, merge, or add effects.\n",
    "   - Analyze Videos: Perform object detection or motion analysis.\n",
    "\n",
    "**Example**: Extracting Frames from a Video."
   ]
  },
  {
   "cell_type": "code",
   "execution_count": null,
   "metadata": {},
   "outputs": [],
   "source": [
    "import cv2\n",
    "import numpy as np\n",
    "\n",
    "# Read binary video data\n",
    "with open('video.mp4', 'rb') as file:\n",
    "    binary_data = file.read()\n",
    "\n",
    "# Convert binary data to a NumPy array\n",
    "video_array = np.frombuffer(binary_data, dtype=np.uint8)\n",
    "\n",
    "# Decode the video using OpenCV\n",
    "video = cv2.VideoCapture('video.mp4')\n",
    "success, frame = video.read()\n",
    "while success:\n",
    "    cv2.imwrite(\"frame.jpg\", frame)  # Save each frame\n",
    "    success, frame = video.read()"
   ]
  },
  {
   "cell_type": "markdown",
   "metadata": {},
   "source": [
    "##### 1.4.4. Documents\n",
    "   - Extract Text: Use libraries like `PyPDF2` (for PDFs) or `python-docx` (for Word documents).\n",
    "   - Convert Formats: Convert between formats (e.g., `.pdf` to `.docx`).\n",
    "   - Edit Documents: Modify content, add tables, or insert images.\n",
    "\n",
    "**Example**: Extracting Text from a PDF."
   ]
  },
  {
   "cell_type": "code",
   "execution_count": null,
   "metadata": {},
   "outputs": [],
   "source": [
    "from PyPDF2 import PdfReader\n",
    "\n",
    "# Read binary PDF data\n",
    "with open('document.pdf', 'rb') as file:\n",
    "    binary_data = file.read()\n",
    "\n",
    "# Convert binary data to a PDF reader object\n",
    "reader = PdfReader(io.BytesIO(binary_data))\n",
    "\n",
    "# Extract text from the first page\n",
    "text = reader.pages[0].extract_text()\n",
    "print(text)"
   ]
  },
  {
   "cell_type": "markdown",
   "metadata": {},
   "source": [
    "##### 1.4.5. Archives\n",
    "   - Extract Files: Use libraries like `zipfile` or `tarfile` to extract files from archives.\n",
    "   - Create Archives: Compress files into `.zip` or `.tar.gz` formats.\n",
    "   - List Contents: Inspect the contents of an archive.\n",
    "\n",
    "**Example**: Extracting Files from a ZIP Archive."
   ]
  },
  {
   "cell_type": "code",
   "execution_count": null,
   "metadata": {},
   "outputs": [],
   "source": [
    "import zipfile\n",
    "\n",
    "# Read binary ZIP data\n",
    "with open('archive.zip', 'rb') as file:\n",
    "    binary_data = file.read()\n",
    "\n",
    "# Convert binary data to a ZipFile object\n",
    "with zipfile.ZipFile(io.BytesIO(binary_data)) as zip_ref:\n",
    "    zip_ref.extractall(\"extracted_files\")"
   ]
  },
  {
   "cell_type": "markdown",
   "metadata": {},
   "source": [
    "##### Summary:\n",
    "Once you read binary files, you can:\n",
    "- Process the data (e.g., resize images, convert formats).\n",
    "- Analyze the data (e.g., extract metadata, perform statistical analysis).\n",
    "- Modify the data (e.g., edit documents, apply filters).\n",
    "- Use the data (e.g., play audio, execute binaries).\n",
    "\n",
    "The specific operations depend on the file type and your goals. Python provides libraries for almost every type of file and use case, making it a versatile tool for working with binary data."
   ]
  },
  {
   "cell_type": "markdown",
   "metadata": {},
   "source": [
    "### 1.5. Handling File Paths"
   ]
  },
  {
   "cell_type": "markdown",
   "metadata": {},
   "source": [
    "- **Using `os` and `os.path`**:\n",
    "  - `os.getcwd()`: Get current working directory.\n",
    "  - `os.path.join()`: Join path components.\n",
    "  - `os.path.exists()`: Check if a path exists.\n",
    "- **Example**: Working with file paths."
   ]
  },
  {
   "cell_type": "code",
   "execution_count": 33,
   "metadata": {},
   "outputs": [
    {
     "name": "stdout",
     "output_type": "stream",
     "text": [
      "Current Directory: c:\\GR\\Work\\СПбГУ\\c\n",
      "File Path: c:\\GR\\Work\\СПбГУ\\c\\data\\example.txt\n",
      "File does not exist.\n"
     ]
    }
   ],
   "source": [
    "import os\n",
    "\n",
    "# Getting current working directory\n",
    "current_dir = os.getcwd()\n",
    "print(f\"Current Directory: {current_dir}\")\n",
    "\n",
    "# Joining paths\n",
    "file_path = os.path.join(current_dir, 'data', 'example.txt')\n",
    "print(f\"File Path: {file_path}\")\n",
    "\n",
    "# Checking if a path exists\n",
    "if os.path.exists(file_path):\n",
    "    print(\"File exists.\")\n",
    "else:\n",
    "    print(\"File does not exist.\")"
   ]
  },
  {
   "cell_type": "markdown",
   "metadata": {},
   "source": [
    "### 1.6. Error Handling in File Operations"
   ]
  },
  {
   "cell_type": "markdown",
   "metadata": {},
   "source": [
    "- **Handling Exceptions**:\n",
    "  - Use `try-except` blocks to handle file-related errors.\n",
    "- **Example**: Handling file not found error."
   ]
  },
  {
   "cell_type": "code",
   "execution_count": 34,
   "metadata": {},
   "outputs": [
    {
     "name": "stdout",
     "output_type": "stream",
     "text": [
      "File not found.\n"
     ]
    }
   ],
   "source": [
    "try:\n",
    "    with open('nonexistent.txt', 'r') as file:\n",
    "        content = file.read()\n",
    "except FileNotFoundError:\n",
    "    print(\"File not found.\")\n",
    "except IOError as e:\n",
    "    print(f\"An error occurred: {e}\")"
   ]
  },
  {
   "cell_type": "markdown",
   "metadata": {},
   "source": [
    "### 1.7. Practical Example: Reading and Processing a CSV File"
   ]
  },
  {
   "cell_type": "markdown",
   "metadata": {},
   "source": [
    "- **Reading a CSV File**:\n",
    "  - Use `csv` module to read CSV files.\n",
    "- **Example**: Reading and processing a CSV file."
   ]
  },
  {
   "cell_type": "code",
   "execution_count": 35,
   "metadata": {},
   "outputs": [
    {
     "name": "stdout",
     "output_type": "stream",
     "text": [
      "Header: ['Name', 'Age', 'City', 'Occupation', 'Salary']\n",
      "['Alice', '28', 'New York', 'Data Scientist', '95000']\n",
      "['Bob', '34', 'San Francisco', 'Software Engineer', '110000']\n",
      "['Charlie', '22', 'Chicago', 'Graphic Designer', '60000']\n",
      "['Diana', '45', 'Los Angeles', 'Project Manager', '120000']\n",
      "['Eve', '30', 'Seattle', 'Product Manager', '105000']\n"
     ]
    }
   ],
   "source": [
    "import csv\n",
    "\n",
    "# Reading a CSV file\n",
    "with open('data.csv', 'r') as file:\n",
    "    reader = csv.reader(file)\n",
    "    header = next(reader)\n",
    "    data = [row for row in reader]\n",
    "\n",
    "# Displaying the header and first few rows\n",
    "print(f\"Header: {header}\")\n",
    "for row in data[:5]:\n",
    "    print(row)"
   ]
  },
  {
   "cell_type": "markdown",
   "metadata": {},
   "source": [
    "## 2. Importing and Exporting Data\n",
    "\n"
   ]
  },
  {
   "cell_type": "markdown",
   "metadata": {},
   "source": [
    "### 2.1. Importing Data from CSV Files"
   ]
  },
  {
   "cell_type": "markdown",
   "metadata": {},
   "source": [
    "- **Using `pandas.read_csv()`**:\n",
    "  - Reads a CSV file into a DataFrame.\n",
    "  - Common parameters: `filepath_or_buffer`, `sep`, `header`, `index_col`.\n",
    "- **Example**: Reading a CSV file."
   ]
  },
  {
   "cell_type": "code",
   "execution_count": 36,
   "metadata": {},
   "outputs": [
    {
     "name": "stdout",
     "output_type": "stream",
     "text": [
      "      Name  Age           City         Occupation  Salary\n",
      "0    Alice   28       New York     Data Scientist   95000\n",
      "1      Bob   34  San Francisco  Software Engineer  110000\n",
      "2  Charlie   22        Chicago   Graphic Designer   60000\n",
      "3    Diana   45    Los Angeles    Project Manager  120000\n",
      "4      Eve   30        Seattle    Product Manager  105000\n",
      "                 Name,Age,City,Occupation,Salary\n",
      "0         Alice,28,New York,Data Scientist,95000\n",
      "1  Bob,34,San Francisco,Software Engineer,110000\n",
      "2      Charlie,22,Chicago,Graphic Designer,60000\n",
      "3    Diana,45,Los Angeles,Project Manager,120000\n",
      "4          Eve,30,Seattle,Product Manager,105000\n"
     ]
    }
   ],
   "source": [
    "import pandas as pd\n",
    "\n",
    "# Reading a CSV file\n",
    "df = pd.read_csv('data.csv')\n",
    "\n",
    "# Displaying the first few rows\n",
    "print(df.head())\n",
    "\n",
    "# Specifying a different separator and header\n",
    "df = pd.read_csv('data.csv', sep=';', header=0)\n",
    "print(df.head())"
   ]
  },
  {
   "cell_type": "markdown",
   "metadata": {},
   "source": [
    "### 2.2. Exporting Data to CSV Files"
   ]
  },
  {
   "cell_type": "markdown",
   "metadata": {},
   "source": [
    "- **Using `DataFrame.to_csv()`**:\n",
    "  - Writes a DataFrame to a CSV file.\n",
    "  - Common parameters: `path_or_buf`, `index`, `sep`.\n",
    "- **Example**: Exporting a DataFrame to a CSV file."
   ]
  },
  {
   "cell_type": "code",
   "execution_count": 37,
   "metadata": {},
   "outputs": [],
   "source": [
    "# Exporting to a CSV file\n",
    "df.to_csv('output_data.csv', index=False)\n",
    "\n",
    "# Exporting with a different separator\n",
    "df.to_csv('output_data.csv', index=False, sep=';')"
   ]
  },
  {
   "cell_type": "markdown",
   "metadata": {},
   "source": [
    "### 2.3. Importing Data from Excel Files"
   ]
  },
  {
   "cell_type": "markdown",
   "metadata": {},
   "source": [
    "- **Using `pandas.read_excel()`**:\n",
    "  - Reads an Excel file into a DataFrame.\n",
    "  - Common parameters: `io`, `sheet_name`, `header`, `index_col`.\n",
    "- **Example**: Reading an Excel file."
   ]
  },
  {
   "cell_type": "code",
   "execution_count": 40,
   "metadata": {},
   "outputs": [
    {
     "name": "stdout",
     "output_type": "stream",
     "text": [
      "      Name  Age           City         Occupation  Salary\n",
      "0    Alice   28       New York     Data Scientist   95000\n",
      "1      Bob   34  San Francisco  Software Engineer  110000\n",
      "2  Charlie   22        Chicago   Graphic Designer   60000\n",
      "3    Diana   45    Los Angeles    Project Manager  120000\n",
      "4      Eve   30        Seattle    Product Manager  105000\n"
     ]
    }
   ],
   "source": [
    "import openpyxl\n",
    "\n",
    "# Reading an Excel file\n",
    "df = pd.read_excel('data.xlsx', sheet_name='data')\n",
    "\n",
    "# Displaying the first few rows\n",
    "print(df.head())"
   ]
  },
  {
   "cell_type": "code",
   "execution_count": 41,
   "metadata": {},
   "outputs": [
    {
     "name": "stdout",
     "output_type": "stream",
     "text": [
      "      Name  Age           City         Occupation  Salary\n",
      "0    Alice   28       New York     Data Scientist   95000\n",
      "1      Bob   34  San Francisco  Software Engineer  110000\n",
      "2  Charlie   22        Chicago   Graphic Designer   60000\n",
      "3    Diana   45    Los Angeles    Project Manager  120000\n",
      "4      Eve   30        Seattle    Product Manager  105000\n"
     ]
    }
   ],
   "source": [
    "# Reading a specific sheet by name or index\n",
    "df = pd.read_excel('data.xlsx', sheet_name=0)  # First sheet\n",
    "print(df.head())"
   ]
  },
  {
   "cell_type": "markdown",
   "metadata": {},
   "source": [
    "### 2.4. Exporting Data to Excel Files"
   ]
  },
  {
   "cell_type": "markdown",
   "metadata": {},
   "source": [
    "- **Using `DataFrame.to_excel()`**:\n",
    "  - Writes a DataFrame to an Excel file.\n",
    "  - Common parameters: `excel_writer`, `sheet_name`, `index`.\n",
    "- **Example**: Exporting a DataFrame to an Excel file."
   ]
  },
  {
   "cell_type": "code",
   "execution_count": 42,
   "metadata": {},
   "outputs": [],
   "source": [
    "# Exporting to an Excel file\n",
    "df.to_excel('data.xlsx', sheet_name='data', index=False)\n",
    "\n",
    "# Exporting multiple DataFrames to different sheets\n",
    "with pd.ExcelWriter('output_data.xlsx') as writer:\n",
    "    df.to_excel(writer, sheet_name='Sheet1', index=False)"
   ]
  },
  {
   "cell_type": "markdown",
   "metadata": {},
   "source": [
    "### 2.5. Importing Data from JSON Files"
   ]
  },
  {
   "cell_type": "markdown",
   "metadata": {},
   "source": [
    "- **Using `pandas.read_json()`**:\n",
    "  - Reads a JSON file into a DataFrame.\n",
    "  - Common parameters: `path_or_buf`, `orient`, `lines`.\n",
    "- **Example**: Reading a JSON file."
   ]
  },
  {
   "cell_type": "code",
   "execution_count": 43,
   "metadata": {},
   "outputs": [
    {
     "name": "stdout",
     "output_type": "stream",
     "text": [
      "      Name  Age           City         Occupation  Salary\n",
      "0    Alice   28       New York     Data Scientist   95000\n",
      "1      Bob   34  San Francisco  Software Engineer  110000\n",
      "2  Charlie   22        Chicago   Graphic Designer   60000\n",
      "3    Diana   45    Los Angeles    Project Manager  120000\n",
      "4      Eve   30        Seattle    Product Manager  105000\n"
     ]
    }
   ],
   "source": [
    "# Reading a JSON file\n",
    "df = pd.read_json('data.json')\n",
    "\n",
    "# Displaying the first few rows\n",
    "print(df.head())"
   ]
  },
  {
   "cell_type": "code",
   "execution_count": 44,
   "metadata": {},
   "outputs": [
    {
     "name": "stdout",
     "output_type": "stream",
     "text": [
      "      Name  Age           City         Occupation  Salary\n",
      "0    Alice   28       New York     Data Scientist   95000\n",
      "1      Bob   34  San Francisco  Software Engineer  110000\n",
      "2  Charlie   22        Chicago   Graphic Designer   60000\n",
      "3    Diana   45    Los Angeles    Project Manager  120000\n",
      "4      Eve   30        Seattle    Product Manager  105000\n"
     ]
    }
   ],
   "source": [
    "# Reading JSON lines format\n",
    "df = pd.read_json('data2.jsonl', lines=True)\n",
    "print(df.head())"
   ]
  },
  {
   "cell_type": "markdown",
   "metadata": {},
   "source": [
    "### 2.6. Exporting Data to JSON Files"
   ]
  },
  {
   "cell_type": "markdown",
   "metadata": {},
   "source": [
    "- **Using `DataFrame.to_json()`**:\n",
    "  - Writes a DataFrame to a JSON file.\n",
    "  - Common parameters: `path_or_buf`, `orient`, `lines`.\n",
    "- **Example**: Exporting a DataFrame to a JSON file."
   ]
  },
  {
   "cell_type": "code",
   "execution_count": 45,
   "metadata": {},
   "outputs": [],
   "source": [
    "# Exporting to a JSON file\n",
    "df.to_json('output_data.json', orient='records')\n",
    "\n",
    "# Exporting in JSON lines format\n",
    "df.to_json('output_data.jsonl', orient='records', lines=True)"
   ]
  },
  {
   "cell_type": "markdown",
   "metadata": {},
   "source": [
    "### 2.7. Handling Missing Data"
   ]
  },
  {
   "cell_type": "markdown",
   "metadata": {},
   "source": [
    "- **Identifying Missing Data**:\n",
    "  - Use `isna()` or `isnull()` to detect missing values.\n",
    "- **Handling Missing Data**:\n",
    "  - Use `fillna()` to fill missing values.\n",
    "  - Use `dropna()` to drop rows or columns with missing values.\n",
    "- **Example**: Handling missing data in a DataFrame."
   ]
  },
  {
   "cell_type": "code",
   "execution_count": 46,
   "metadata": {},
   "outputs": [
    {
     "name": "stdout",
     "output_type": "stream",
     "text": [
      "Original data:\n",
      "             name   age           city   salary  experience\n",
      "0        John Doe  30.0       New York  75000.0         5.0\n",
      "1      Jane Smith   NaN  San Francisco  80000.0         3.0\n",
      "2     Bob Johnson  45.0            NaN  90000.0         8.0\n",
      "3     Alice Brown  28.0        Chicago      NaN         NaN\n",
      "4  Charlie Wilson  35.0    Los Angeles  85000.0         6.0\n",
      "\n",
      "\n",
      "Identifying missing data:\n",
      "    name    age   city  salary  experience\n",
      "0  False  False  False   False       False\n",
      "1  False   True  False   False       False\n",
      "2  False  False   True   False       False\n",
      "3  False  False  False    True        True\n",
      "4  False  False  False   False       False\n",
      "\n",
      "\n",
      "Data after filling with zeros:\n",
      "             name   age           city   salary  experience\n",
      "0        John Doe  30.0       New York  75000.0         5.0\n",
      "1      Jane Smith   0.0  San Francisco  80000.0         3.0\n",
      "2     Bob Johnson  45.0              0  90000.0         8.0\n",
      "3     Alice Brown  28.0        Chicago      0.0         0.0\n",
      "4  Charlie Wilson  35.0    Los Angeles  85000.0         6.0\n",
      "\n",
      "\n",
      "Data after dropping rows with missing values:\n",
      "             name   age         city   salary  experience\n",
      "0        John Doe  30.0     New York  75000.0         5.0\n",
      "4  Charlie Wilson  35.0  Los Angeles  85000.0         6.0\n"
     ]
    }
   ],
   "source": [
    "import pandas as pd\n",
    "\n",
    "# Reading data from CSV file\n",
    "df = pd.read_csv('test_data.csv')\n",
    "\n",
    "print(\"Original data:\")\n",
    "print(df)\n",
    "print(\"\\n\")\n",
    "\n",
    "# Identifying missing data\n",
    "print(\"Identifying missing data:\")\n",
    "print(df.isna())\n",
    "print(\"\\n\")\n",
    "\n",
    "# Filling missing data with zeros\n",
    "df_filled = df.fillna(0)\n",
    "print(\"Data after filling with zeros:\")\n",
    "print(df_filled)\n",
    "print(\"\\n\")\n",
    "\n",
    "# Dropping rows with missing data\n",
    "df_dropped = df.dropna()\n",
    "print(\"Data after dropping rows with missing values:\")\n",
    "print(df_dropped)"
   ]
  },
  {
   "cell_type": "markdown",
   "metadata": {},
   "source": [
    "### 2.8. Practical Example: Importing, Processing, and Exporting"
   ]
  },
  {
   "cell_type": "markdown",
   "metadata": {},
   "source": [
    "- **Scenario**: Import financial data from a CSV file, process it, and export the results to an Excel file.\n",
    "- **Example**: Calculating the average price and exporting the results."
   ]
  },
  {
   "cell_type": "code",
   "execution_count": 77,
   "metadata": {},
   "outputs": [
    {
     "name": "stdout",
     "output_type": "stream",
     "text": [
      "Original data:\n",
      "         Date    Open   Close   Volume\n",
      "0  2024-01-01  150.25  152.30  1000000\n",
      "1  2024-01-02  152.30  153.45  1200000\n",
      "2  2024-01-03  153.45  151.80   950000\n",
      "3  2024-01-04  151.80  154.20  1100000\n",
      "4  2024-01-05  154.20  155.50  1300000\n",
      "\n",
      "\n",
      "Data with average price:\n",
      "         Date    Open   Close   Volume  Average_Price\n",
      "0  2024-01-01  150.25  152.30  1000000        151.275\n",
      "1  2024-01-02  152.30  153.45  1200000        152.875\n",
      "2  2024-01-03  153.45  151.80   950000        152.625\n",
      "3  2024-01-04  151.80  154.20  1100000        153.000\n",
      "4  2024-01-05  154.20  155.50  1300000        154.850\n",
      "\n",
      "\n",
      "Data has been exported to 'processed_financial_data.xlsx'\n"
     ]
    }
   ],
   "source": [
    "import pandas as pd\n",
    "\n",
    "# Importing financial data\n",
    "df = pd.read_csv('data1.csv')\n",
    "\n",
    "# Displaying the first few rows\n",
    "print(\"Original data:\")\n",
    "print(df.head())\n",
    "print(\"\\n\")\n",
    "\n",
    "# Calculating the average price\n",
    "df['Average_Price'] = df[['Open', 'Close']].mean(axis=1)\n",
    "\n",
    "# Displaying the updated DataFrame\n",
    "print(\"Data with average price:\")\n",
    "print(df.head())\n",
    "print(\"\\n\")\n",
    "\n",
    "# Exporting the results to an Excel file\n",
    "df.to_excel('processed_financial_data.xlsx', index=False)\n",
    "print(\"Data has been exported to 'processed_financial_data.xlsx'\")"
   ]
  },
  {
   "cell_type": "markdown",
   "metadata": {},
   "source": [
    "## 3. Introduction to NumPy"
   ]
  },
  {
   "cell_type": "markdown",
   "metadata": {},
   "source": [
    "- Objective: Understand the basics of NumPy, including arrays, operations, and functions.\n",
    "- Key Concepts: Arrays, array attributes, element-wise operations, broadcasting."
   ]
  },
  {
   "cell_type": "markdown",
   "metadata": {},
   "source": [
    "### 3.1. Installing and Importing NumPy"
   ]
  },
  {
   "cell_type": "markdown",
   "metadata": {},
   "source": [
    "- **Installation**:\n",
    "  - Install NumPy using pip: `pip install numpy`.\n",
    "- **Importing**:\n",
    "  - Import NumPy in your script: `import numpy as np`."
   ]
  },
  {
   "cell_type": "code",
   "execution_count": 48,
   "metadata": {},
   "outputs": [],
   "source": [
    "# Installing NumPy\n",
    "# Run this command in your terminal or command prompt\n",
    "# pip install numpy\n",
    "\n",
    "# Importing NumPy\n",
    "import numpy as np"
   ]
  },
  {
   "cell_type": "markdown",
   "metadata": {},
   "source": [
    "### 3.2. Creating NumPy Arrays"
   ]
  },
  {
   "cell_type": "markdown",
   "metadata": {},
   "source": [
    "- **Creating Arrays**:\n",
    "  - From a list: `np.array()`.\n",
    "  - Filled with zeros: `np.zeros()`.\n",
    "  - Filled with ones: `np.ones()`.\n",
    "  - With a range of values: `np.arange()`, `np.linspace()`.\n",
    "  - Identity matrix: `np.eye()`.\n",
    "  - Random values: `np.random.rand()`, `np.random.randn()`.\n",
    "- **Example**: Creating different types of arrays."
   ]
  },
  {
   "cell_type": "code",
   "execution_count": 49,
   "metadata": {},
   "outputs": [
    {
     "name": "stdout",
     "output_type": "stream",
     "text": [
      "[1 2 3 4 5]\n",
      "[[0. 0. 0.]\n",
      " [0. 0. 0.]\n",
      " [0. 0. 0.]]\n",
      "[[1. 1. 1. 1.]\n",
      " [1. 1. 1. 1.]]\n",
      "[0 1 2 3 4 5 6 7 8 9]\n",
      "[0.   0.25 0.5  0.75 1.  ]\n",
      "[[1. 0. 0.]\n",
      " [0. 1. 0.]\n",
      " [0. 0. 1.]]\n",
      "[[0.16749055 0.97234774 0.76606464]\n",
      " [0.10736104 0.91032889 0.89260423]]\n",
      "[[-0.49947474  1.4399717   1.11369459]\n",
      " [ 1.64548204 -0.04619219  0.1411855 ]]\n"
     ]
    }
   ],
   "source": [
    "# Creating an array from a list\n",
    "arr = np.array([1, 2, 3, 4, 5])\n",
    "print(arr)\n",
    "\n",
    "# Creating an array filled with zeros\n",
    "zeros_arr = np.zeros((3, 3))\n",
    "print(zeros_arr)\n",
    "\n",
    "# Creating an array filled with ones\n",
    "ones_arr = np.ones((2, 4))\n",
    "print(ones_arr)\n",
    "\n",
    "# Creating an array with a range of values\n",
    "range_arr = np.arange(10)\n",
    "print(range_arr)\n",
    "\n",
    "# Creating an array with linearly spaced values\n",
    "linspace_arr = np.linspace(0, 1, 5)\n",
    "print(linspace_arr)\n",
    "\n",
    "# Creating an identity matrix\n",
    "identity_matrix = np.eye(3)\n",
    "print(identity_matrix)\n",
    "\n",
    "# Creating an array with random values\n",
    "random_arr = np.random.rand(2, 3)\n",
    "print(random_arr)\n",
    "\n",
    "# Creating an array with random values from a standard normal distribution\n",
    "random_normal_arr = np.random.randn(2, 3)\n",
    "print(random_normal_arr)"
   ]
  },
  {
   "cell_type": "markdown",
   "metadata": {},
   "source": [
    "### 3.3. Array Attributes"
   ]
  },
  {
   "cell_type": "markdown",
   "metadata": {},
   "source": [
    "- **Shape**: `arr.shape`.\n",
    "- **Size**: `arr.size`.\n",
    "- **Data Type**: `arr.dtype`.\n",
    "- **Example**: Accessing array attributes."
   ]
  },
  {
   "cell_type": "code",
   "execution_count": 50,
   "metadata": {},
   "outputs": [
    {
     "name": "stdout",
     "output_type": "stream",
     "text": [
      "Shape: (2, 3)\n",
      "Size: 6\n",
      "Data Type: int64\n"
     ]
    }
   ],
   "source": [
    "# Creating an array\n",
    "arr = np.array([[1, 2, 3], [4, 5, 6]])\n",
    "\n",
    "# Accessing shape\n",
    "print(f\"Shape: {arr.shape}\")\n",
    "\n",
    "# Accessing size\n",
    "print(f\"Size: {arr.size}\")\n",
    "\n",
    "# Accessing data type\n",
    "print(f\"Data Type: {arr.dtype}\")"
   ]
  },
  {
   "cell_type": "markdown",
   "metadata": {},
   "source": [
    "### 3.4. Array Operations"
   ]
  },
  {
   "cell_type": "markdown",
   "metadata": {},
   "source": [
    "- **Element-wise Operations**:\n",
    "  - Arithmetic operations: `+`, `-`, `*`, `/`, `**`.\n",
    "  - Comparison operations: `==`, `!=`, `>`, `<`, `>=`, `<=`.\n",
    "- **Broadcasting**:\n",
    "  - Operations between arrays of different shapes.\n",
    "- **Example**: Performing element-wise operations and broadcasting."
   ]
  },
  {
   "cell_type": "code",
   "execution_count": 51,
   "metadata": {},
   "outputs": [
    {
     "name": "stdout",
     "output_type": "stream",
     "text": [
      "[5 7 9]\n",
      "[-3 -3 -3]\n",
      "[ 4 10 18]\n",
      "[0.25 0.4  0.5 ]\n",
      "[1 4 9]\n",
      "[False False False]\n",
      "[False False False]\n",
      "[[3 4 5]\n",
      " [6 7 8]]\n",
      "[[ 2  4  6]\n",
      " [ 8 10 12]]\n"
     ]
    }
   ],
   "source": [
    "# Element-wise operations\n",
    "arr1 = np.array([1, 2, 3])\n",
    "arr2 = np.array([4, 5, 6])\n",
    "\n",
    "# Addition\n",
    "print(arr1 + arr2)\n",
    "\n",
    "# Subtraction\n",
    "print(arr1 - arr2)\n",
    "\n",
    "# Multiplication\n",
    "print(arr1 * arr2)\n",
    "\n",
    "# Division\n",
    "print(arr1 / arr2)\n",
    "\n",
    "# Exponentiation\n",
    "print(arr1 ** 2)\n",
    "\n",
    "# Comparison operations\n",
    "print(arr1 == arr2)\n",
    "print(arr1 > arr2)\n",
    "\n",
    "# Broadcasting\n",
    "arr = np.array([[1, 2, 3], [4, 5, 6]])\n",
    "scalar = 2\n",
    "\n",
    "# Adding a scalar to an array\n",
    "print(arr + scalar)\n",
    "\n",
    "# Multiplying an array by a scalar\n",
    "print(arr * scalar)"
   ]
  },
  {
   "cell_type": "markdown",
   "metadata": {},
   "source": [
    "### 3.5. NumPy Functions"
   ]
  },
  {
   "cell_type": "markdown",
   "metadata": {},
   "source": [
    "- **Mathematical Functions**:\n",
    "  - `np.sum()`, `np.mean()`, `np.std()`, `np.min()`, `np.max()`.\n",
    "- **Array Manipulation**:\n",
    "  - `np.reshape()`, `np.transpose()`, `np.concatenate()`.\n",
    "- **Example**: Using NumPy functions."
   ]
  },
  {
   "cell_type": "code",
   "execution_count": 52,
   "metadata": {},
   "outputs": [
    {
     "name": "stdout",
     "output_type": "stream",
     "text": [
      "Sum: 21\n",
      "Mean: 3.5\n",
      "Standard Deviation: 1.707825127659933\n",
      "Minimum: 1\n",
      "Maximum: 6\n",
      "Reshaped Array:\n",
      "[[1 2]\n",
      " [3 4]\n",
      " [5 6]]\n",
      "Transposed Array:\n",
      "[[1 4]\n",
      " [2 5]\n",
      " [3 6]]\n",
      "Concatenated Array:\n",
      "[[1 2]\n",
      " [3 4]\n",
      " [5 6]]\n"
     ]
    }
   ],
   "source": [
    "# Creating an array\n",
    "arr = np.array([[1, 2, 3], [4, 5, 6]])\n",
    "\n",
    "# Sum of all elements\n",
    "print(f\"Sum: {np.sum(arr)}\")\n",
    "\n",
    "# Mean of all elements\n",
    "print(f\"Mean: {np.mean(arr)}\")\n",
    "\n",
    "# Standard deviation of all elements\n",
    "print(f\"Standard Deviation: {np.std(arr)}\")\n",
    "\n",
    "# Minimum value\n",
    "print(f\"Minimum: {np.min(arr)}\")\n",
    "\n",
    "# Maximum value\n",
    "print(f\"Maximum: {np.max(arr)}\")\n",
    "\n",
    "# Reshaping an array\n",
    "reshaped_arr = np.reshape(arr, (3, 2))\n",
    "print(f\"Reshaped Array:\\n{reshaped_arr}\")\n",
    "\n",
    "# Transposing an array\n",
    "transposed_arr = np.transpose(arr)\n",
    "print(f\"Transposed Array:\\n{transposed_arr}\")\n",
    "\n",
    "# Concatenating arrays\n",
    "arr1 = np.array([[1, 2], [3, 4]])\n",
    "arr2 = np.array([[5, 6]])\n",
    "concatenated_arr = np.concatenate((arr1, arr2), axis=0)\n",
    "print(f\"Concatenated Array:\\n{concatenated_arr}\")"
   ]
  },
  {
   "cell_type": "markdown",
   "metadata": {},
   "source": [
    "### 3.6. Practical Example: Analyzing Data with NumPy"
   ]
  },
  {
   "cell_type": "markdown",
   "metadata": {},
   "source": [
    "- **Scenario**: Calculate basic statistics for a set of financial data.\n",
    "- **Example**: Calculating mean, standard deviation, and other statistics for stock prices."
   ]
  },
  {
   "cell_type": "code",
   "execution_count": 53,
   "metadata": {},
   "outputs": [
    {
     "name": "stdout",
     "output_type": "stream",
     "text": [
      "Mean Price: 106.5\n",
      "Standard Deviation: 4.080441152620633\n",
      "Minimum Price: 100, Maximum Price: 112\n",
      "Daily Returns (%): [ 2.         -0.98039216  3.96039604  1.9047619   2.80373832 -1.81818182\n",
      "  0.92592593  1.83486239  0.9009009 ]\n"
     ]
    }
   ],
   "source": [
    "import numpy as np\n",
    "\n",
    "# Sample financial data (stock prices)\n",
    "stock_prices = np.array([100, 102, 101, 105, 107, 110, 108, 109, 111, 112])\n",
    "\n",
    "# Calculating mean price\n",
    "mean_price = np.mean(stock_prices)\n",
    "print(f\"Mean Price: {mean_price}\")\n",
    "\n",
    "# Calculating standard deviation\n",
    "std_dev = np.std(stock_prices)\n",
    "print(f\"Standard Deviation: {std_dev}\")\n",
    "\n",
    "# Calculating minimum and maximum prices\n",
    "min_price = np.min(stock_prices)\n",
    "max_price = np.max(stock_prices)\n",
    "print(f\"Minimum Price: {min_price}, Maximum Price: {max_price}\")\n",
    "\n",
    "# Calculating daily returns\n",
    "daily_returns = np.diff(stock_prices) / stock_prices[:-1] * 100\n",
    "print(f\"Daily Returns (%): {daily_returns}\")"
   ]
  },
  {
   "cell_type": "markdown",
   "metadata": {},
   "source": [
    "## 4. Introduction to Pandas\n",
    "\n"
   ]
  },
  {
   "cell_type": "markdown",
   "metadata": {},
   "source": [
    "- **Objective**: Understand the basics of Pandas, including DataFrames, Series, and data manipulation.\n",
    "- **Key Concepts**: DataFrames, Series, indexing, data manipulation."
   ]
  },
  {
   "cell_type": "markdown",
   "metadata": {},
   "source": [
    "### 4.1. Installing and Importing Pandas"
   ]
  },
  {
   "cell_type": "markdown",
   "metadata": {},
   "source": [
    "- **Installation**:\n",
    "  - Install Pandas using pip: `pip install pandas`.\n",
    "- **Importing**:\n",
    "  - Import Pandas in your script: `import pandas as pd`."
   ]
  },
  {
   "cell_type": "code",
   "execution_count": 54,
   "metadata": {},
   "outputs": [],
   "source": [
    "# Installing Pandas\n",
    "# Run this command in your terminal or command prompt\n",
    "# pip install pandas\n",
    "\n",
    "# Importing Pandas\n",
    "import pandas as pd"
   ]
  },
  {
   "cell_type": "markdown",
   "metadata": {},
   "source": [
    "### 4.2. Creating DataFrames and Series"
   ]
  },
  {
   "cell_type": "markdown",
   "metadata": {},
   "source": [
    "- **Creating a Series**:\n",
    "  - A one-dimensional array-like object.\n",
    "  - Example: `pd.Series([1, 2, 3, 4])`.\n",
    "- **Creating a DataFrame**:\n",
    "  - A two-dimensional table-like structure.\n",
    "  - Example: `pd.DataFrame({'col1': [1, 2], 'col2': [3, 4]})`.\n",
    "- **Example**: Creating Series and DataFrames."
   ]
  },
  {
   "cell_type": "code",
   "execution_count": 55,
   "metadata": {},
   "outputs": [
    {
     "name": "stdout",
     "output_type": "stream",
     "text": [
      "0    1\n",
      "1    2\n",
      "2    3\n",
      "3    4\n",
      "dtype: int64\n",
      "      Name  Age         City\n",
      "0    Alice   25     New York\n",
      "1      Bob   30  Los Angeles\n",
      "2  Charlie   35      Chicago\n"
     ]
    }
   ],
   "source": [
    "# Creating a Series\n",
    "s = pd.Series([1, 2, 3, 4])\n",
    "print(s)\n",
    "\n",
    "# Creating a DataFrame\n",
    "df = pd.DataFrame({\n",
    "    'Name': ['Alice', 'Bob', 'Charlie'],\n",
    "    'Age': [25, 30, 35],\n",
    "    'City': ['New York', 'Los Angeles', 'Chicago']\n",
    "})\n",
    "print(df)"
   ]
  },
  {
   "cell_type": "markdown",
   "metadata": {},
   "source": [
    "### 4.3. Accessing Data in DataFrames"
   ]
  },
  {
   "cell_type": "markdown",
   "metadata": {},
   "source": [
    "- **Accessing Columns**:\n",
    "  - Use column names: `df['column_name']`.\n",
    "- **Accessing Rows**:\n",
    "  - Use `loc[]` for label-based indexing.\n",
    "  - Use `iloc[]` for position-based indexing.\n",
    "- **Example**: Accessing columns and rows."
   ]
  },
  {
   "cell_type": "code",
   "execution_count": 56,
   "metadata": {},
   "outputs": [
    {
     "name": "stdout",
     "output_type": "stream",
     "text": [
      "0    25\n",
      "1    30\n",
      "2    35\n",
      "Name: Age, dtype: int64\n",
      "Name            Bob\n",
      "Age              30\n",
      "City    Los Angeles\n",
      "Name: 1, dtype: object\n",
      "Name            Bob\n",
      "Age              30\n",
      "City    Los Angeles\n",
      "Name: 1, dtype: object\n",
      "30\n"
     ]
    }
   ],
   "source": [
    "# Accessing a column\n",
    "ages = df['Age']\n",
    "print(ages)\n",
    "\n",
    "# Accessing a row by label\n",
    "row = df.loc[1]\n",
    "print(row)\n",
    "\n",
    "# Accessing a row by position\n",
    "row = df.iloc[1]\n",
    "print(row)\n",
    "\n",
    "# Accessing specific cells\n",
    "cell = df.loc[1, 'Age']\n",
    "print(cell)"
   ]
  },
  {
   "cell_type": "markdown",
   "metadata": {},
   "source": [
    "### 4.4. Data Manipulation"
   ]
  },
  {
   "cell_type": "markdown",
   "metadata": {},
   "source": [
    "- **Adding and Removing Columns**:\n",
    "  - Add a column: `df['new_column'] = values`.\n",
    "  - Remove a column: `df.drop('column_name', axis=1)`.\n",
    "- **Filtering Data**:\n",
    "  - Use boolean indexing: `df[df['Age'] > 30]`.\n",
    "- **Sorting Data**:\n",
    "  - Use `sort_values()`: `df.sort_values('Age')`.\n",
    "- **Example**: Adding, removing, filtering, and sorting data."
   ]
  },
  {
   "cell_type": "code",
   "execution_count": 57,
   "metadata": {},
   "outputs": [
    {
     "name": "stdout",
     "output_type": "stream",
     "text": [
      "      Name  Age         City  Salary\n",
      "0    Alice   25     New York   70000\n",
      "1      Bob   30  Los Angeles   80000\n",
      "2  Charlie   35      Chicago   90000\n",
      "      Name  Age  Salary\n",
      "0    Alice   25   70000\n",
      "1      Bob   30   80000\n",
      "2  Charlie   35   90000\n",
      "      Name  Age  Salary\n",
      "2  Charlie   35   90000\n",
      "      Name  Age  Salary\n",
      "0    Alice   25   70000\n",
      "1      Bob   30   80000\n",
      "2  Charlie   35   90000\n"
     ]
    }
   ],
   "source": [
    "# Adding a new column\n",
    "df['Salary'] = [70000, 80000, 90000]\n",
    "print(df)\n",
    "\n",
    "# Removing a column\n",
    "df = df.drop('City', axis=1)\n",
    "print(df)\n",
    "\n",
    "# Filtering data\n",
    "filtered_df = df[df['Age'] > 30]\n",
    "print(filtered_df)\n",
    "\n",
    "# Sorting data\n",
    "sorted_df = df.sort_values('Age')\n",
    "print(sorted_df)"
   ]
  },
  {
   "cell_type": "markdown",
   "metadata": {},
   "source": [
    "### 4.5. Handling Missing Data"
   ]
  },
  {
   "cell_type": "markdown",
   "metadata": {},
   "source": [
    "- **Identifying Missing Data**:\n",
    "  - Use `isna()` or `isnull()`.\n",
    "- **Handling Missing Data**:\n",
    "  - Use `fillna()` to fill missing values.\n",
    "  - Use `dropna()` to drop rows or columns with missing values.\n",
    "- **Example**: Handling missing data."
   ]
  },
  {
   "cell_type": "code",
   "execution_count": 58,
   "metadata": {},
   "outputs": [
    {
     "name": "stdout",
     "output_type": "stream",
     "text": [
      "      Name   Age      City\n",
      "0    Alice  25.0  New York\n",
      "1      Bob   NaN      None\n",
      "2  Charlie  35.0   Chicago\n",
      "    Name    Age   City\n",
      "0  False  False  False\n",
      "1  False   True   True\n",
      "2  False  False  False\n",
      "      Name   Age      City\n",
      "0    Alice  25.0  New York\n",
      "1      Bob  30.0   Unknown\n",
      "2  Charlie  35.0   Chicago\n",
      "      Name   Age      City\n",
      "0    Alice  25.0  New York\n",
      "2  Charlie  35.0   Chicago\n"
     ]
    }
   ],
   "source": [
    "# Creating a DataFrame with missing values\n",
    "df = pd.DataFrame({\n",
    "    'Name': ['Alice', 'Bob', 'Charlie'],\n",
    "    'Age': [25, None, 35],\n",
    "    'City': ['New York', None, 'Chicago']\n",
    "})\n",
    "print(df)\n",
    "\n",
    "# Identifying missing data\n",
    "print(df.isna())\n",
    "\n",
    "# Filling missing data\n",
    "df_filled = df.fillna({'Age': 30, 'City': 'Unknown'})\n",
    "print(df_filled)\n",
    "\n",
    "# Dropping missing data\n",
    "df_dropped = df.dropna()\n",
    "print(df_dropped)"
   ]
  },
  {
   "cell_type": "markdown",
   "metadata": {},
   "source": [
    "### 4.6. Grouping and Aggregating Data"
   ]
  },
  {
   "cell_type": "markdown",
   "metadata": {},
   "source": [
    "- **Grouping Data**:\n",
    "  - Use `groupby()`: `df.groupby('column_name')`.\n",
    "- **Aggregating Data**:\n",
    "  - Use aggregation functions: `mean()`, `sum()`, `count()`, etc.\n",
    "- **Example**: Grouping and aggregating data."
   ]
  },
  {
   "cell_type": "code",
   "execution_count": 59,
   "metadata": {},
   "outputs": [
    {
     "name": "stdout",
     "output_type": "stream",
     "text": [
      "  Department Employee  Salary\n",
      "0         HR    Alice   70000\n",
      "1         IT      Bob   80000\n",
      "2         HR  Charlie   90000\n",
      "3         IT    David   85000\n",
      "4    Finance      Eve   95000\n",
      "Department\n",
      "Finance    95000.0\n",
      "HR         80000.0\n",
      "IT         82500.0\n",
      "Name: Salary, dtype: float64\n",
      "Department\n",
      "Finance    1\n",
      "HR         2\n",
      "IT         2\n",
      "Name: Employee, dtype: int64\n"
     ]
    }
   ],
   "source": [
    "# Creating a DataFrame\n",
    "df = pd.DataFrame({\n",
    "    'Department': ['HR', 'IT', 'HR', 'IT', 'Finance'],\n",
    "    'Employee': ['Alice', 'Bob', 'Charlie', 'David', 'Eve'],\n",
    "    'Salary': [70000, 80000, 90000, 85000, 95000]\n",
    "})\n",
    "print(df)\n",
    "\n",
    "# Grouping by department\n",
    "grouped = df.groupby('Department')\n",
    "\n",
    "# Calculating average salary by department\n",
    "avg_salary = grouped['Salary'].mean()\n",
    "print(avg_salary)\n",
    "\n",
    "# Counting employees by department\n",
    "employee_count = grouped['Employee'].count()\n",
    "print(employee_count)"
   ]
  },
  {
   "cell_type": "markdown",
   "metadata": {},
   "source": [
    "### 4.7. Practical Example: Analyzing Data with Pandas"
   ]
  },
  {
   "cell_type": "markdown",
   "metadata": {},
   "source": [
    "- **Scenario**: Analyze a dataset of stock prices.\n",
    "- **Example**: Calculating daily returns and moving averages."
   ]
  },
  {
   "cell_type": "code",
   "execution_count": 60,
   "metadata": {},
   "outputs": [
    {
     "name": "stdout",
     "output_type": "stream",
     "text": [
      "        Date  Price  Daily_Return\n",
      "0 2023-01-01    100           NaN\n",
      "1 2023-01-02    102      2.000000\n",
      "2 2023-01-03    101     -0.980392\n",
      "3 2023-01-04    105      3.960396\n",
      "4 2023-01-05    107      1.904762\n",
      "5 2023-01-06    110      2.803738\n",
      "6 2023-01-07    108     -1.818182\n",
      "7 2023-01-08    109      0.925926\n",
      "8 2023-01-09    111      1.834862\n",
      "9 2023-01-10    112      0.900901\n",
      "        Date  Price  Daily_Return  Moving_Average\n",
      "0 2023-01-01    100           NaN             NaN\n",
      "1 2023-01-02    102      2.000000             NaN\n",
      "2 2023-01-03    101     -0.980392      101.000000\n",
      "3 2023-01-04    105      3.960396      102.666667\n",
      "4 2023-01-05    107      1.904762      104.333333\n",
      "5 2023-01-06    110      2.803738      107.333333\n",
      "6 2023-01-07    108     -1.818182      108.333333\n",
      "7 2023-01-08    109      0.925926      109.000000\n",
      "8 2023-01-09    111      1.834862      109.333333\n",
      "9 2023-01-10    112      0.900901      110.666667\n"
     ]
    }
   ],
   "source": [
    "import pandas as pd\n",
    "\n",
    "# Sample financial data (stock prices)\n",
    "data = {\n",
    "    'Date': pd.date_range(start='2023-01-01', periods=10),\n",
    "    'Price': [100, 102, 101, 105, 107, 110, 108, 109, 111, 112]\n",
    "}\n",
    "df = pd.DataFrame(data)\n",
    "\n",
    "# Calculating daily returns\n",
    "df['Daily_Return'] = df['Price'].pct_change() * 100\n",
    "print(df)\n",
    "\n",
    "# Calculating moving average\n",
    "df['Moving_Average'] = df['Price'].rolling(window=3).mean()\n",
    "print(df)"
   ]
  }
 ],
 "metadata": {
  "kernelspec": {
   "display_name": "venv",
   "language": "python",
   "name": "python3"
  },
  "language_info": {
   "codemirror_mode": {
    "name": "ipython",
    "version": 3
   },
   "file_extension": ".py",
   "mimetype": "text/x-python",
   "name": "python",
   "nbconvert_exporter": "python",
   "pygments_lexer": "ipython3",
   "version": "3.11.3"
  }
 },
 "nbformat": 4,
 "nbformat_minor": 2
}
