{
 "cells": [
  {
   "cell_type": "markdown",
   "metadata": {},
   "source": [
    "## **1. Introduction to Loops**"
   ]
  },
  {
   "cell_type": "markdown",
   "metadata": {},
   "source": [
    "#### **What Are Loops?**  \n",
    "Loops are a fundamental concept in programming that allow you to **repeat a block of code multiple times**. They are used to automate repetitive tasks, making your code more efficient and easier to maintain.  \n",
    "\n",
    "For example, imagine you need to print the numbers from 1 to 100. Without loops, you would have to write 100 `print()` statements. With loops, you can achieve this in just a few lines of code.  "
   ]
  },
  {
   "cell_type": "markdown",
   "metadata": {},
   "source": [
    "#### **Types of Loops**  \n",
    "There are two main types of loops in Python:  \n",
    "1. **`for` loops**: Used to iterate over a sequence (e.g., lists, strings, ranges).  \n",
    "2. **`while` loops**: Repeatedly execute a block of code as long as a condition is true.  "
   ]
  },
  {
   "cell_type": "markdown",
   "metadata": {},
   "source": [
    "#### **`for` Loops**  \n",
    "A `for` loop is used when you know how many times you want to repeat a task. It iterates over a sequence (like a list or a range of numbers) and executes the code block for each item in the sequence.  \n",
    "\n",
    "**Syntax:**  \n",
    "```python\n",
    "for item in sequence:\n",
    "    # Code to execute\n",
    "```\n",
    "\n",
    "**Example 1: Iterating Over a List**  "
   ]
  },
  {
   "cell_type": "code",
   "execution_count": 8,
   "metadata": {},
   "outputs": [
    {
     "name": "stdout",
     "output_type": "stream",
     "text": [
      "apple\n",
      "banana\n",
      "cherry\n"
     ]
    }
   ],
   "source": [
    "fruits = [\"apple\", \"banana\", \"cherry\"]\n",
    "for fruit in fruits:\n",
    "    print(fruit)"
   ]
  },
  {
   "cell_type": "markdown",
   "metadata": {},
   "source": [
    "**Example 2: Using `range()`**  \n",
    "The `range()` function generates a sequence of numbers, which is often used with `for` loops."
   ]
  },
  {
   "cell_type": "code",
   "execution_count": 9,
   "metadata": {},
   "outputs": [
    {
     "name": "stdout",
     "output_type": "stream",
     "text": [
      "0\n",
      "1\n",
      "2\n",
      "3\n",
      "4\n"
     ]
    }
   ],
   "source": [
    "for i in range(5):  # Generates numbers 0 to 4\n",
    "    print(i)"
   ]
  },
  {
   "cell_type": "markdown",
   "metadata": {},
   "source": [
    "#### **`while` Loops**  \n",
    "A `while` loop is used when you want to repeat a task **as long as a condition is true**. It continues executing the code block until the condition becomes false.  \n",
    "\n",
    "**Syntax:**  \n",
    "```python\n",
    "while condition:\n",
    "    # Code to execute\n",
    "```\n",
    "\n",
    "**Example 1: Simple Counter**"
   ]
  },
  {
   "cell_type": "code",
   "execution_count": 10,
   "metadata": {},
   "outputs": [
    {
     "name": "stdout",
     "output_type": "stream",
     "text": [
      "0\n",
      "1\n",
      "2\n",
      "3\n",
      "4\n"
     ]
    }
   ],
   "source": [
    "count = 0\n",
    "while count < 5:\n",
    "    print(count)\n",
    "    count += 1  # Increment count by 1"
   ]
  },
  {
   "cell_type": "markdown",
   "metadata": {},
   "source": [
    "**Example 2: User Input Validation**  \n",
    "You can use a `while` loop to repeatedly ask the user for input until they provide a valid response."
   ]
  },
  {
   "cell_type": "code",
   "execution_count": 11,
   "metadata": {},
   "outputs": [
    {
     "name": "stdout",
     "output_type": "stream",
     "text": [
      "Invalid input. Try again.\n"
     ]
    }
   ],
   "source": [
    "while True:\n",
    "    user_input = input(\"Enter 'yes' to continue: \")\n",
    "    if user_input.lower() == \"yes\":\n",
    "        break  # Exit the loop\n",
    "    else:\n",
    "        print(\"Invalid input. Try again.\")"
   ]
  },
  {
   "cell_type": "markdown",
   "metadata": {},
   "source": [
    "#### **Key Differences Between `for` and `while` Loops**  \n",
    "- Use a `for` loop when you know the number of iterations in advance.  \n",
    "- Use a `while` loop when the number of iterations depends on a condition."
   ]
  },
  {
   "cell_type": "markdown",
   "metadata": {},
   "source": [
    "#### **Why Are Loops Important?**  \n",
    "- **Efficiency**: Avoid writing repetitive code.  \n",
    "- **Flexibility**: Handle dynamic data (e.g., user input, changing conditions).  \n",
    "- **Scalability**: Process large datasets or perform complex calculations."
   ]
  },
  {
   "cell_type": "markdown",
   "metadata": {},
   "source": [
    "## **2. For Loops**"
   ]
  },
  {
   "cell_type": "markdown",
   "metadata": {},
   "source": [
    "### **1. Iterating Over Lists**  \n",
    "Lists are one of the most common sequences you’ll iterate over using a `for` loop. Each item in the list is processed one by one.  \n",
    "\n",
    "**Example 1: Iterating Over a List of Numbers**"
   ]
  },
  {
   "cell_type": "code",
   "execution_count": 12,
   "metadata": {},
   "outputs": [
    {
     "name": "stdout",
     "output_type": "stream",
     "text": [
      "10\n",
      "20\n",
      "30\n",
      "40\n",
      "50\n"
     ]
    }
   ],
   "source": [
    "numbers = [10, 20, 30, 40, 50]\n",
    "for num in numbers:\n",
    "    print(num)"
   ]
  },
  {
   "cell_type": "markdown",
   "metadata": {},
   "source": [
    "**Example 2: Modifying List Items**  \n",
    "You can also modify list items during iteration."
   ]
  },
  {
   "cell_type": "code",
   "execution_count": 13,
   "metadata": {},
   "outputs": [
    {
     "name": "stdout",
     "output_type": "stream",
     "text": [
      "[2, 4, 6, 8, 10]\n"
     ]
    }
   ],
   "source": [
    "numbers = [1, 2, 3, 4, 5]\n",
    "for i in range(len(numbers)):\n",
    "    numbers[i] = numbers[i] * 2  # Double each number\n",
    "print(numbers)"
   ]
  },
  {
   "cell_type": "markdown",
   "metadata": {},
   "source": [
    "### **2. Iterating Over Strings**  \n",
    "Strings are sequences of characters, so you can use a `for` loop to iterate over each character.  \n",
    "\n",
    "**Example:**"
   ]
  },
  {
   "cell_type": "code",
   "execution_count": 14,
   "metadata": {},
   "outputs": [
    {
     "name": "stdout",
     "output_type": "stream",
     "text": [
      "P\n",
      "y\n",
      "t\n",
      "h\n",
      "o\n",
      "n\n"
     ]
    }
   ],
   "source": [
    "word = \"Python\"\n",
    "for letter in word:\n",
    "    print(letter)"
   ]
  },
  {
   "cell_type": "markdown",
   "metadata": {},
   "source": [
    "### **3. Using `range()` for Numerical Iteration**  \n",
    "The `range()` function is often used with `for` loops to generate a sequence of numbers. It can take up to three arguments:  \n",
    "- `start`: The starting number (inclusive).  \n",
    "- `stop`: The ending number (exclusive).  \n",
    "- `step`: The increment between numbers (default is 1).  \n",
    "\n",
    "**Example 1: Basic `range()` Usage**"
   ]
  },
  {
   "cell_type": "code",
   "execution_count": 15,
   "metadata": {},
   "outputs": [
    {
     "name": "stdout",
     "output_type": "stream",
     "text": [
      "0\n",
      "1\n",
      "2\n",
      "3\n",
      "4\n"
     ]
    }
   ],
   "source": [
    "for i in range(5):  # Generates numbers 0 to 4\n",
    "    print(i)"
   ]
  },
  {
   "cell_type": "markdown",
   "metadata": {},
   "source": [
    "**Example 2: Specifying Start and Stop**"
   ]
  },
  {
   "cell_type": "code",
   "execution_count": 16,
   "metadata": {},
   "outputs": [
    {
     "name": "stdout",
     "output_type": "stream",
     "text": [
      "2\n",
      "3\n",
      "4\n",
      "5\n"
     ]
    }
   ],
   "source": [
    "for i in range(2, 6):  # Generates numbers 2 to 5\n",
    "    print(i)"
   ]
  },
  {
   "cell_type": "markdown",
   "metadata": {},
   "source": [
    "**Example 3: Using a Step Value**"
   ]
  },
  {
   "cell_type": "code",
   "execution_count": 17,
   "metadata": {},
   "outputs": [
    {
     "name": "stdout",
     "output_type": "stream",
     "text": [
      "1\n",
      "3\n",
      "5\n",
      "7\n",
      "9\n"
     ]
    }
   ],
   "source": [
    "for i in range(1, 10, 2):  # Generates odd numbers from 1 to 9\n",
    "    print(i)"
   ]
  },
  {
   "cell_type": "markdown",
   "metadata": {},
   "source": [
    "### **4. Iterating Over Dictionaries**  \n",
    "Dictionaries store key-value pairs. You can iterate over keys, values, or both using a `for` loop.  \n",
    "\n",
    "**Example 1: Iterating Over Keys**"
   ]
  },
  {
   "cell_type": "code",
   "execution_count": 18,
   "metadata": {},
   "outputs": [
    {
     "name": "stdout",
     "output_type": "stream",
     "text": [
      "Alice\n",
      "Bob\n",
      "Charlie\n"
     ]
    }
   ],
   "source": [
    "student_grades = {\"Alice\": 85, \"Bob\": 90, \"Charlie\": 78}\n",
    "for name in student_grades:\n",
    "    print(name)"
   ]
  },
  {
   "cell_type": "markdown",
   "metadata": {},
   "source": [
    "**Example 2: Iterating Over Values**"
   ]
  },
  {
   "cell_type": "code",
   "execution_count": 19,
   "metadata": {},
   "outputs": [
    {
     "name": "stdout",
     "output_type": "stream",
     "text": [
      "85\n",
      "90\n",
      "78\n"
     ]
    }
   ],
   "source": [
    "for grade in student_grades.values():\n",
    "    print(grade)"
   ]
  },
  {
   "cell_type": "markdown",
   "metadata": {},
   "source": [
    "**Example 3: Iterating Over Key-Value Pairs**"
   ]
  },
  {
   "cell_type": "code",
   "execution_count": 20,
   "metadata": {},
   "outputs": [
    {
     "name": "stdout",
     "output_type": "stream",
     "text": [
      "Alice scored 85 marks.\n",
      "Bob scored 90 marks.\n",
      "Charlie scored 78 marks.\n"
     ]
    }
   ],
   "source": [
    "for name, grade in student_grades.items():\n",
    "    print(f\"{name} scored {grade} marks.\")"
   ]
  },
  {
   "cell_type": "markdown",
   "metadata": {},
   "source": [
    "### **5. Nested Loops**  \n",
    "A nested loop is a loop inside another loop. This is useful for working with multi-dimensional data, such as matrices or lists of lists.  \n",
    "\n",
    "**Example 1: Nested Loop to Print a Pattern** "
   ]
  },
  {
   "cell_type": "code",
   "execution_count": 21,
   "metadata": {},
   "outputs": [
    {
     "name": "stdout",
     "output_type": "stream",
     "text": [
      "i=0, j=0\n",
      "i=0, j=1\n",
      "i=1, j=0\n",
      "i=1, j=1\n",
      "i=2, j=0\n",
      "i=2, j=1\n"
     ]
    }
   ],
   "source": [
    "for i in range(3):  # Outer loop\n",
    "    for j in range(2):  # Inner loop\n",
    "        print(f\"i={i}, j={j}\")"
   ]
  },
  {
   "cell_type": "markdown",
   "metadata": {},
   "source": [
    "**Example 2: Iterating Over a 2D List**  \n"
   ]
  },
  {
   "cell_type": "code",
   "execution_count": 22,
   "metadata": {},
   "outputs": [
    {
     "name": "stdout",
     "output_type": "stream",
     "text": [
      "1 2 3 \n",
      "4 5 6 \n",
      "7 8 9 \n"
     ]
    }
   ],
   "source": [
    "matrix = [\n",
    "    [1, 2, 3],\n",
    "    [4, 5, 6],\n",
    "    [7, 8, 9]\n",
    "]\n",
    "for row in matrix:\n",
    "    for num in row:\n",
    "        print(num, end=\" \")  # Print numbers in the same row\n",
    "    print()  # Move to the next line after each row"
   ]
  },
  {
   "cell_type": "markdown",
   "metadata": {},
   "source": [
    "### **6. Practical Applications of `for` Loops**  \n",
    "`for` loops are widely used in real-world programming tasks. Here are some examples:  \n",
    "\n",
    "**Example 1: Summing Elements in a List**  \n"
   ]
  },
  {
   "cell_type": "code",
   "execution_count": 23,
   "metadata": {},
   "outputs": [
    {
     "name": "stdout",
     "output_type": "stream",
     "text": [
      "Sum: 15\n"
     ]
    }
   ],
   "source": [
    "numbers = [1, 2, 3, 4, 5]\n",
    "total = 0\n",
    "for num in numbers:\n",
    "    total += num\n",
    "print(\"Sum:\", total)"
   ]
  },
  {
   "cell_type": "markdown",
   "metadata": {},
   "source": [
    "**Example 2: Finding the Maximum Value in a List**  \n"
   ]
  },
  {
   "cell_type": "code",
   "execution_count": 24,
   "metadata": {},
   "outputs": [
    {
     "name": "stdout",
     "output_type": "stream",
     "text": [
      "Maximum value: 30\n"
     ]
    }
   ],
   "source": [
    "numbers = [10, 20, 5, 30, 15]\n",
    "max_value = numbers[0]  # Assume the first element is the maximum\n",
    "for num in numbers:\n",
    "    if num > max_value:\n",
    "        max_value = num\n",
    "print(\"Maximum value:\", max_value)"
   ]
  },
  {
   "cell_type": "markdown",
   "metadata": {},
   "source": [
    "## **3. While Loops**"
   ]
  },
  {
   "cell_type": "markdown",
   "metadata": {},
   "source": [
    "### **1. Introduction to `while` Loops**  \n",
    "A `while` loop continues executing its block of code **as long as the condition remains true**. Once the condition becomes false, the loop stops.  \n",
    "\n",
    "**Syntax:**  \n",
    "```python\n",
    "while condition:\n",
    "    # Code to execute\n",
    "```\n",
    "\n",
    "**Key Points:**  \n",
    "- The condition is evaluated before each iteration.  \n",
    "- If the condition is false initially, the loop body will never execute.  \n",
    "- Be careful to avoid **infinite loops** (where the condition never becomes false).\n",
    "\n",
    "### **2. Basic Examples of `while` Loops**  \n",
    "\n",
    "**Example 1: Simple Counter**"
   ]
  },
  {
   "cell_type": "code",
   "execution_count": 25,
   "metadata": {},
   "outputs": [
    {
     "name": "stdout",
     "output_type": "stream",
     "text": [
      "0\n",
      "1\n",
      "2\n",
      "3\n",
      "4\n"
     ]
    }
   ],
   "source": [
    "count = 0\n",
    "while count < 5:\n",
    "    print(count)\n",
    "    count += 1  # Increment count by 1"
   ]
  },
  {
   "cell_type": "markdown",
   "metadata": {},
   "source": [
    "**Explanation:**  \n",
    "- The loop starts with `count = 0`.  \n",
    "- It prints the value of `count` and increments it by 1 in each iteration.  \n",
    "- The loop stops when `count` is no longer less than 5.  \n",
    "\n",
    "**Example 2: User Input Validation**  \n",
    "You can use a `while` loop to repeatedly ask the user for input until they provide a valid response."
   ]
  },
  {
   "cell_type": "code",
   "execution_count": 26,
   "metadata": {},
   "outputs": [],
   "source": [
    "while True:\n",
    "    user_input = input(\"Enter 'yes' to continue: \")\n",
    "    if user_input.lower() == \"yes\":\n",
    "        break  # Exit the loop\n",
    "    else:\n",
    "        print(\"Invalid input. Try again.\")"
   ]
  },
  {
   "cell_type": "markdown",
   "metadata": {},
   "source": [
    "**Explanation:**  \n",
    "- The loop continues indefinitely (`while True`) until the user enters \"yes\".  \n",
    "- The `break` statement is used to exit the loop when the condition is met.  \n",
    "\n",
    "### **3. Avoiding Infinite Loops**  \n",
    "An infinite loop occurs when the condition of a `while` loop never becomes false. This can cause your program to hang or crash.  \n",
    "\n",
    "**Example of an Infinite Loop:**\n",
    "``` python\n",
    "# WARNING: This is an infinite loop!\n",
    "x = 1\n",
    "while x > 0:\n",
    "    print(x)\n",
    "    x += 1\n",
    "```\n",
    "\n",
    "**Why is this infinite?**  \n",
    "- The condition `x > 0` is always true because `x` keeps increasing.  \n",
    "\n",
    "**How to Fix It:**  \n",
    "Add a condition to stop the loop. For example:  \n"
   ]
  },
  {
   "cell_type": "code",
   "execution_count": 28,
   "metadata": {},
   "outputs": [
    {
     "name": "stdout",
     "output_type": "stream",
     "text": [
      "1\n",
      "2\n",
      "3\n",
      "4\n",
      "5\n"
     ]
    }
   ],
   "source": [
    "x = 1\n",
    "while x > 0:\n",
    "    print(x)\n",
    "    x += 1\n",
    "    if x > 5:  # Stop the loop after x exceeds 5\n",
    "        break"
   ]
  },
  {
   "cell_type": "markdown",
   "metadata": {},
   "source": [
    "### **4. Using `else` with `while` Loops**  \n",
    "In Python, you can use an `else` block with a `while` loop. The `else` block executes when the loop condition becomes false.  \n",
    "\n",
    "**Example:**  "
   ]
  },
  {
   "cell_type": "code",
   "execution_count": 29,
   "metadata": {},
   "outputs": [
    {
     "name": "stdout",
     "output_type": "stream",
     "text": [
      "0\n",
      "1\n",
      "2\n",
      "Loop finished!\n"
     ]
    }
   ],
   "source": [
    "count = 0\n",
    "while count < 3:\n",
    "    print(count)\n",
    "    count += 1\n",
    "else:\n",
    "    print(\"Loop finished!\")"
   ]
  },
  {
   "cell_type": "markdown",
   "metadata": {},
   "source": [
    "**Explanation:**  \n",
    "- The `else` block runs after the loop completes normally (i.e., when the condition becomes false).  \n",
    "- If the loop is exited using `break`, the `else` block will not execute.  \n",
    "\n",
    "### **5. Practical Applications of `while` Loops**  \n",
    "\n",
    "**Example 1: Summing Numbers Until a Condition is Met**"
   ]
  },
  {
   "cell_type": "code",
   "execution_count": 30,
   "metadata": {},
   "outputs": [
    {
     "name": "stdout",
     "output_type": "stream",
     "text": [
      "Total: 150\n"
     ]
    }
   ],
   "source": [
    "total = 0\n",
    "while True:\n",
    "    num = int(input(\"Enter a number (0 to stop): \"))\n",
    "    if num == 0:\n",
    "        break\n",
    "    total += num\n",
    "print(\"Total:\", total)"
   ]
  },
  {
   "cell_type": "markdown",
   "metadata": {},
   "source": [
    "**Example 2: Guessing Game**"
   ]
  },
  {
   "cell_type": "code",
   "execution_count": 31,
   "metadata": {},
   "outputs": [
    {
     "name": "stdout",
     "output_type": "stream",
     "text": [
      "Too low!\n",
      "Too high!\n",
      "Congratulations! You guessed it!\n"
     ]
    }
   ],
   "source": [
    "secret_number = 7\n",
    "guess = None\n",
    "while guess != secret_number:\n",
    "    guess = int(input(\"Guess a number between 1 and 10: \"))\n",
    "    if guess < secret_number:\n",
    "        print(\"Too low!\")\n",
    "    elif guess > secret_number:\n",
    "        print(\"Too high!\")\n",
    "print(\"Congratulations! You guessed it!\")"
   ]
  },
  {
   "cell_type": "markdown",
   "metadata": {},
   "source": [
    "## **4. List Comprehensions**"
   ]
  },
  {
   "cell_type": "markdown",
   "metadata": {},
   "source": [
    "### **1. What Are List Comprehensions?**  \n",
    "A list comprehension is a compact way to create a new list by applying an expression to each item in an existing iterable (e.g., list, string, range).  \n",
    "\n",
    "**Syntax:**  \n",
    "```python\n",
    "[expression for item in iterable if condition]\n",
    "```  \n",
    "- **`expression`**: The value to include in the new list.  \n",
    "- **`item`**: The variable representing each element in the iterable.  \n",
    "- **`iterable`**: The sequence you’re iterating over (e.g., list, range).  \n",
    "- **`condition` (optional)**: A filter to include only items that meet a certain condition.  \n",
    "\n",
    "---\n",
    "\n",
    "### **2. Basic Examples of List Comprehensions**  \n",
    "\n",
    "**Example 1: Creating a List of Squares**  \n",
    "Using a `for` loop:"
   ]
  },
  {
   "cell_type": "code",
   "execution_count": 32,
   "metadata": {},
   "outputs": [
    {
     "name": "stdout",
     "output_type": "stream",
     "text": [
      "[0, 1, 4, 9, 16, 25, 36, 49, 64, 81]\n",
      "[0, 1, 4, 9, 16, 25, 36, 49, 64, 81]\n"
     ]
    }
   ],
   "source": [
    "squares = []\n",
    "for x in range(10):\n",
    "    squares.append(x**2)\n",
    "print(squares)\n",
    "\n",
    "# Using a list comprehension:  \n",
    "squares = [x**2 for x in range(10)]\n",
    "print(squares)"
   ]
  },
  {
   "cell_type": "markdown",
   "metadata": {},
   "source": [
    "**Example 2: Filtering Even Numbers**  \n",
    "Using a `for` loop:"
   ]
  },
  {
   "cell_type": "code",
   "execution_count": 33,
   "metadata": {},
   "outputs": [
    {
     "name": "stdout",
     "output_type": "stream",
     "text": [
      "[0, 2, 4, 6, 8, 10, 12, 14, 16, 18]\n",
      "[0, 2, 4, 6, 8, 10, 12, 14, 16, 18]\n"
     ]
    }
   ],
   "source": [
    "evens = []\n",
    "for x in range(20):\n",
    "    if x % 2 == 0:\n",
    "        evens.append(x)\n",
    "print(evens) \n",
    "\n",
    "# Using a list comprehension:\n",
    "evens = [x for x in range(20) if x % 2 == 0]\n",
    "print(evens)"
   ]
  },
  {
   "cell_type": "markdown",
   "metadata": {},
   "source": [
    "### **3. Advanced List Comprehensions**  \n",
    "\n",
    "**Example 1: Nested List Comprehensions**  \n",
    "You can use nested list comprehensions to create multi-dimensional lists, such as matrices."
   ]
  },
  {
   "cell_type": "code",
   "execution_count": 34,
   "metadata": {},
   "outputs": [
    {
     "name": "stdout",
     "output_type": "stream",
     "text": [
      "[[0, 1, 2], [1, 2, 3], [2, 3, 4]]\n"
     ]
    }
   ],
   "source": [
    "matrix = [[i + j for j in range(3)] for i in range(3)]\n",
    "print(matrix)"
   ]
  },
  {
   "cell_type": "markdown",
   "metadata": {},
   "source": [
    "**Explanation:**  \n",
    "- The outer comprehension iterates over `i` (rows).  \n",
    "- The inner comprehension iterates over `j` (columns).  \n",
    "- Each element is calculated as `i + j`.  \n",
    "\n",
    "**Example 2: Flattening a Matrix**  \n",
    "You can use a list comprehension to flatten a 2D list into a 1D list."
   ]
  },
  {
   "cell_type": "code",
   "execution_count": 35,
   "metadata": {},
   "outputs": [
    {
     "name": "stdout",
     "output_type": "stream",
     "text": [
      "[1, 2, 3, 4, 5, 6, 7, 8, 9]\n"
     ]
    }
   ],
   "source": [
    "matrix = [[1, 2, 3], [4, 5, 6], [7, 8, 9]]\n",
    "flattened = [num for row in matrix for num in row]\n",
    "print(flattened)"
   ]
  },
  {
   "cell_type": "markdown",
   "metadata": {},
   "source": [
    "**Example 3: Applying Conditions**  \n",
    "You can include complex conditions in list comprehensions."
   ]
  },
  {
   "cell_type": "code",
   "execution_count": 36,
   "metadata": {},
   "outputs": [
    {
     "name": "stdout",
     "output_type": "stream",
     "text": [
      "[6, 8]\n"
     ]
    }
   ],
   "source": [
    "numbers = [1, 2, 3, 4, 5, 6, 7, 8, 9]\n",
    "filtered = [x for x in numbers if x % 2 == 0 and x > 4]\n",
    "print(filtered)"
   ]
  },
  {
   "cell_type": "markdown",
   "metadata": {},
   "source": [
    "### **4. Practical Applications of List Comprehensions**  \n",
    "\n",
    "**Example 1: Extracting Uppercase Letters**"
   ]
  },
  {
   "cell_type": "code",
   "execution_count": 37,
   "metadata": {},
   "outputs": [
    {
     "name": "stdout",
     "output_type": "stream",
     "text": [
      "['H', 'W']\n"
     ]
    }
   ],
   "source": [
    "text = \"Hello, World!\"\n",
    "uppercase = [char for char in text if char.isupper()]\n",
    "print(uppercase)"
   ]
  },
  {
   "cell_type": "markdown",
   "metadata": {},
   "source": [
    "**Example 2: Creating a List of Tuples**"
   ]
  },
  {
   "cell_type": "code",
   "execution_count": 38,
   "metadata": {},
   "outputs": [
    {
     "name": "stdout",
     "output_type": "stream",
     "text": [
      "[('Alice', 5), ('Bob', 3), ('Charlie', 7)]\n"
     ]
    }
   ],
   "source": [
    "names = [\"Alice\", \"Bob\", \"Charlie\"]\n",
    "lengths = [(name, len(name)) for name in names]\n",
    "print(lengths)"
   ]
  },
  {
   "cell_type": "markdown",
   "metadata": {},
   "source": [
    "**Example 3: Removing Duplicates from a List**"
   ]
  },
  {
   "cell_type": "code",
   "execution_count": 39,
   "metadata": {},
   "outputs": [
    {
     "name": "stdout",
     "output_type": "stream",
     "text": [
      "[1, 2, 3, 4, 5]\n"
     ]
    }
   ],
   "source": [
    "numbers = [1, 2, 2, 3, 4, 4, 5]\n",
    "unique = list({x for x in numbers})  # Using a set comprehension\n",
    "print(unique)"
   ]
  },
  {
   "cell_type": "markdown",
   "metadata": {},
   "source": [
    "### **5. When to Use List Comprehensions**  \n",
    "- **Use list comprehensions** when:  \n",
    "  - The logic is simple and fits on one line.  \n",
    "  - You want to create a new list from an existing iterable.  \n",
    "- **Avoid list comprehensions** when:  \n",
    "  - The logic is complex and hard to read.  \n",
    "  - You need to perform side effects (e.g., printing, modifying external variables).  "
   ]
  },
  {
   "cell_type": "markdown",
   "metadata": {},
   "source": []
  }
 ],
 "metadata": {
  "kernelspec": {
   "display_name": "venv",
   "language": "python",
   "name": "python3"
  },
  "language_info": {
   "codemirror_mode": {
    "name": "ipython",
    "version": 3
   },
   "file_extension": ".py",
   "mimetype": "text/x-python",
   "name": "python",
   "nbconvert_exporter": "python",
   "pygments_lexer": "ipython3",
   "version": "3.11.3"
  }
 },
 "nbformat": 4,
 "nbformat_minor": 2
}
