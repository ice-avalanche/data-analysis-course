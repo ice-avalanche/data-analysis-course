{
 "cells": [
  {
   "cell_type": "markdown",
   "metadata": {},
   "source": [
    "## **1. Introduction to Python**"
   ]
  },
  {
   "cell_type": "markdown",
   "metadata": {},
   "source": [
    "\n",
    "### **1.1 What is Python?**\n",
    "- **Definition**: Python is a high-level, interpreted programming language known for its simplicity and readability.\n",
    "- **History**: Created by Guido van Rossum and first released in 1991.\n",
    "- **Key Features**:\n",
    "  - **Easy to Learn**: Python’s syntax is straightforward, making it ideal for beginners.\n",
    "  - **Versatile**: Used in web development, data analysis, artificial intelligence, scientific computing, and more.\n",
    "  - **Large Community**: Extensive libraries and frameworks are available."
   ]
  },
  {
   "cell_type": "markdown",
   "metadata": {},
   "source": [
    "### **1.2 Why is Python Popular?**\n",
    "- **Readability**: Python code is clean and easy to understand."
   ]
  },
  {
   "cell_type": "code",
   "execution_count": 1,
   "metadata": {},
   "outputs": [
    {
     "name": "stdout",
     "output_type": "stream",
     "text": [
      "Hello, World!\n"
     ]
    }
   ],
   "source": [
    "print(\"Hello, World!\")  # Python"
   ]
  },
  {
   "cell_type": "markdown",
   "metadata": {},
   "source": [
    "- **Cross-Platform**: Runs on Windows, macOS, Linux, and more.\n",
    "- **Extensive Libraries**: Libraries like **NumPy**, **Pandas**, **Matplotlib**, **Django**, and **Flask** are widely used."
   ]
  },
  {
   "cell_type": "markdown",
   "metadata": {},
   "source": [
    "### **1.3 Applications of Python**\n",
    "- **Web Development**: Frameworks like Django and Flask.\n",
    "- **Data Science and Machine Learning**: Libraries like TensorFlow, Scikit-learn, and PyTorch.\n",
    "- **Automation and Scripting**: Great for automating repetitive tasks.\n",
    "- **Scientific Computing**: Used in physics, biology, and astronomy.\n",
    "- **Game Development**: Libraries like Pygame."
   ]
  },
  {
   "cell_type": "markdown",
   "metadata": {},
   "source": [
    "### **1.4 Python in the Real World**\n",
    "- **Companies Using Python**: Google, Facebook, Netflix, Instagram, Spotify, and NASA.\n",
    "- **Real-World Projects**: YouTube, Instagram, and NASA use Python extensively."
   ]
  },
  {
   "cell_type": "markdown",
   "metadata": {},
   "source": [
    "### **1.5 Why Learn Python?**\n",
    "- **Beginner-Friendly**: Excellent first programming language.\n",
    "- **High Demand**: Python developers are in high demand.\n",
    "- **Versatility**: Suitable for almost any type of project."
   ]
  },
  {
   "cell_type": "markdown",
   "metadata": {},
   "source": [
    "## **2. Setting Up the Development Environment**"
   ]
  },
  {
   "cell_type": "markdown",
   "metadata": {},
   "source": [
    "### **2.1 Installing Python**\n",
    "- **Step 1**: Download Python from [python.org](https://www.python.org/).\n",
    "- **Step 2**: Install Python, ensuring to check **\"Add Python to PATH\"** on Windows.\n",
    "- **Step 3**: Verify installation by running:\n",
    "  ```bash\n",
    "  python --version\n",
    "  ```"
   ]
  },
  {
   "cell_type": "markdown",
   "metadata": {},
   "source": [
    "### **2.2 Choosing an IDE or Code Editor**\n",
    "- **Visual Studio Code (VS Code)**:\n",
    "  - Download from [code.visualstudio.com](https://code.visualstudio.com/).\n",
    "  - Install the **Python extension** from the Extensions Marketplace.\n",
    "- **Jupyter Notebook**:\n",
    "  - Install using:\n",
    "    ```bash\n",
    "    pip install notebook\n",
    "    ```\n",
    "  - Launch with:\n",
    "    ```bash\n",
    "    jupyter notebook\n",
    "    ```"
   ]
  },
  {
   "cell_type": "markdown",
   "metadata": {},
   "source": [
    "### **2.3 Running Python Code**\n",
    "- **Running Code in the Python Shell**:\n",
    "  ```python\n",
    "  >>> print(\"Hello, World!\")\n",
    "  ```\n",
    "- **Running a Python Script**:\n",
    "  ```bash\n",
    "  python hello.py\n",
    "  ```\n",
    "- **Running Code in an IDE**: Use the **Run** button or keyboard shortcuts."
   ]
  },
  {
   "cell_type": "markdown",
   "metadata": {},
   "source": [
    "## **3. Python Basics**"
   ]
  },
  {
   "cell_type": "markdown",
   "metadata": {},
   "source": [
    "### **3.1 Writing Your First Python Program**\n",
    "- **\"Hello, World!\" Program**:"
   ]
  },
  {
   "cell_type": "code",
   "execution_count": 2,
   "metadata": {},
   "outputs": [
    {
     "name": "stdout",
     "output_type": "stream",
     "text": [
      "Hello, World!\n"
     ]
    }
   ],
   "source": [
    "print(\"Hello, World!\")"
   ]
  },
  {
   "cell_type": "markdown",
   "metadata": {},
   "source": [
    "### **3.2 Python Syntax Rules**\n",
    "- **Indentation**: Use 4 spaces per indentation level."
   ]
  },
  {
   "cell_type": "code",
   "execution_count": 3,
   "metadata": {},
   "outputs": [
    {
     "name": "stdout",
     "output_type": "stream",
     "text": [
      "Five is greater than two!\n"
     ]
    }
   ],
   "source": [
    "if 5 > 2:\n",
    "    print(\"Five is greater than two!\")"
   ]
  },
  {
   "cell_type": "markdown",
   "metadata": {},
   "source": [
    "- **Comments**: Single-line comments start with `#`, multi-line comments use `\"\"\"`."
   ]
  },
  {
   "cell_type": "code",
   "execution_count": 4,
   "metadata": {},
   "outputs": [
    {
     "name": "stdout",
     "output_type": "stream",
     "text": [
      "Hello, World!\n"
     ]
    },
    {
     "data": {
      "text/plain": [
       "'\\nThis is a multi-line comment.\\nIt can span multiple lines.\\n'"
      ]
     },
     "execution_count": 4,
     "metadata": {},
     "output_type": "execute_result"
    }
   ],
   "source": [
    "# This is a single-line comment\n",
    "print(\"Hello, World!\")  # This is also a comment\n",
    "\n",
    "\"\"\"\n",
    "This is a multi-line comment.\n",
    "It can span multiple lines.\n",
    "\"\"\""
   ]
  },
  {
   "cell_type": "markdown",
   "metadata": {},
   "source": [
    "### **3.3 Variables and Data Types**\n",
    "- **Variables**: Store data for reuse."
   ]
  },
  {
   "cell_type": "code",
   "execution_count": 5,
   "metadata": {},
   "outputs": [],
   "source": [
    "name = \"Alice\"\n",
    "age = 25\n",
    "height = 5.9"
   ]
  },
  {
   "cell_type": "markdown",
   "metadata": {},
   "source": [
    "- **Data Types**:\n",
    "  - **Integers (`int`)**: `10`, `-5`.\n",
    "  - **Floats (`float`)**: `3.14`, `-0.5`.\n",
    "  - **Strings (`str`)**: `\"Hello\"`, `'Python'`.\n",
    "  - **Booleans (`bool`)**: `True`, `False`."
   ]
  },
  {
   "cell_type": "markdown",
   "metadata": {},
   "source": [
    "### **3.4 Basic Input and Output**\n",
    "- **Taking User Input**:"
   ]
  },
  {
   "cell_type": "code",
   "execution_count": 6,
   "metadata": {},
   "outputs": [
    {
     "name": "stdout",
     "output_type": "stream",
     "text": [
      "Hello, Anna!\n"
     ]
    }
   ],
   "source": [
    "name = input(\"Enter your name: \")\n",
    "print(f\"Hello, {name}!\")"
   ]
  },
  {
   "cell_type": "markdown",
   "metadata": {},
   "source": [
    "- **Formatting Output**:"
   ]
  },
  {
   "cell_type": "code",
   "execution_count": 7,
   "metadata": {},
   "outputs": [
    {
     "name": "stdout",
     "output_type": "stream",
     "text": [
      "You are 25 years old.\n"
     ]
    }
   ],
   "source": [
    "age = 25\n",
    "print(f\"You are {age} years old.\")"
   ]
  },
  {
   "cell_type": "markdown",
   "metadata": {},
   "source": [
    "## **4. Arithmetic Operations**"
   ]
  },
  {
   "cell_type": "markdown",
   "metadata": {},
   "source": [
    "### **4.1 Basic Arithmetic Operators**\n",
    "Python supports the following arithmetic operators:\n",
    "\n",
    "| Operator | Description          | Example       | Result |\n",
    "|----------|----------------------|---------------|--------|\n",
    "| `+`      | Addition             | `10 + 5`      | `15`   |\n",
    "| `-`      | Subtraction          | `10 - 5`      | `5`    |\n",
    "| `*`      | Multiplication       | `10 * 5`      | `50`   |\n",
    "| `/`      | Division             | `10 / 5`      | `2.0`  |\n",
    "| `%`      | Modulus (remainder)  | `10 % 3`      | `1`    |\n",
    "| `**`     | Exponentiation       | `2 ** 3`      | `8`    |\n",
    "| `//`     | Floor division       | `10 // 3`     | `3`    |\n",
    "\n",
    "- **Example**:"
   ]
  },
  {
   "cell_type": "code",
   "execution_count": 8,
   "metadata": {},
   "outputs": [
    {
     "name": "stdout",
     "output_type": "stream",
     "text": [
      "13\n",
      "7\n",
      "30\n",
      "3.3333333333333335\n",
      "1\n",
      "1000\n",
      "3\n"
     ]
    }
   ],
   "source": [
    "a = 10\n",
    "b = 3\n",
    "print(a + b)  # Output: 13\n",
    "print(a - b)  # Output: 7\n",
    "print(a * b)  # Output: 30\n",
    "print(a / b)  # Output: 3.333...\n",
    "print(a % b)  # Output: 1\n",
    "print(a ** b) # Output: 1000\n",
    "print(a // b) # Output: 3"
   ]
  },
  {
   "cell_type": "markdown",
   "metadata": {},
   "source": [
    "### **4.2 Working with Variables**\n",
    "- **Example: Calculating the Area of a Circle**:"
   ]
  },
  {
   "cell_type": "code",
   "execution_count": 9,
   "metadata": {},
   "outputs": [
    {
     "name": "stdout",
     "output_type": "stream",
     "text": [
      "The area of the circle is 78.53975.\n"
     ]
    }
   ],
   "source": [
    "radius = 5\n",
    "pi = 3.14159\n",
    "area = pi * (radius ** 2)\n",
    "print(f\"The area of the circle is {area}.\")"
   ]
  },
  {
   "cell_type": "markdown",
   "metadata": {},
   "source": [
    "### **4.3 Handling Division and Modulus**\n",
    "- **Division (`/`)**: Always returns a `float`."
   ]
  },
  {
   "cell_type": "code",
   "execution_count": 10,
   "metadata": {},
   "outputs": [
    {
     "name": "stdout",
     "output_type": "stream",
     "text": [
      "5.0\n"
     ]
    }
   ],
   "source": [
    "print(10 / 2)  # Output: 5.0"
   ]
  },
  {
   "cell_type": "markdown",
   "metadata": {},
   "source": [
    "- **Floor Division (`//`)**: Returns the largest integer less than or equal to the result."
   ]
  },
  {
   "cell_type": "code",
   "execution_count": 11,
   "metadata": {},
   "outputs": [
    {
     "name": "stdout",
     "output_type": "stream",
     "text": [
      "3\n"
     ]
    }
   ],
   "source": [
    "print(10 // 3)  # Output: 3"
   ]
  },
  {
   "cell_type": "markdown",
   "metadata": {},
   "source": [
    "- **Modulus (`%`)**: Returns the remainder of a division."
   ]
  },
  {
   "cell_type": "code",
   "execution_count": 12,
   "metadata": {},
   "outputs": [
    {
     "name": "stdout",
     "output_type": "stream",
     "text": [
      "1\n"
     ]
    }
   ],
   "source": [
    "print(10 % 3)  # Output: 1"
   ]
  },
  {
   "cell_type": "markdown",
   "metadata": {},
   "source": [
    "### **4.4 Exponentiation (`**`)**\n",
    "- **Example**:"
   ]
  },
  {
   "cell_type": "code",
   "execution_count": 13,
   "metadata": {},
   "outputs": [
    {
     "name": "stdout",
     "output_type": "stream",
     "text": [
      "8\n"
     ]
    }
   ],
   "source": [
    "print(2 ** 3)  # Output: 8"
   ]
  },
  {
   "cell_type": "markdown",
   "metadata": {},
   "source": [
    "## **5. Variables and Data Types**"
   ]
  },
  {
   "cell_type": "markdown",
   "metadata": {},
   "source": [
    "### **5.1 What Are Variables?**\n",
    "- **Definition**: A variable is a named location in memory used to store data.\n",
    "- **Naming Rules**: Must start with a letter or underscore, can contain letters, numbers, and underscores."
   ]
  },
  {
   "cell_type": "markdown",
   "metadata": {},
   "source": [
    "### **5.2 Data Types in Python**\n",
    "Python has several built-in data types. The most common ones are:\n",
    "\n",
    "| Data Type | Description                  | Example           |\n",
    "|-----------|------------------------------|-------------------|\n",
    "| `int`     | Integer (whole numbers)      | `10`, `-5`        |\n",
    "| `float`   | Floating-point (decimal)     | `3.14`, `-0.5`    |\n",
    "| `str`     | String (text)                | `\"Hello\"`, `'Python'` |\n",
    "| `bool`    | Boolean (`True` or `False`)  | `True`, `False`   |\n",
    "\n",
    "- **Example**:"
   ]
  },
  {
   "cell_type": "code",
   "execution_count": 14,
   "metadata": {},
   "outputs": [],
   "source": [
    "x = 10          # int\n",
    "y = 3.14        # float\n",
    "name = \"Alice\"  # str\n",
    "is_valid = True # bool"
   ]
  },
  {
   "cell_type": "markdown",
   "metadata": {},
   "source": [
    "### **5.3 Type Checking and Conversion**\n",
    "- **Checking Data Types**:"
   ]
  },
  {
   "cell_type": "code",
   "execution_count": 15,
   "metadata": {},
   "outputs": [
    {
     "name": "stdout",
     "output_type": "stream",
     "text": [
      "<class 'int'>\n"
     ]
    }
   ],
   "source": [
    "x = 10\n",
    "print(type(x))  # Output: <class 'int'>"
   ]
  },
  {
   "cell_type": "markdown",
   "metadata": {},
   "source": [
    "- **Type Conversion**:"
   ]
  },
  {
   "cell_type": "code",
   "execution_count": 16,
   "metadata": {},
   "outputs": [
    {
     "name": "stdout",
     "output_type": "stream",
     "text": [
      "10.0 10\n"
     ]
    }
   ],
   "source": [
    "x = 10\n",
    "y = float(x)  # Convert int to float\n",
    "z = str(x)    # Convert int to string\n",
    "print(y, z)   # Output: 10.0 10"
   ]
  },
  {
   "cell_type": "markdown",
   "metadata": {},
   "source": [
    "### **5.4 Dynamic Typing**\n",
    "- **Example**:"
   ]
  },
  {
   "cell_type": "code",
   "execution_count": 17,
   "metadata": {},
   "outputs": [
    {
     "name": "stdout",
     "output_type": "stream",
     "text": [
      "Hello\n"
     ]
    }
   ],
   "source": [
    "x = 10       # x is an integer\n",
    "x = \"Hello\"  # x is now a string\n",
    "print(x)     # Output: Hello"
   ]
  },
  {
   "cell_type": "markdown",
   "metadata": {},
   "source": [
    "## **6. Practice Problems**"
   ]
  },
  {
   "cell_type": "markdown",
   "metadata": {},
   "source": [
    "### **Problem 1: Calculate the Area of a Rectangle**"
   ]
  },
  {
   "cell_type": "code",
   "execution_count": 18,
   "metadata": {},
   "outputs": [
    {
     "name": "stdout",
     "output_type": "stream",
     "text": [
      "The area is 200.0.\n"
     ]
    }
   ],
   "source": [
    "length = float(input(\"Enter the length: \"))\n",
    "width = float(input(\"Enter the width: \"))\n",
    "area = length * width\n",
    "print(f\"The area is {area}.\")"
   ]
  },
  {
   "cell_type": "markdown",
   "metadata": {},
   "source": [
    "### **Problem 2: Convert Celsius to Fahrenheit**"
   ]
  },
  {
   "cell_type": "code",
   "execution_count": 19,
   "metadata": {},
   "outputs": [
    {
     "name": "stdout",
     "output_type": "stream",
     "text": [
      "10.0°C is 50.0°F.\n"
     ]
    }
   ],
   "source": [
    "celsius = float(input(\"Enter temperature in Celsius: \"))\n",
    "fahrenheit = (celsius * 9/5) + 32\n",
    "print(f\"{celsius}°C is {fahrenheit}°F.\")"
   ]
  },
  {
   "cell_type": "markdown",
   "metadata": {},
   "source": [
    "### **Problem 3: Print Variable Types**"
   ]
  },
  {
   "cell_type": "code",
   "execution_count": 20,
   "metadata": {},
   "outputs": [
    {
     "name": "stdout",
     "output_type": "stream",
     "text": [
      "<class 'int'>\n",
      "<class 'float'>\n",
      "<class 'str'>\n"
     ]
    }
   ],
   "source": [
    "a = 10\n",
    "b = 3.14\n",
    "c = \"Python\"\n",
    "print(type(a))  # Output: <class 'int'>\n",
    "print(type(b))  # Output: <class 'float'>\n",
    "print(type(c))  # Output: <class 'str'>"
   ]
  },
  {
   "cell_type": "markdown",
   "metadata": {},
   "source": [
    "### **Problem 4: Calculate the Perimeter of a Circle**"
   ]
  },
  {
   "cell_type": "code",
   "execution_count": 21,
   "metadata": {},
   "outputs": [
    {
     "name": "stdout",
     "output_type": "stream",
     "text": [
      "The perimeter is 62.83.\n"
     ]
    }
   ],
   "source": [
    "radius = float(input(\"Enter the radius: \"))\n",
    "pi = 3.14159\n",
    "perimeter = 2 * pi * radius\n",
    "print(f\"The perimeter is {perimeter:.2f}.\")"
   ]
  },
  {
   "cell_type": "markdown",
   "metadata": {},
   "source": [
    "### **Problem 5: Convert Minutes to Hours and Minutes**"
   ]
  },
  {
   "cell_type": "code",
   "execution_count": 23,
   "metadata": {},
   "outputs": [
    {
     "name": "stdout",
     "output_type": "stream",
     "text": [
      "150 minutes is 2 hours and 30 minutes.\n"
     ]
    }
   ],
   "source": [
    "minutes = int(input(\"Enter the number of minutes: \"))\n",
    "hours = minutes // 60\n",
    "remaining_minutes = minutes % 60\n",
    "print(f\"{minutes} minutes is {hours} hours and {remaining_minutes} minutes.\")"
   ]
  },
  {
   "cell_type": "markdown",
   "metadata": {},
   "source": []
  }
 ],
 "metadata": {
  "kernelspec": {
   "display_name": "venv",
   "language": "python",
   "name": "python3"
  },
  "language_info": {
   "codemirror_mode": {
    "name": "ipython",
    "version": 3
   },
   "file_extension": ".py",
   "mimetype": "text/x-python",
   "name": "python",
   "nbconvert_exporter": "python",
   "pygments_lexer": "ipython3",
   "version": "3.11.3"
  }
 },
 "nbformat": 4,
 "nbformat_minor": 2
}
